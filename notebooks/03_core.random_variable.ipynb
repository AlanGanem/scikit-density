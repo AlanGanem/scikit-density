{
 "cells": [
  {
   "cell_type": "code",
   "execution_count": 1,
   "metadata": {},
   "outputs": [],
   "source": [
    "#default_exp core.random_variable"
   ]
  },
  {
   "cell_type": "markdown",
   "metadata": {},
   "source": [
    "- [ ] TODO: implement kde estimation and entropy estimation\n",
    "- [ ] TODO: make an abstracction for random varriable in order to bring sklearn GMM and kde to same abstractions of sample, etc...\n",
    "- [ ] TODO: make RVArray an instance of np.array\n",
    "- [ ] TODO: make RVarray access attributes for multidimensional RVarrays and return array with same size of result objects"
   ]
  },
  {
   "cell_type": "code",
   "execution_count": 437,
   "metadata": {},
   "outputs": [],
   "source": [
    "#hide\n",
    "from nbdev.showdoc import *"
   ]
  },
  {
   "cell_type": "code",
   "execution_count": null,
   "metadata": {},
   "outputs": [],
   "source": [
    "#TODO: Include GMM from skleaern for multimodal normal"
   ]
  },
  {
   "cell_type": "markdown",
   "metadata": {},
   "source": [
    "# Meta Distributions\n",
    "\n",
    "> Extension of SciPy rv_continuous Class, containing some useful methods for Maximum Likelihood Estimation and other distribution methods."
   ]
  },
  {
   "cell_type": "markdown",
   "metadata": {},
   "source": [
    "## Helper Functions"
   ]
  },
  {
   "cell_type": "code",
   "execution_count": 1,
   "metadata": {},
   "outputs": [],
   "source": [
    "#export\n",
    "from sklearn.preprocessing import QuantileTransformer\n",
    "import scipy.stats as stats\n",
    "import numpy as np\n",
    "import tqdm\n",
    "\n",
    "\n",
    "def ctqdm(iterable, verbose = False, notebook = False,**tqdm_kwargs):\n",
    "    '''\n",
    "    progress bar handler (custom tqdm)\n",
    "    '''\n",
    "    if not verbose:\n",
    "        return iterable\n",
    "    else:\n",
    "        if notebook:\n",
    "            return tqdm.notebook(iterable,**tqdm_kwargs)\n",
    "        else:\n",
    "            return tqdm.tqdm(iterable,**tqdm_kwargs)\n",
    "\n",
    "\n"
   ]
  },
  {
   "cell_type": "markdown",
   "metadata": {},
   "source": [
    "## RandomVariable Class - "
   ]
  },
  {
   "cell_type": "code",
   "execution_count": 47,
   "metadata": {},
   "outputs": [],
   "source": [
    "        \n",
    "class RandomVariable():\n",
    "    '''\n",
    "    A container for distribution objects\n",
    "    '''\n",
    "    \n",
    "    @classmethod\n",
    "    def from_weights(cls, values, weights, n_samples = 100, **ecdf_kwargs):\n",
    "        data = np.random.choice(values,size = n_samples, p = weights)\n",
    "        return cls.__init__(data, **ecdf_kwargs)\n",
    "    \n",
    "    def __init__(self, data, verbose = False, **ecdf_kwargs):        \n",
    "        self.samples = data\n",
    "        self._fitted_dists = {}\n",
    "        self.log_likelihood = []\n",
    "        self.verbose = False\n",
    "        self.ecdf = QuantileTransformer(**ecdf_kwargs).fit(data)\n",
    "        return\n",
    "        \n",
    "    def __getitem__(self, item):\n",
    "        if item == 'best':\n",
    "            try:\n",
    "                item = self._best_fit_alias\n",
    "            except AttributeError:\n",
    "                raise AttributeError('RandomVariable object has no \"best\" fit yet. Fit at least one density function through fit_dist method')\n",
    "        \n",
    "        return self._fitted_dists[item][0]\n",
    "    \n",
    "    #def __repr__(self):\n",
    "    #    return f'RandomVariable({str(self.samples)})'\n",
    "    \n",
    "    def fit_best(self, candidates = ['norm','halfnorm','lognorm']):\n",
    "        #fit all and make alias for best fit\n",
    "        self._fit_all(self.samples, candidates)\n",
    "        self._check_best()\n",
    "        return self\n",
    "    \n",
    "    \n",
    "    def fit_dist(self, dist):\n",
    "        return self._fit_dist(self.samples,dist)\n",
    "    \n",
    "    def _check_best(self):\n",
    "        dists_aliases = list(self._fitted_dists)\n",
    "        dists_arr = np.array([i[1] for i in self._fitted_dists.values()])\n",
    "        best_fit_idx = np.argmax(dists_arr)\n",
    "        self._best_fit_alias = dists_aliases[best_fit_idx]\n",
    "        return\n",
    "    \n",
    "    def _fit_all(self, data, candidates):        \n",
    "        #TODO: check for multiplicity in candidates aliases\n",
    "        for candidate in ctqdm(candidates, verbose = self.verbose):\n",
    "            self.fit_dist(candidate)            \n",
    "        return self\n",
    "\n",
    "    \n",
    "    def _fit_dist(self, data, dist):      \n",
    "        '''\n",
    "        fits a specified distribution through scipy.stats.rv_continuous.fit method\n",
    "        '''\n",
    "        alias, dist_name = self._handle_dist_names(dist)\n",
    "        alias, dist_class = self._get_dist_from_name(alias, dist_name)\n",
    "        if alias.lower() == 'best':\n",
    "            raise ValueError('\"best\" cannot be an alias for a distribution. its internally assgined to the best fit dist')\n",
    "        params = dist_class.fit(data)\n",
    "        log_likelihood = self._get_log_likelihood(data, dist_class, params)\n",
    "        self._fitted_dists = {**self._fitted_dists, **{alias:(dist_class(*params),log_likelihood)}}\n",
    "        self.log_likelihood = list({**dict(self.log_likelihood), **{alias:log_likelihood}}.items())\n",
    "        return self\n",
    "    \n",
    "    def _get_log_likelihood(self, data, dist, params):        \n",
    "        return np.log(np.product(dist.pdf(data,*params)))\n",
    "    \n",
    "    def _get_dist_from_name(self, alias, dist_name):\n",
    "        '''\n",
    "        handles dist_names. if str tries to get an attribute from scipy.stats accordingly\n",
    "        that is also instance of scipy.stats.rv_continuous\n",
    "        '''\n",
    "        if isinstance(dist_name,str):        \n",
    "            if isinstance(getattr(stats,dist_name), stats.rv_continuous):\n",
    "                alias = dist_name\n",
    "                return (alias, getattr(stats,dist_name))\n",
    "            else:\n",
    "                raise ValueError(f'dist must be a valid scipy.stats.rv_continuous instance, not {getattr(stats,dist_name)}')\n",
    "\n",
    "        elif isinstance(dist_name, stats.rv_continuous):\n",
    "            return (alias, dist_name)\n",
    "        else:\n",
    "            raise ValueError(f'dist must be a valid scipy.stats.rv_continuous instance or str, not {dist_name}')\n",
    "    \n",
    "    def _handle_dist_names(self, candidate_value):\n",
    "        '''\n",
    "        checks the inputs in elements of \"candidates\"\n",
    "        returns a named tuple\n",
    "        '''\n",
    "        if isinstance(candidate_value, str):\n",
    "            return candidate_value, candidate_value\n",
    "\n",
    "        elif isinstance(candidate_value, tuple):\n",
    "\n",
    "            if not len(candidate_value) == 2:\n",
    "                raise ValueError(f'candidate named tuple must be of size 2, \"{candidate_value}\" has size {len(candidate_value)}')\n",
    "\n",
    "            if not isinstance(candidate_value[0], str):\n",
    "                raise ValueError(f'a candidate must be a str or named tuple (alias[str],<rv_continuous intance>), alias is of type {candidate_value[0].__class__}')\n",
    "\n",
    "            else:\n",
    "                return candidate_value\n",
    "    \n",
    "    def sample(self, size, dist = 'empirical', **kwargs):\n",
    "        \n",
    "        if dist == 'empirical':\n",
    "            sampled_idxs = np.random.choice([*range(self.samples.shape[0])], size = size, **kwargs)\n",
    "            return self.samples[sampled_idxs]\n",
    "        else:\n",
    "            return self[dist].rvs(size = size, **kwargs)\n",
    "    \n",
    "    def cdf(self, data, dist = 'empirical'):\n",
    "        if dist == 'empirical':\n",
    "            return self.ecdf.transform(data)\n",
    "        else:\n",
    "            return self[dist].cdf(data)\n",
    "    \n",
    "    def pdf(self, data, dist = 'best'):\n",
    "        return self[dist].pdf(data)\n",
    "    \n",
    "    def ppf(self, data, dist = 'empirical'):\n",
    "        if dist == 'empirical':\n",
    "            return self.ecdf.inverse_transform(data)\n",
    "        else:\n",
    "            return self[dist].ppf(data)\n",
    "            \n",
    "        "
   ]
  },
  {
   "cell_type": "markdown",
   "metadata": {},
   "source": [
    "A RandomVariable Class facilitates the process of fitting multiple parametric distributions avalible in https://docs.scipy.org/doc/scipy/reference/stats.html from a data sample, for example:"
   ]
  },
  {
   "cell_type": "code",
   "execution_count": 48,
   "metadata": {},
   "outputs": [
    {
     "name": "stdout",
     "output_type": "stream",
     "text": [
      "Dist args:\n",
      "(2, 0, 1)\n",
      "[('norm', -26.93720539377202), ('halfnorm', -19.524428805168604), ('lognorm', -19.480501239365616)]\n",
      "MLE fitted dist args:\n",
      "(0.5838891807958072, -0.13527731012023725, 0.7932959807999199)\n"
     ]
    },
    {
     "name": "stderr",
     "output_type": "stream",
     "text": [
      "C:\\Anaconda3\\lib\\site-packages\\sklearn\\preprocessing\\_data.py:2370: UserWarning: n_quantiles (1000) is greater than the total number of samples (30). n_quantiles is set to n_samples.\n",
      "  % (self.n_quantiles, n_samples))\n"
     ]
    },
    {
     "data": {
      "text/plain": [
       "<matplotlib.axes._subplots.AxesSubplot at 0x18d90fe0448>"
      ]
     },
     "execution_count": 48,
     "metadata": {},
     "output_type": "execute_result"
    },
    {
     "data": {
      "image/png": "[encoded data removed]",
      "text/plain": [
       "<Figure size 432x288 with 1 Axes>"
      ]
     },
     "metadata": {
      "needs_background": "light"
     },
     "output_type": "display_data"
    }
   ],
   "source": [
    "import seaborn as sns\n",
    "dist_args = (2,0,1)\n",
    "\n",
    "#data = stats.lognorm.rvs(dist_args[0], loc = dist_args[1], scale = dist_args[2], size = 30)\n",
    "data = stats.halfnorm.rvs(loc = dist_args[1], scale = dist_args[2], size = [30,1])\n",
    "rv = RandomVariable(data)\n",
    "rv.fit_best(candidates = ['norm','halfnorm','lognorm'])\n",
    "\n",
    "mle_samples = rv['best'].rvs([100,1])\n",
    "#plot distributions\n",
    "\n",
    "print('Dist args:')\n",
    "print(dist_args)\n",
    "print(rv.log_likelihood)\n",
    "print('MLE fitted dist args:')\n",
    "print(rv['best'].args)\n",
    "\n",
    "sns.distplot(data)\n",
    "sns.distplot(mle_samples)\n"
   ]
  },
  {
   "cell_type": "markdown",
   "metadata": {},
   "source": [
    "## RVArray - "
   ]
  },
  {
   "cell_type": "code",
   "execution_count": 49,
   "metadata": {},
   "outputs": [],
   "source": [
    "#check for np.vectorize for vectorized methods\n",
    "from functools import partial\n",
    "\n",
    "class RVArray():\n",
    "    '''\n",
    "    An array that contains RandomVariable objects and facilitates method calls and getting attributes\n",
    "    '''\n",
    "    def __init__(self, data):\n",
    "        ''' the constructor recieves a list of RandomVariable items'''\n",
    "        self.data = np.array(data)\n",
    "    \n",
    "    def __getattr__(self, attr):\n",
    "        attr_list = [getattr(i,attr) for i in self.data]                \n",
    "        return RVArray(attr_list)      \n",
    "    \n",
    "    def __call__(self, *args, **kwargs):\n",
    "        results = [i(*args,**kwargs) for i in self.data]\n",
    "        if all([isinstance(i,np.ndarray) for i in results]):\n",
    "            return np.array(results)\n",
    "        else:\n",
    "            return RVArray(results)\n",
    "    \n",
    "    def __getitem__(self, *args):\n",
    "\n",
    "        if len(args) > 1:\n",
    "            return RVArray(self.data[args])\n",
    "        else:\n",
    "            if args[0].__class__ == str:\n",
    "                return RVArray([i[args[0]] for i in self.data])\n",
    "            else:\n",
    "                return self.data[args]      \n",
    "    \n",
    "    def __repr__(self):\n",
    "        return f'RVArray({str(self.data)})'"
   ]
  },
  {
   "cell_type": "markdown",
   "metadata": {},
   "source": [
    "A RVArray is a data sctructure tthat facilitates handling multiple RandomVariable objects, assessing RandomVariable methods and attributes in a vectorwise fashion"
   ]
  },
  {
   "cell_type": "code",
   "execution_count": 59,
   "metadata": {},
   "outputs": [
    {
     "name": "stderr",
     "output_type": "stream",
     "text": [
      "C:\\Anaconda3\\lib\\site-packages\\sklearn\\preprocessing\\_data.py:2370: UserWarning: n_quantiles (1000) is greater than the total number of samples (100). n_quantiles is set to n_samples.\n",
      "  % (self.n_quantiles, n_samples))\n"
     ]
    },
    {
     "data": {
      "text/plain": [
       "array([[[0.9449261 ],\n",
       "        [0.45093506],\n",
       "        [0.64917819],\n",
       "        [0.09280919],\n",
       "        [1.33365848],\n",
       "        [0.51471548],\n",
       "        [0.9449261 ],\n",
       "        [0.20778676],\n",
       "        [1.33365848],\n",
       "        [0.39920725]],\n",
       "\n",
       "       [[0.46301309],\n",
       "        [0.61523009],\n",
       "        [0.39394393],\n",
       "        [0.57511211],\n",
       "        [0.46301309],\n",
       "        [0.54276802],\n",
       "        [0.96136981],\n",
       "        [0.71231938],\n",
       "        [0.87036494],\n",
       "        [0.63894518]]])"
      ]
     },
     "execution_count": 59,
     "metadata": {},
     "output_type": "execute_result"
    }
   ],
   "source": [
    "rv2 = RandomVariable(mle_samples)\n",
    "rv_arr = RVArray([rv,rv2])\n",
    "rv_arr.fit_dist('norm')\n",
    "rv_arr.sample(size = 10)"
   ]
  },
  {
   "cell_type": "code",
   "execution_count": 39,
   "metadata": {},
   "outputs": [
    {
     "data": {
      "text/plain": [
       "array([0.02168409, 0.9791109 , 0.02412975, 0.94623213])"
      ]
     },
     "execution_count": 39,
     "metadata": {},
     "output_type": "execute_result"
    }
   ],
   "source": [
    "rv_arr['best'].args.data.flatten()"
   ]
  },
  {
   "cell_type": "code",
   "execution_count": null,
   "metadata": {},
   "outputs": [],
   "source": [
    "def get_entropy(X):\n",
    "   if len(X.shape)==1:\n",
    "       X=X.reshape(-1,1)\n",
    "   params = {'bandwidth': np.logspace(-10, 10, 20)}\n",
    "   gs = GridSearchCV(KernelDensity(), params)\n",
    "   gs.fit(X)\n",
    "   kde=gs.best_estimator_\n",
    "   log_probs=kde.score_samples(X)\n",
    "   return -np.mean(log_probs)"
   ]
  }
 ],
 "metadata": {
  "kernelspec": {
   "display_name": "Python 3",
   "language": "python",
   "name": "python3"
  },
  "language_info": {
   "codemirror_mode": {
    "name": "ipython",
    "version": 3
   },
   "file_extension": ".py",
   "mimetype": "text/x-python",
   "name": "python",
   "nbconvert_exporter": "python",
   "pygments_lexer": "ipython3",
   "version": "3.7.6"
  },
  "latex_envs": {
   "LaTeX_envs_menu_present": true,
   "autoclose": false,
   "autocomplete": true,
   "bibliofile": "biblio.bib",
   "cite_by": "apalike",
   "current_citInitial": 1,
   "eqLabelWithNumbers": true,
   "eqNumInitial": 1,
   "hotkeys": {
    "equation": "Ctrl-E",
    "itemize": "Ctrl-I"
   },
   "labels_anchors": false,
   "latex_user_defs": false,
   "report_style_numbering": false,
   "user_envs_cfg": false
  },
  "toc": {
   "base_numbering": 1,
   "nav_menu": {},
   "number_sections": true,
   "sideBar": true,
   "skip_h1_title": false,
   "title_cell": "Table of Contents",
   "title_sidebar": "Contents",
   "toc_cell": false,
   "toc_position": {},
   "toc_section_display": true,
   "toc_window_display": false
  }
 },
 "nbformat": 4,
 "nbformat_minor": 4
}
