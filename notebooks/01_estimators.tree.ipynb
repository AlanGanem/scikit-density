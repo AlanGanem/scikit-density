{
 "cells": [
  {
   "cell_type": "code",
   "execution_count": null,
   "metadata": {},
   "outputs": [],
   "source": [
    "#default_exp estimators.tree"
   ]
  },
  {
   "cell_type": "markdown",
   "metadata": {},
   "source": [
    "- [X] TODO: Solve Tree Predict mistery\n",
    "- [ ] TODO: make gaussian process interface\n",
    "- [ ] TODO: make meta bagged randomized prior class\n",
    "\n",
    "\n",
    "- [X] TODO: make boosting and baging tree estimator classes\n",
    "- [X] TODO: implement bagging and boosting meta estimator (include sampling from sub models)\n",
    "- [X] TODO: include target scaling in pipeline\n",
    "- [ ] TODO: make a \"density\" method, that returns a RandomVariable class\n",
    "- [ ] TODO: Create DensityEstimator Base Class containing sample and density methods (density calls sample and returns RV CLASS)\n",
    "- [ ] TODO: Mean and Variance explainer tool (LIME or SHAP)"
   ]
  },
  {
   "cell_type": "code",
   "execution_count": 1,
   "metadata": {},
   "outputs": [],
   "source": [
    "#hide\n",
    "from nbdev.showdoc import *"
   ]
  },
  {
   "cell_type": "markdown",
   "metadata": {},
   "source": [
    "# Tree based density estimators -\n",
    "\n",
    "Density estimators based on DecisionTree algorithms. They're very useful because they handle well heterogeneous data"
   ]
  },
  {
   "cell_type": "code",
   "execution_count": 2,
   "metadata": {},
   "outputs": [],
   "source": [
    "#export\n",
    "from warnings import warn\n",
    "\n",
    "import numpy as np\n",
    "import pandas as pd\n",
    "from sklearn.ensemble import RandomForestRegressor, ExtraTreesRegressor, GradientBoostingRegressor\n",
    "from sklearn.preprocessing import OneHotEncoder, normalize, QuantileTransformer, FunctionTransformer\n",
    "from sklearn.multioutput import MultiOutputRegressor\n",
    "\n",
    "try:\n",
    "    from sparse_dot_topn import awesome_cossim_topn\n",
    "except ImportError as e:\n",
    "    warn(f\"{e}\")\n",
    "    warn(\"sparse_dot_topn module not installed, will use sklearn NearestNeighbors for vector query\")\n",
    "    "
   ]
  },
  {
   "cell_type": "code",
   "execution_count": 459,
   "metadata": {},
   "outputs": [],
   "source": [
    "# export\n",
    "\n",
    "def cos_sim_query(query_vector, query_space, n_neighbors=50, lower_bound=0.0):\n",
    "    \n",
    "    try:\n",
    "        sim_matrix = normalize(awesome_cossim_topn(query_vector, query_space.T,\n",
    "                                         ntop=n_neighbors, lower_bound=lower_bound))\n",
    "        \n",
    "    except NameError:\n",
    "        \n",
    "        sim_matrix = normalize(query_vector.dot(query_space.T))\n",
    "        \n",
    "        \n",
    "    sim_matrix = sim_matrix.tocoo()\n",
    "    indexes = []\n",
    "    sim = []\n",
    "    for row in range(sim_matrix.shape[0]):\n",
    "        sim.append(sim_matrix.data[sim_matrix.row == row])\n",
    "        indexes.append(sim_matrix.col[sim_matrix.row == row])\n",
    "        \n",
    "    return indexes, sim\n",
    "\n",
    "\n",
    "class CustomMultiOutputRegressor(MultiOutputRegressor):\n",
    "    '''Custom multioutput for multioutput cases except random forests (which handles multi output directly)'''\n",
    "    def apply(self,X):\n",
    "        result = [estim.apply(X) for estim in self.estimators_]\n",
    "        return np.concatenate(result, axis = -1)\n",
    "\n",
    "class EnsembleTreesDensityBase:    \n",
    "    '''Base Class containing important methods for building Naive and Similarity Density Tree estimators'''\n",
    "    def _fit_leaf_sample_graph(self, X):\n",
    "        nodes_array = self.apply(X)\n",
    "        encoder = OneHotEncoder()\n",
    "        self.leaf_node_graph = encoder.fit_transform(nodes_array)\n",
    "        self.encoder = encoder\n",
    "\n",
    "    def _make_leaf_node_graph(self, X):\n",
    "        return self.encoder.transform(self.apply(X))\n",
    "\n",
    "    def _make_leaf_node_data(self, X, y):\n",
    "        # create node to data mapper\n",
    "        y = pd.DataFrame(y)\n",
    "        node_indexes = self.apply(X)\n",
    "        tree_node_values_mapper_list = []\n",
    "        for tree in range(node_indexes.shape[1]):\n",
    "            tree_node_values_mapper_list.append(dict(\n",
    "                y.assign(_NODE=node_indexes[:, tree]).groupby('_NODE').apply(\n",
    "                    lambda x: [x[col].values.tolist() for col in x if not col == '_NODE'])))\n",
    "        return dict(enumerate(tree_node_values_mapper_list))\n",
    "    \n",
    "    def _query_idx_and_sim(self, X, n_neighbors, lower_bound):\n",
    "        idx, sim = cos_sim_query(\n",
    "            self._make_leaf_node_graph(X), self.leaf_node_graph, n_neighbors=n_neighbors, lower_bound=lower_bound)        \n",
    "        return idx, sim\n",
    "    \n",
    "    def _similarity_sample(self, X, n_samples = 100, n_neighbors = 10, lower_bound = 0.0, sample_weights = None, alpha = 1):\n",
    "        idx, sim = self._query_idx_and_sim(X ,n_neighbors=n_neighbors, lower_bound=lower_bound)                \n",
    "        p = self._handle_sample_weights(sample_weights, sim, alpha)        \n",
    "        samples = []\n",
    "        for i in range(len(idx)):            \n",
    "            sampled_idxs = np.random.choice(idx[i], size = n_samples, replace = True, p = p[i])\n",
    "            samples.append(self.y_[sampled_idxs])\n",
    "        \n",
    "        return np.array(samples)\n",
    "    \n",
    "    def _similarity_emprical_pdf(self, X, n_neighbors = 30, lower_bound = 0, sample_weights = None, alpha = 1):\n",
    "        idx, sim = cos_sim_query(\n",
    "            self._make_leaf_node_graph(X),\n",
    "            self.leaf_node_graph,\n",
    "            n_neighbors=n_neighbors, lower_bound=lower_bound)\n",
    "        p = self._handle_sample_weights(sample_weights, sim, alpha)        \n",
    "        return [self.y_[i] for i in idx], p\n",
    "    \n",
    "    def sim_predict(self, X):\n",
    "        values, weights = _similarity_emprical_pdf(self, X, n_neighbors = 30, lower_bound = 0, sample_weights = None, alpha = 1)\n",
    "        return np.average(values, weights = weights)\n",
    "    \n",
    "    def _handle_sample_weights(self, sample_weights, sim, alpha):\n",
    "        if sample_weights is None:                        \n",
    "            return [normalize((i**alpha).reshape(1,-1) + 1e-9, norm = 'l1').flatten() for i in sim]            \n",
    "        else:\n",
    "            return [normalize((sample_weights(i)).reshape(1,-1) + 1e-9, norm = 'l1').flatten() for i in sim]\n",
    "    \n",
    "    def _streaming_fit(self, X):\n",
    "        '''\n",
    "        Adds new data to leaf nodes, kind of like a posterior\n",
    "        '''\n",
    "        \n",
    "# any tree regressor can be used as long as it has a apply method which returns the leaf nodes\n",
    "        \n",
    "class SimilarityForestMixin(EnsembleTreesDensityBase):\n",
    "        \n",
    "    def fit(self, X, y = None):        \n",
    "        self.estimator.fit(X,y)        \n",
    "        self._fit_leaf_sample_graph(X)\n",
    "        self.y_ = y\n",
    "        return self\n",
    "    \n",
    "    def sample(self, X, n_samples = 100, n_neighbors = 10, lower_bound = 0.0, sample_weights = None, alpha = 1):\n",
    "        return self._similarity_sample(X, n_samples, n_neighbors, lower_bound, sample_weights, alpha)\n",
    "\n",
    "class NaiveForestMixin(EnsembleTreesDensityBase):\n",
    "    \n",
    "    def fit(self, X, y = None):\n",
    "        self.estimator.fit(X,y)\n",
    "        self.tree_node_values_mapper = self._make_leaf_node_data(X, y)\n",
    "        self.y_dim = y.shape[-1] if len(y.shape) > 1 else 1\n",
    "        return self\n",
    "\n",
    "    def sample(self, X):\n",
    "        node_indexes = self.apply(X)\n",
    "        drawn_samples = []\n",
    "        for sample in range(node_indexes.shape[0]):\n",
    "            row_samples = [[] for _ in range(self.y_dim)]\n",
    "            for tree in range(node_indexes.shape[1]):\n",
    "                node = node_indexes[sample, tree]\n",
    "                sampled_values = self.tree_node_values_mapper[tree][node]\n",
    "                for dimension in range(len(sampled_values)):\n",
    "                    row_samples[dimension] += sampled_values[dimension]\n",
    "            drawn_samples.append(np.array(row_samples).reshape(-1,self.y_dim))\n",
    "        return drawn_samples\n",
    "\n",
    "\n",
    "class SimilarityTreeEnsemble(SimilarityForestMixin):\n",
    "    def __init__(self, estimator):\n",
    "        self.estimator = estimator\n",
    "        return\n",
    "    def __getattr__(self, attr):        \n",
    "        try:\n",
    "            return getattr(super(),attr)\n",
    "        except AttributeError:\n",
    "            return getattr(self.estimator, attr)\n",
    "    \n",
    "    def __repr__(self):\n",
    "        return self.__class__.__name__\n",
    "    \n",
    "    def __getitem__(self, idx):\n",
    "        return self.estimator[idx]\n",
    "    \n",
    "class NaiveTreeEnsemble(NaiveForestMixin):\n",
    "    def __init__(self, estimator):\n",
    "        self.estimator = estimator\n",
    "        return\n",
    "    def __getattr__(self, attr):        \n",
    "        try:\n",
    "            return getattr(super(),attr)\n",
    "        except AttributeError:\n",
    "            return getattr(self.estimator, attr)\n",
    "    \n",
    "    def __repr__(self):\n",
    "        return self.__class__.__name__\n",
    "    \n",
    "    def __getitem__(self, idx):\n",
    "        return self.estimator[idx]"
   ]
  },
  {
   "cell_type": "markdown",
   "metadata": {},
   "source": [
    "## TreeEstimator - \n",
    "\n",
    "Estimates the conditional distribution based on leaf samples"
   ]
  },
  {
   "cell_type": "code",
   "execution_count": null,
   "metadata": {},
   "outputs": [],
   "source": []
  },
  {
   "cell_type": "markdown",
   "metadata": {},
   "source": [
    "## NaiveForestEstimator - \n",
    "\n",
    "Estimates the conditional distribution based on leaf samples of all generated trees in the forest"
   ]
  },
  {
   "cell_type": "code",
   "execution_count": null,
   "metadata": {},
   "outputs": [],
   "source": []
  },
  {
   "cell_type": "markdown",
   "metadata": {},
   "source": [
    "# ForestSimilarityEstimator - \n",
    "\n",
    "Estimates the conditional distribution based on samples from dataset taking into account the `leaf_sample_graph`"
   ]
  },
  {
   "cell_type": "code",
   "execution_count": null,
   "metadata": {},
   "outputs": [],
   "source": []
  },
  {
   "cell_type": "code",
   "execution_count": null,
   "metadata": {},
   "outputs": [],
   "source": []
  },
  {
   "cell_type": "markdown",
   "metadata": {},
   "source": [
    "## Tests"
   ]
  },
  {
   "cell_type": "code",
   "execution_count": 901,
   "metadata": {},
   "outputs": [
    {
     "data": {
      "image/png": "[encoded data removed]",
      "text/plain": [
       "<Figure size 432x432 with 3 Axes>"
      ]
     },
     "metadata": {
      "needs_background": "light"
     },
     "output_type": "display_data"
    }
   ],
   "source": [
    "#\n",
    "import seaborn as sns\n",
    "from sklearn.datasets import make_regression\n",
    "from sklearn.preprocessing import QuantileTransformer\n",
    "from xgboost import XGBRegressor\n",
    "def make_heterogeneous_regression():\n",
    "    pass\n",
    "\n",
    "X,y = make_regression(\n",
    "    n_samples=10000,\n",
    "    n_features=30,\n",
    "    n_informative=15,\n",
    "    n_targets=2,\n",
    "    bias=900,\n",
    "    effective_rank=None,\n",
    "    tail_strength=2,\n",
    "    noise=0.2,\n",
    "    shuffle=True,\n",
    "    coef=False,\n",
    "    random_state=None\n",
    ")\n",
    "\n",
    "bimodal_msk = np.random.randint(0,2,y.shape[0]).astype(bool)\n",
    "\n",
    "y[bimodal_msk] = -abs(y[bimodal_msk])\n",
    "\n",
    "\n",
    "#sns.distplot(y)\n",
    "sns.jointplot(y[:,0],y[:,1])\n",
    "\n",
    "X_train, X_test = X[:8000], X[8000:]\n",
    "y_train, y_test = y[:8000], y[8000:]"
   ]
  },
  {
   "cell_type": "code",
   "execution_count": 902,
   "metadata": {},
   "outputs": [],
   "source": [
    "qt = QuantileTransformer(output_distribution = 'normal')\n",
    "y_train = qt.fit_transform(y_train)\n",
    "y_test = qt.transform(y_test)"
   ]
  },
  {
   "cell_type": "code",
   "execution_count": 903,
   "metadata": {},
   "outputs": [],
   "source": [
    "estimator = RandomForestRegressor(n_estimators = 10,min_samples_leaf = 5)#CustomMultiOutputRegressor(RandomForestRegressor(n_estimators = 10,min_samples_leaf = 3), n_jobs = -1)\n",
    "#estimator = CustomMultiOutputRegressor(XGBRegressor())\n",
    "density_estimator = SimilarityTreeEnsemble(estimator).fit(X_train,y_train)"
   ]
  },
  {
   "cell_type": "code",
   "execution_count": 904,
   "metadata": {},
   "outputs": [],
   "source": [
    "val_set = X_test, y_test\n",
    "samples = density_estimator.sample(val_set[0], alpha = 0.5, n_neighbors = 100, n_samples = 100,lower_bound = 0.8)\n",
    "preds = (density_estimator.predict(val_set[0]))\n",
    "\n",
    "sample_preds = samples.mean(axis = 1)"
   ]
  },
  {
   "cell_type": "code",
   "execution_count": 905,
   "metadata": {},
   "outputs": [
    {
     "data": {
      "text/plain": [
       "<matplotlib.collections.PathCollection at 0x1199ed4dbc8>"
      ]
     },
     "execution_count": 905,
     "metadata": {},
     "output_type": "execute_result"
    },
    {
     "data": {
      "image/png": "[encoded data removed]",
      "text/plain": [
       "<Figure size 432x432 with 3 Axes>"
      ]
     },
     "metadata": {
      "needs_background": "light"
     },
     "output_type": "display_data"
    }
   ],
   "source": [
    "point += 1\n",
    "jntplot = sns.jointplot(samples[point][:,0], samples[point][:,1], alpha = 1)\n",
    "\n",
    "jntplot.ax_joint.scatter(val_set[1][point,0], val_set[1][point,1], color = 'r')\n",
    "jntplot.ax_joint.scatter(preds[point,0], preds[point,1], color = 'g', marker = 'X', s = 100)\n",
    "jntplot.ax_joint.scatter(sample_preds[point,0], sample_preds[point,1], color = 'r', marker = 'X', s = 100)\n",
    "\n",
    "#dstplot = sns.distplot(samples[point])\n",
    "#dstplot.axvline(val_set[1][point], color = 'r')"
   ]
  },
  {
   "cell_type": "code",
   "execution_count": 869,
   "metadata": {},
   "outputs": [
    {
     "data": {
      "text/plain": [
       "(-0.048965319089689374, -0.08827687337498324)"
      ]
     },
     "execution_count": 869,
     "metadata": {},
     "output_type": "execute_result"
    }
   ],
   "source": [
    "from sklearn.metrics import r2_score\n",
    "\n",
    "r2_score(val_set[1],sample_preds), r2_score(val_set[1],density_estimator.predict(val_set[0]))"
   ]
  },
  {
   "cell_type": "code",
   "execution_count": null,
   "metadata": {},
   "outputs": [],
   "source": []
  }
 ],
 "metadata": {
  "kernelspec": {
   "display_name": "Python 3",
   "language": "python",
   "name": "python3"
  },
  "language_info": {
   "codemirror_mode": {
    "name": "ipython",
    "version": 3
   },
   "file_extension": ".py",
   "mimetype": "text/x-python",
   "name": "python",
   "nbconvert_exporter": "python",
   "pygments_lexer": "ipython3",
   "version": "3.7.6"
  },
  "latex_envs": {
   "LaTeX_envs_menu_present": true,
   "autoclose": false,
   "autocomplete": true,
   "bibliofile": "biblio.bib",
   "cite_by": "apalike",
   "current_citInitial": 1,
   "eqLabelWithNumbers": true,
   "eqNumInitial": 1,
   "hotkeys": {
    "equation": "Ctrl-E",
    "itemize": "Ctrl-I"
   },
   "labels_anchors": false,
   "latex_user_defs": false,
   "report_style_numbering": false,
   "user_envs_cfg": false
  },
  "toc": {
   "base_numbering": 1,
   "nav_menu": {},
   "number_sections": true,
   "sideBar": true,
   "skip_h1_title": false,
   "title_cell": "Table of Contents",
   "title_sidebar": "Contents",
   "toc_cell": false,
   "toc_position": {},
   "toc_section_display": true,
   "toc_window_display": false
  }
 },
 "nbformat": 4,
 "nbformat_minor": 4
}
