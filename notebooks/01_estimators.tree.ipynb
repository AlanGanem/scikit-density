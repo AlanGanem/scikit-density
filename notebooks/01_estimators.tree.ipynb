{
 "cells": [
  {
   "cell_type": "code",
   "execution_count": 2,
   "metadata": {},
   "outputs": [],
   "source": [
    "#default_exp estimators.tree\n",
    "\n",
    "#TODO: make gaussian process interface\n",
    "#TODO: make meta bagged randomized prior class\n",
    "#TODO: make gaussian likelihood partition criteria in forest - MAY NOT BE POSSIBLE DUE TO SKLEARN IMPLEMENTATION\n",
    "#TODO: implement EmpiricalDistribution Class\n",
    "#TODO: make boosting meta estimators using tree weights in sampling process\n",
    "#TODO: implement bagging and boosting meta estimator (include sampling from sub models)\n",
    "#TODO: include target scaling in pipeline\n",
    "#TODO: instead of sampling, return an empirical distribution (histograms) with value and normalized frequency (proportional to similarity)"
   ]
  },
  {
   "cell_type": "code",
   "execution_count": 3,
   "metadata": {},
   "outputs": [],
   "source": [
    "#hide\n",
    "from nbdev.showdoc import *"
   ]
  },
  {
   "cell_type": "markdown",
   "metadata": {},
   "source": [
    "# Tree based density estimators -\n",
    "\n",
    "Density estimators based on DecisionTree algorithms. They're very useful because they handle well heterogeneous data"
   ]
  },
  {
   "cell_type": "code",
   "execution_count": 166,
   "metadata": {},
   "outputs": [],
   "source": [
    "#export\n",
    "from warnings import warn\n",
    "\n",
    "import numpy as np\n",
    "import pandas as pd\n",
    "from sklearn.ensemble import RandomForestRegressor, ExtraTreesRegressor, GradientBoostingRegressor\n",
    "from sklearn.preprocessing import OneHotEncoder, normalize, QuantileTransformer, FunctionTransformer\n",
    "from sklearn.multioutput import MultiOutputRegressor\n",
    "\n",
    "try:\n",
    "    from sparse_dot_topn import awesome_cossim_topn\n",
    "except ImportError as e:\n",
    "    warn(f\"{e}\")\n",
    "    warn(\"sparse_dot_topn module not installed, will use sklearn NearestNeighbors for vector query\")\n",
    "    "
   ]
  },
  {
   "cell_type": "code",
   "execution_count": 199,
   "metadata": {},
   "outputs": [],
   "source": [
    "# export\n",
    "\n",
    "def cos_sim_query(query_vector, query_space, n_neighbors=50, lower_bound=0.0):\n",
    "    \n",
    "    try:\n",
    "        sim_matrix = awesome_cossim_topn(normalize(query_vector), normalize(query_space).T,\n",
    "                                         ntop=n_neighbors, lower_bound=lower_bound)\n",
    "    except NameError:\n",
    "        sim_matrix = None\n",
    "        raise NotImplementedError('Implement sim_matrix calculation using some SKlearn avalible method and returning topn')\n",
    "        \n",
    "    sim_matrix = sim_matrix.tocoo()\n",
    "    indexes = []\n",
    "    sim = []\n",
    "    for row in range(len(X)):\n",
    "        sim.append(sim_matrix.data[sim_matrix.row == row])\n",
    "        indexes.append(sim_matrix.col[sim_matrix.row == row])\n",
    "        \n",
    "    return indexes, sim\n",
    "\n",
    "\n",
    "class CustomMultiOutputRegressor(MultiOutputRegressor):\n",
    "    '''Custom multioutput for multioutput cases except random forests (which handles multi output directly)'''\n",
    "    def apply(self,X):\n",
    "        result = [estim.apply(X) for estim in self.estimators_]\n",
    "        return np.concatenate(result, axis = -1)\n",
    "\n",
    "class EnsembleTreesDensityBase:    \n",
    "    '''Base Class containing important methods for building Naive and Similarity Density Tree estimators'''\n",
    "    def _fit_leaf_sample_graph(self, X):\n",
    "        nodes_array = self.apply(X)\n",
    "        encoder = OneHotEncoder()\n",
    "        self.leaf_node_graph = encoder.fit_transform(nodes_array)\n",
    "        self.encoder = encoder\n",
    "\n",
    "    def _make_leaf_node_graph(self, X):\n",
    "        return self.encoder.transform(self.apply(X))\n",
    "\n",
    "    def _make_leaf_node_data(self, X, y):\n",
    "        # create node to data mapper\n",
    "        y = pd.DataFrame(y)\n",
    "        node_indexes = self.apply(X)\n",
    "        tree_node_values_mapper_list = []\n",
    "        for tree in range(node_indexes.shape[1]):\n",
    "            tree_node_values_mapper_list.append(dict(\n",
    "                y.assign(_NODE=node_indexes[:, tree]).groupby('_NODE').apply(\n",
    "                    lambda x: [x[col].values.tolist() for col in x if not col == '_NODE'])))\n",
    "        return dict(enumerate(tree_node_values_mapper_list))\n",
    "    \n",
    "    def _similarity_sample(self, X, n_samples = 100, n_neighbors = 10, lower_bound = 0.0, sample_weights = None, alpha = 1):\n",
    "        idx, sim = cos_sim_query(\n",
    "            self._make_leaf_node_graph(X), self.leaf_node_graph, n_neighbors=n_neighbors, lower_bound=lower_bound)        \n",
    "                \n",
    "        p = self._handle_sample_weights(sample_weights, sim, alpha)        \n",
    "        samples = []\n",
    "        for i in range(len(idx)):            \n",
    "            sampled_idxs = np.random.choice(idx[i], size = n_samples, replace = True, p = p[i])\n",
    "            samples.append(self.y_[sampled_idxs])\n",
    "        \n",
    "        return np.array(samples)\n",
    "    \n",
    "    def _similarity_emprical_pdf(self, X, n_neighbors = 30, lower_bound = 0.0, sample_weights = None, alpha = 1):\n",
    "        idx, sim = cos_sim_query(\n",
    "            self._make_leaf_node_graph(X), self.leaf_node_graph, n_neighbors=n_neighbors, lower_bound=lower_bound)\n",
    "        p = self._handle_sample_weights(sample_weights, sim, alpha)\n",
    "    \n",
    "    def _handle_sample_weights(self, sample_weights, sim, alpha):\n",
    "        \n",
    "        if sample_weights is None:            \n",
    "            return [normalize((i**alpha).reshape(1,-1) + 1e-9, norm = 'l1').flatten() for i in sim]            \n",
    "        \n",
    "        else:\n",
    "            return [normalize((sample_weights(i)).reshape(1,-1) + 1e-9, norm = 'l1').flatten() for i in sim]\n",
    "        \n",
    "# any tree regressor can be used as long as it has a apply method which returns the leaf nodes\n",
    "        \n",
    "class SimilarityForestMixin(EnsembleTreesDensityBase):\n",
    "        \n",
    "    def fit(self, X, y = None):        \n",
    "        self.estimator.fit(X,y)        \n",
    "        self._fit_leaf_sample_graph(X)\n",
    "        self.y_ = y\n",
    "        return self\n",
    "    \n",
    "    def sample(self, X, n_samples = 100, n_neighbors = 10, lower_bound = 0.0, sample_weights = None, alpha = 1):\n",
    "        return self._similarity_sample(X, n_samples, n_neighbors, lower_bound, sample_weights, alpha)\n",
    "\n",
    "class NaiveForestMixin(EnsembleTreesDensityBase):\n",
    "    \n",
    "    def fit(self, X, y = None):\n",
    "        self.estimator.fit(X,y)\n",
    "        self.tree_node_values_mapper = self._make_leaf_node_data(X, y)\n",
    "        self.y_dim = y.shape[-1] if len(y.shape) > 1 else 1\n",
    "        return self\n",
    "\n",
    "    def sample(self, X):\n",
    "        node_indexes = self.apply(X)\n",
    "        drawn_samples = []\n",
    "        for sample in range(node_indexes.shape[0]):\n",
    "            row_samples = [[] for _ in range(self.y_dim)]\n",
    "            for tree in range(node_indexes.shape[1]):\n",
    "                node = node_indexes[sample, tree]\n",
    "                sampled_values = self.tree_node_values_mapper[tree][node]\n",
    "                for dimension in range(len(sampled_values)):\n",
    "                    row_samples[dimension] += sampled_values[dimension]\n",
    "            drawn_samples.append(np.array(row_samples).reshape(-1,self.y_dim))\n",
    "        return drawn_samples\n",
    "\n",
    "\n",
    "class SimilarityTreeEnsemble(SimilarityForestMixin):\n",
    "    def __init__(self, estimator):\n",
    "        self.estimator = estimator\n",
    "        return\n",
    "    def __getattr__(self, attr):        \n",
    "        try:\n",
    "            return getattr(super(),attr)\n",
    "        except AttributeError:\n",
    "            return getattr(self.estimator, attr)\n",
    "    \n",
    "class NaiveTreeEnsemble(NaiveForestMixin):\n",
    "    def __init__(self, estimator):\n",
    "        self.estimator = estimator\n",
    "        return\n",
    "    def __getattr__(self, attr):        \n",
    "        try:\n",
    "            return getattr(super(),attr)\n",
    "        except AttributeError:\n",
    "            return getattr(self.estimator, attr)\n",
    "\n",
    "    \n",
    "    \n",
    "class SimilarityExtraTrees(SimilarityForestMixin, ExtraTreesRegressor):\n",
    "    pass\n",
    "\n",
    "class NaiveRandomForest(NaiveForestMixin, RandomForestRegressor):\n",
    "    pass\n",
    "\n",
    "class NaiveExtraTrees(NaiveForestMixin, ExtraTreesRegressor):\n",
    "    pass"
   ]
  },
  {
   "cell_type": "markdown",
   "metadata": {},
   "source": [
    "## TreeEstimator - \n",
    "\n",
    "Estimates the conditional distribution based on leaf samples"
   ]
  },
  {
   "cell_type": "code",
   "execution_count": null,
   "metadata": {},
   "outputs": [],
   "source": []
  },
  {
   "cell_type": "markdown",
   "metadata": {},
   "source": [
    "## NaiveForestEstimator - \n",
    "\n",
    "Estimates the conditional distribution based on leaf samples of all generated trees in the forest"
   ]
  },
  {
   "cell_type": "code",
   "execution_count": null,
   "metadata": {},
   "outputs": [],
   "source": []
  },
  {
   "cell_type": "markdown",
   "metadata": {},
   "source": [
    "# ForestSimilarityEstimator - \n",
    "\n",
    "Estimates the conditional distribution based on samples from dataset taking into account the `leaf_sample_graph`"
   ]
  },
  {
   "cell_type": "code",
   "execution_count": null,
   "metadata": {},
   "outputs": [],
   "source": []
  },
  {
   "cell_type": "code",
   "execution_count": null,
   "metadata": {},
   "outputs": [],
   "source": []
  },
  {
   "cell_type": "markdown",
   "metadata": {},
   "source": [
    "## Tests"
   ]
  },
  {
   "cell_type": "code",
   "execution_count": 200,
   "metadata": {},
   "outputs": [],
   "source": [
    "#\n",
    "import seaborn as sns\n",
    "from sklearn.datasets import make_regression\n",
    "from sklearn.preprocessing import QuantileTransformer\n",
    "def make_heterogeneous_regression():\n",
    "    pass\n",
    "\n",
    "X,y = make_regression(\n",
    "    n_samples=10000,\n",
    "    n_features=30,\n",
    "    n_informative=15,\n",
    "    n_targets=2,\n",
    "    bias=0.5,\n",
    "    effective_rank=None,\n",
    "    tail_strength=1,\n",
    "    noise=0.2,\n",
    "    shuffle=True,\n",
    "    coef=False,\n",
    "    random_state=None\n",
    ")"
   ]
  },
  {
   "cell_type": "code",
   "execution_count": 201,
   "metadata": {},
   "outputs": [],
   "source": [
    "qt = QuantileTransformer(output_distribution = 'normal')\n",
    "#y = qt.fit_transform(y)"
   ]
  },
  {
   "cell_type": "code",
   "execution_count": 211,
   "metadata": {},
   "outputs": [],
   "source": [
    "estimator = RandomForestRegressor(n_estimators = 10,min_samples_leaf = 3)#CustomMultiOutputRegressor(RandomForestRegressor(n_estimators = 10,min_samples_leaf = 3), n_jobs = -1)\n",
    "density_estimator = SimilarityTreeEnsemble(estimator).fit(X,y)"
   ]
  },
  {
   "cell_type": "code",
   "execution_count": 222,
   "metadata": {},
   "outputs": [],
   "source": [
    "samples = density_estimator.sample(X, alpha = 1, n_neighbors = 30)"
   ]
  },
  {
   "cell_type": "code",
   "execution_count": 225,
   "metadata": {},
   "outputs": [
    {
     "data": {
      "text/plain": [
       "<matplotlib.collections.PathCollection at 0x278037b3308>"
      ]
     },
     "execution_count": 225,
     "metadata": {},
     "output_type": "execute_result"
    },
    {
     "data": {
      "image/png": "[encoded data removed]",
      "text/plain": [
       "<Figure size 432x432 with 3 Axes>"
      ]
     },
     "metadata": {
      "needs_background": "light"
     },
     "output_type": "display_data"
    }
   ],
   "source": [
    "point += 1\n",
    "jntplot = sns.jointplot(samples[point][:,0], samples[point][:,1], alpha = 1)\n",
    "jntplot.ax_joint.scatter(y[point,0], y[point,1], color = 'r')"
   ]
  },
  {
   "cell_type": "code",
   "execution_count": 63,
   "metadata": {},
   "outputs": [],
   "source": [
    "idx,sim = cos_sim_query(\n",
    "            estimator._make_leaf_node_graph(X), estimator.leaf_node_graph, n_neighbors=10, lower_bound=0) "
   ]
  },
  {
   "cell_type": "code",
   "execution_count": 65,
   "metadata": {},
   "outputs": [
    {
     "data": {
      "text/plain": [
       "array([[103.9979431 , 315.94818508],\n",
       "       [298.09277851, 566.24813889],\n",
       "       [333.24640175, 478.15264268],\n",
       "       [253.30656716, 407.73899743],\n",
       "       [363.14181069, 382.07661392],\n",
       "       [104.03943829, 275.55028334],\n",
       "       [ 36.65385617, 204.35724787]])"
      ]
     },
     "execution_count": 65,
     "metadata": {},
     "output_type": "execute_result"
    }
   ],
   "source": [
    "estimator.y_[idx[0]]"
   ]
  },
  {
   "cell_type": "code",
   "execution_count": null,
   "metadata": {},
   "outputs": [],
   "source": []
  }
 ],
 "metadata": {
  "kernelspec": {
   "display_name": "Python 3",
   "language": "python",
   "name": "python3"
  },
  "latex_envs": {
   "LaTeX_envs_menu_present": true,
   "autoclose": false,
   "autocomplete": true,
   "bibliofile": "biblio.bib",
   "cite_by": "apalike",
   "current_citInitial": 1,
   "eqLabelWithNumbers": true,
   "eqNumInitial": 1,
   "hotkeys": {
    "equation": "Ctrl-E",
    "itemize": "Ctrl-I"
   },
   "labels_anchors": false,
   "latex_user_defs": false,
   "report_style_numbering": false,
   "user_envs_cfg": false
  },
  "toc": {
   "base_numbering": 1,
   "nav_menu": {},
   "number_sections": true,
   "sideBar": true,
   "skip_h1_title": false,
   "title_cell": "Table of Contents",
   "title_sidebar": "Contents",
   "toc_cell": false,
   "toc_position": {},
   "toc_section_display": true,
   "toc_window_display": false
  }
 },
 "nbformat": 4,
 "nbformat_minor": 4
}
