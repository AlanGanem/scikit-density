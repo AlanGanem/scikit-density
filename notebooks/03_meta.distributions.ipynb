{
 "cells": [
  {
   "cell_type": "code",
   "execution_count": null,
   "metadata": {},
   "outputs": [],
   "source": [
    "#default_exp meta.distributions"
   ]
  },
  {
   "cell_type": "code",
   "execution_count": null,
   "metadata": {},
   "outputs": [],
   "source": [
    "#TODO: Include GMM from skleaern for multimodal normal\n",
    "#TODO: Include percentile method for ECDF methods (sklearn.preprocessing.QuantileTransformer)"
   ]
  },
  {
   "cell_type": "markdown",
   "metadata": {},
   "source": [
    "# Meta Distributions\n",
    "\n",
    "> Extension of SciPy rv_continuous Class, containing some useful methods for Maximum Likelihood Estimation and other distribution methods."
   ]
  },
  {
   "cell_type": "markdown",
   "metadata": {},
   "source": [
    "## Helper Functions"
   ]
  },
  {
   "cell_type": "code",
   "execution_count": 80,
   "metadata": {},
   "outputs": [],
   "source": [
    "#export\n",
    "from sklearn.preprocessing import QuantileTransformer\n",
    "import scipy.stats as stats\n",
    "import numpy as np\n",
    "import tqdm\n",
    "\n",
    "\n",
    "def ctqdm(iterable, verbose = False, notebook = False,**tqdm_kwargs):\n",
    "    '''\n",
    "    progress bar handler (custom tqdm)\n",
    "    '''\n",
    "    if not verbose:\n",
    "        return iterable\n",
    "    else:\n",
    "        if notebook:\n",
    "            return tqdm.notebook(iterable,**tqdm_kwargs)\n",
    "        else:\n",
    "            return tqdm.tqdm(iterable,**tqdm_kwargs)\n",
    "\n",
    "\n"
   ]
  },
  {
   "cell_type": "markdown",
   "metadata": {},
   "source": [
    "## RandomVariable Class - "
   ]
  },
  {
   "cell_type": "code",
   "execution_count": 58,
   "metadata": {},
   "outputs": [],
   "source": [
    "        \n",
    "class RandomVariable():\n",
    "    '''\n",
    "    A container for distribution objects\n",
    "    '''\n",
    "    \n",
    "    def __init__(self, data, verbose = False):        \n",
    "        self.samples = data\n",
    "        self._fitted_dists = {}\n",
    "        self.verbose = False\n",
    "        return\n",
    "    \n",
    "    \n",
    "    def __getitem__(self, item):\n",
    "        if item == 'best':\n",
    "            item = self._best_fit_alias\n",
    "        return self._fitted_dists[item][0]\n",
    "    \n",
    "    def __repr__(self):\n",
    "        return repr(self.samples)\n",
    "    \n",
    "    def fit_best(self, data, candidates):\n",
    "        #fit all and make alias for best fit\n",
    "        self._fit_all(data, candidates)\n",
    "        dists_aliases = list(self._fitted_dists)\n",
    "        dists_arr = np.array([i[1] for i in self._fitted_dists.values()])\n",
    "        best_fit_idx = np.argmax(dists_arr)\n",
    "        self._best_fit_alias = dists_aliases[best_fit_idx]\n",
    "        return self\n",
    "    \n",
    "    def _fit_all(self, data, candidates):        \n",
    "        #TODO: check for multiplicity in candidates aliases\n",
    "        for candidate in ctqdm(candidates, verbose = self.verbose):\n",
    "            self.fit_dist(data, candidate)            \n",
    "        return self\n",
    "    \n",
    "    def fit_dist(self, data, dist):      \n",
    "        '''\n",
    "        fits a specified distribution through scipy.stats.rv_continuous.fit method\n",
    "        '''\n",
    "        alias, dist_name = self._handle_dist_names(dist)\n",
    "        alias, dist_class = self._get_dist_from_name(alias, dist_name)\n",
    "        if alias.lower() == 'best':\n",
    "            raise ValueError('\"best\" cannot be an alias for a distribution. its internally assgined to the best fit dist')\n",
    "        params = dist_class.fit(data)\n",
    "        log_likelihood = self._get_log_likelihood(data, dist_class, params)\n",
    "        self._fitted_dists = {**self._fitted_dists, **{alias:(dist_class(*params),log_likelihood)}}        \n",
    "        return self\n",
    "    \n",
    "    def _get_log_likelihood(self, data, dist, params):        \n",
    "        return np.log(np.product(dist.pdf(data,*params)))\n",
    "    \n",
    "    def _get_dist_from_name(self, alias, dist_name):\n",
    "        '''\n",
    "        handles dist_names. if str tries to get an attribute from scipy.stats accordingly\n",
    "        that is also instance of scipy.stats.rv_continuous\n",
    "        '''\n",
    "        if isinstance(dist_name,str):        \n",
    "            if isinstance(getattr(stats,dist_name), stats.rv_continuous):\n",
    "                alias = dist_name\n",
    "                return (alias, getattr(stats,dist_name))\n",
    "            else:\n",
    "                raise ValueError(f'dist must be a valid scipy.stats.rv_continuous instance, not {getattr(stats,dist_name).__class__}')\n",
    "\n",
    "        elif isinstance(dist_name, stats.rv_continuous):\n",
    "            return (alias, dist_name)\n",
    "        else:\n",
    "            raise ValueError(f'dist must be a valid scipy.stats.rv_continuous instance or str, not {dist_name.__class__}')\n",
    "\n",
    "    def quantile(self, X)\n",
    "    def inverse_qunatile(self, X)\n",
    "    def _fit_quantile_transformer(self, data):\n",
    "        \n",
    "    \n",
    "    def _handle_dist_names(self, candidate_value):\n",
    "        '''\n",
    "        checks the inputs in elements of \"candidates\"\n",
    "        returns a named tuple\n",
    "        '''\n",
    "        if isinstance(candidate_value, str):\n",
    "            return candidate_value, candidate_value\n",
    "\n",
    "        elif isinstance(candidate_value, tuple):\n",
    "\n",
    "            if not len(candidate_value) == 2:\n",
    "                raise ValueError(f'candidate named tuple must be of size 2, \"{candidate_value}\" has size {len(candidate_value)}')\n",
    "\n",
    "            if not isinstance(candidate_value[0], str):\n",
    "                raise ValueError(f'a candidate must be a str or named tuple (alias[str],<rv_continuous intance>), alias is of type {candidate_value[0].__class__}')\n",
    "\n",
    "            else:\n",
    "                return candidate_value     "
   ]
  },
  {
   "cell_type": "code",
   "execution_count": 59,
   "metadata": {},
   "outputs": [],
   "source": [
    "#check for np.vectorize for vectorized methods\n",
    "class RVArray():\n",
    "    '''\n",
    "    An array that contains rv scipy functions and performs their methods in a vectorwise fashion\n",
    "    '''\n",
    "    def __init__(self, data):\n",
    "        ''' the constructor recieves a list of RandomVariable items'''\n",
    "        self.data = data\n",
    "        return\n",
    "    def __getitem__(self, *idxs):\n",
    "        "
   ]
  },
  {
   "cell_type": "markdown",
   "metadata": {},
   "source": [
    "A RandomVariable Class facilitates the process of fitting multiple parametric distributions avalible in https://docs.scipy.org/doc/scipy/reference/stats.html from a data sample, for example:"
   ]
  },
  {
   "cell_type": "code",
   "execution_count": 107,
   "metadata": {},
   "outputs": [
    {
     "name": "stdout",
     "output_type": "stream",
     "text": [
      "Dist args:\n",
      "(1, 0, 2)\n",
      "MLE fitted dist args:\n",
      "(1.3595358810627385, 0.7314107789905318, 1.0109655706609542)\n"
     ]
    },
    {
     "data": {
      "text/plain": [
       "<matplotlib.axes._subplots.AxesSubplot at 0x11cdf003088>"
      ]
     },
     "execution_count": 107,
     "metadata": {},
     "output_type": "execute_result"
    },
    {
     "data": {
      "image/png": "[encoded data removed]",
      "text/plain": [
       "<Figure size 432x288 with 1 Axes>"
      ]
     },
     "metadata": {
      "needs_background": "light"
     },
     "output_type": "display_data"
    }
   ],
   "source": [
    "import seaborn as sns\n",
    "dist_args = (1,0,2)\n",
    "\n",
    "data = stats.lognorm.rvs(dist_args[0], loc = dist_args[1], scale = dist_args[2], size = 10)\n",
    "rv = RandomVariable(data)\n",
    "rv.fit_best(data, candidates = ['norm','halfnorm','lognorm'])\n",
    "\n",
    "mle_samples = rv['best'].rvs(1000)\n",
    "#plot distributions\n",
    "print('Dist args:')\n",
    "print(dist_args)\n",
    "print('MLE fitted dist args:')\n",
    "print(rv['best'].args)\n",
    "\n",
    "sns.distplot(data)\n",
    "sns.distplot(mle_samples)\n"
   ]
  },
  {
   "cell_type": "code",
   "execution_count": null,
   "metadata": {},
   "outputs": [],
   "source": []
  }
 ],
 "metadata": {
  "kernelspec": {
   "display_name": "Python 3",
   "language": "python",
   "name": "python3"
  },
  "language_info": {
   "codemirror_mode": {
    "name": "ipython",
    "version": 3
   },
   "file_extension": ".py",
   "mimetype": "text/x-python",
   "name": "python",
   "nbconvert_exporter": "python",
   "pygments_lexer": "ipython3",
   "version": "3.7.6"
  },
  "latex_envs": {
   "LaTeX_envs_menu_present": true,
   "autoclose": false,
   "autocomplete": true,
   "bibliofile": "biblio.bib",
   "cite_by": "apalike",
   "current_citInitial": 1,
   "eqLabelWithNumbers": true,
   "eqNumInitial": 1,
   "hotkeys": {
    "equation": "Ctrl-E",
    "itemize": "Ctrl-I"
   },
   "labels_anchors": false,
   "latex_user_defs": false,
   "report_style_numbering": false,
   "user_envs_cfg": false
  },
  "toc": {
   "base_numbering": 1,
   "nav_menu": {},
   "number_sections": true,
   "sideBar": true,
   "skip_h1_title": false,
   "title_cell": "Table of Contents",
   "title_sidebar": "Contents",
   "toc_cell": false,
   "toc_position": {},
   "toc_section_display": true,
   "toc_window_display": false
  }
 },
 "nbformat": 4,
 "nbformat_minor": 4
}
