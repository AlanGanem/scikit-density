{
 "cells": [
  {
   "cell_type": "code",
   "execution_count": 2,
   "metadata": {},
   "outputs": [],
   "source": [
    "#default_exp meta.estimators"
   ]
  },
  {
   "cell_type": "code",
   "execution_count": 1,
   "metadata": {},
   "outputs": [],
   "source": [
    "#hide\n",
    "from nbdev.showdoc import *"
   ]
  },
  {
   "cell_type": "markdown",
   "metadata": {},
   "source": [
    "# Meta Estimators\n",
    "\n",
    "> A set of Meta Estimators suited for density estimation"
   ]
  },
  {
   "cell_type": "code",
   "execution_count": 104,
   "metadata": {},
   "outputs": [],
   "source": [
    "#export\n",
    "import sklearn.ensemble as ensemble\n",
    "\n",
    "from sklearn.preprocessing import QuantileTransformer, PowerTransformer\n"
   ]
  },
  {
   "cell_type": "markdown",
   "metadata": {},
   "source": [
    "## NormalizedTarget Estimator -"
   ]
  },
  {
   "cell_type": "code",
   "execution_count": 177,
   "metadata": {},
   "outputs": [],
   "source": [
    "TRANSFORMERS = {\n",
    "    'quantile': QuantileTransformer,\n",
    "    'power': PowerTransformer,\n",
    "}\n",
    "\n",
    "def NormalizedTargetEstimator(estimator, transformer = 'quantile', transformer_args = {'output_distribution':'normal'}):\n",
    "    '''\n",
    "    a meta estimator (factory) that makes target data normaly distributed through quantile transformer. the transform and inverse transform\n",
    "    are handled internaly, so the outputs are in the same scale as the original target values\n",
    "    '''\n",
    "    \n",
    "    if transformer.__class__ == str:\n",
    "        transformer = TRANSFORMERS[transformer](**transformer_args)\n",
    "    else:\n",
    "        if isinstance(transformer, type):\n",
    "            raise ValueError('if not str, transformer must be an instance containing fit, transform and fit_transform methods')\n",
    "        transformer = transformer\n",
    "    \n",
    "    class NormalizedTargetEstimator(estimator):        \n",
    "        def fit(self, X, y = None):            \n",
    "            self.transformer = transformer\n",
    "            super().fit(X, self.transformer.fit_transform(y))\n",
    "            return self\n",
    "\n",
    "        def transform(self,X):\n",
    "            return self.transformer.inverse_transform(super().transform(X))\n",
    "            \n",
    "        def predict(self,X):\n",
    "            return self.transformer.inverse_transform(super().predict(X))\n",
    "        \n",
    "        def fit_transform(self,X, y = None):\n",
    "            self.fit(X, y)            \n",
    "            return self.transform(X)\n",
    "        \n",
    "        def fit_predict(self,X, y = None):\n",
    "            self.fit(X, y)            \n",
    "            return self.predict(X)\n",
    "    \n",
    "    \n",
    "    return NormalizedTargetEstimator"
   ]
  },
  {
   "cell_type": "markdown",
   "metadata": {},
   "source": [
    "You can create an estimator that performs Normlization during fit and inverse transforms the result during inferencce"
   ]
  },
  {
   "cell_type": "code",
   "execution_count": 178,
   "metadata": {},
   "outputs": [
    {
     "data": {
      "text/plain": [
       "array([[-280.3831987 , -418.0617244 ],\n",
       "       [ 519.71498927,  618.28934499],\n",
       "       [-508.73138768, -558.28899267],\n",
       "       ...,\n",
       "       [-602.48233769, -610.03242731],\n",
       "       [ 555.32162264,  582.28707938],\n",
       "       [-542.5486155 , -613.02816751]])"
      ]
     },
     "execution_count": 178,
     "metadata": {},
     "output_type": "execute_result"
    }
   ],
   "source": [
    "from sklearn.linear_model import LinearRegression\n",
    "\n",
    "NormalizedTargetEstimator(LinearRegression)().fit_predict(X_train, y_train)"
   ]
  },
  {
   "cell_type": "code",
   "execution_count": null,
   "metadata": {},
   "outputs": [],
   "source": []
  },
  {
   "cell_type": "markdown",
   "metadata": {},
   "source": [
    "## Bagging Estimator - "
   ]
  },
  {
   "cell_type": "code",
   "execution_count": 179,
   "metadata": {},
   "outputs": [],
   "source": [
    "def _parallel_predict_regression(estimators, estimators_features, X):\n",
    "    \"\"\"Private function used to compute predictions within a job.\"\"\"\n",
    "    return np.concatenate([estimator.predict(X[:, features])\n",
    "               for estimator, features in zip(estimators,\n",
    "                                              estimators_features)], axis = -1)\n",
    "\n",
    "class BaggingDensityEstimator(ensemble.BaggingRegressor):\n",
    "    def sample(self, X, sample_size = None, weights = None):\n",
    "        \n",
    "        ensemble._bagging.check_is_fitted(self)\n",
    "        # Check data\n",
    "        X = ensemble._bagging.check_array(\n",
    "            X, accept_sparse=['csr', 'csc'], dtype=None,\n",
    "            force_all_finite=False\n",
    "        )\n",
    "\n",
    "        # Parallel loop\n",
    "        n_jobs, n_estimators, starts = ensemble._bagging._partition_estimators(self.n_estimators,\n",
    "                                                             self.n_jobs)\n",
    "\n",
    "        all_y_hat = ensemble._bagging.Parallel(n_jobs=n_jobs, verbose=self.verbose)(\n",
    "            ensemble._bagging.delayed(_parallel_predict_regression)(\n",
    "                self.estimators_[starts[i]:starts[i + 1]],\n",
    "                self.estimators_features_[starts[i]:starts[i + 1]],\n",
    "                X)\n",
    "            for i in range(n_jobs))\n",
    "\n",
    "\n",
    "        return all_y_hat[0]\n",
    "\n",
    "        \n",
    "        "
   ]
  },
  {
   "cell_type": "markdown",
   "metadata": {},
   "source": [
    "The BaggingDensityEstimator is an extension of sklearn BaggingRegressor that allows sampling from each isntance of base estimator"
   ]
  },
  {
   "cell_type": "code",
   "execution_count": 180,
   "metadata": {},
   "outputs": [
    {
     "data": {
      "text/plain": [
       "<matplotlib.collections.PathCollection at 0x19da65f0f48>"
      ]
     },
     "execution_count": 180,
     "metadata": {},
     "output_type": "execute_result"
    },
    {
     "data": {
      "image/png": "[encoded data removed]",
      "text/plain": [
       "<Figure size 432x432 with 3 Axes>"
      ]
     },
     "metadata": {
      "needs_background": "light"
     },
     "output_type": "display_data"
    }
   ],
   "source": [
    "t = BaggingDensityEstimator(LinearRegression(), n_estimators = 10).fit(X,y)\n",
    "jntplot = sns.jointplot(t.sample(X[0:1]).flatten(), t.sample(X[0:1]).flatten())\n",
    "jntplot.ax_joint.scatter(y[:,0], y[:,1], color = 'orange', alpha = 0.1)\n",
    "jntplot.ax_joint.scatter(y[0,0], y[0,1], color = 'red')"
   ]
  },
  {
   "cell_type": "markdown",
   "metadata": {},
   "source": [
    "We can combine the NormalizedTargetEstimator"
   ]
  },
  {
   "cell_type": "code",
   "execution_count": 182,
   "metadata": {},
   "outputs": [
    {
     "data": {
      "text/plain": [
       "<matplotlib.collections.PathCollection at 0x19da67d2bc8>"
      ]
     },
     "execution_count": 182,
     "metadata": {},
     "output_type": "execute_result"
    },
    {
     "data": {
      "image/png": "[encoded data removed]",
      "text/plain": [
       "<Figure size 432x432 with 3 Axes>"
      ]
     },
     "metadata": {
      "needs_background": "light"
     },
     "output_type": "display_data"
    }
   ],
   "source": [
    "t = BaggingDensityEstimator(NormalizedTargetEstimator(LinearRegression, transformer = 'quantile')(), n_estimators = 10).fit(X,y)\n",
    "jntplot = sns.jointplot(t.sample(X[0:1]).flatten(), t.sample(X[0:1]).flatten())\n",
    "jntplot.ax_joint.scatter(y[:,0], y[:,1], color = 'orange', alpha = 0.05)\n",
    "jntplot.ax_joint.scatter(y[0,0], y[0,1], color = 'red')"
   ]
  },
  {
   "cell_type": "markdown",
   "metadata": {},
   "source": [
    "## ADABoost Estimator -"
   ]
  },
  {
   "cell_type": "code",
   "execution_count": null,
   "metadata": {},
   "outputs": [],
   "source": [
    "class AdaBoostDensityEstiamtor(AdaBoostRegressor):\n",
    "    def sample(self, X, sample_size = None, weights = None):\n",
    "        '''Sample according to estimator weights'''"
   ]
  },
  {
   "cell_type": "code",
   "execution_count": null,
   "metadata": {},
   "outputs": [],
   "source": []
  },
  {
   "cell_type": "markdown",
   "metadata": {},
   "source": [
    "## Stacked Estimator -\n",
    "\n",
    "> Allows for stacking while making the input of last layer as a sample of last estimators samples"
   ]
  },
  {
   "cell_type": "code",
   "execution_count": null,
   "metadata": {},
   "outputs": [],
   "source": [
    "class StackingDensityEstimator(StackingRegressor):\n",
    "    def _sample_from_child(self,X):\n",
    "        '''\n",
    "        Instead of recieving the prediction of last estimator, it recieves a sumsample of each one of last estimators.\n",
    "        child estimators contaion a sample method        \n",
    "        '''\n",
    "        pass\n",
    "    \n",
    "    def  _concatenate_children_output(self, outputs): \n",
    "        '''\n",
    "        Concatenates the children samples \n",
    "        '''\n",
    "        pass\n",
    "    \n",
    "    def _set_prior_to_sample():\n",
    "        '''\n",
    "        Instead of sampling from data, fit a disstribution  through MLE to data and sample from prior distribution.\n",
    "        Like in variational auto encoders.\n",
    "        '''\n",
    "        pass\n",
    "    \n",
    "    def _pass_dist_parameters_instead_of_samples():\n",
    "        '''\n",
    "        instead of passing samples to next layer, pass distribution parameters found through MLE\n",
    "        '''\n",
    "    NO NEED FOR SAMPLE METHOD SINCE IT WILL IMPLEMENT THE LAST LAYYER METHODS"
   ]
  },
  {
   "cell_type": "code",
   "execution_count": null,
   "metadata": {},
   "outputs": [],
   "source": []
  },
  {
   "cell_type": "markdown",
   "metadata": {},
   "source": [
    "## Voting Estimator - \n",
    "\n",
    "> creates an ensemble of diverse estimators (this is what makes it different from bagging) and estimates the density distribution based on all the estimators outputs"
   ]
  },
  {
   "cell_type": "code",
   "execution_count": null,
   "metadata": {},
   "outputs": [],
   "source": []
  },
  {
   "cell_type": "code",
   "execution_count": null,
   "metadata": {},
   "outputs": [],
   "source": []
  }
 ],
 "metadata": {
  "kernelspec": {
   "display_name": "Python 3",
   "language": "python",
   "name": "python3"
  },
  "language_info": {
   "codemirror_mode": {
    "name": "ipython",
    "version": 3
   },
   "file_extension": ".py",
   "mimetype": "text/x-python",
   "name": "python",
   "nbconvert_exporter": "python",
   "pygments_lexer": "ipython3",
   "version": "3.7.6"
  },
  "latex_envs": {
   "LaTeX_envs_menu_present": true,
   "autoclose": false,
   "autocomplete": true,
   "bibliofile": "biblio.bib",
   "cite_by": "apalike",
   "current_citInitial": 1,
   "eqLabelWithNumbers": true,
   "eqNumInitial": 1,
   "hotkeys": {
    "equation": "Ctrl-E",
    "itemize": "Ctrl-I"
   },
   "labels_anchors": false,
   "latex_user_defs": false,
   "report_style_numbering": false,
   "user_envs_cfg": false
  },
  "toc": {
   "base_numbering": 1,
   "nav_menu": {},
   "number_sections": true,
   "sideBar": true,
   "skip_h1_title": false,
   "title_cell": "Table of Contents",
   "title_sidebar": "Contents",
   "toc_cell": false,
   "toc_position": {},
   "toc_section_display": true,
   "toc_window_display": false
  }
 },
 "nbformat": 4,
 "nbformat_minor": 4
}
