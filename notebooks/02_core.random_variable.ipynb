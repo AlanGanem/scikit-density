{
 "cells": [
  {
   "cell_type": "code",
   "execution_count": 1,
   "metadata": {},
   "outputs": [],
   "source": [
    "#default_exp core.random_variable"
   ]
  },
  {
   "cell_type": "markdown",
   "metadata": {},
   "source": [
    "- [X] TODO: implement kde estimation and entropy estimation\n",
    "- [X] TODO: make an abstracction for random varriable in order to bring kde to same abstractions of sample, etc...\n",
    "- [ ] TODO: make an abstracction for random varriable in order to bring sklearn GMM and kde  to same abstractions of sample, etc...\n",
    "- [ ] TODO: make RVArray an instance of np.array\n",
    "- [ ] TODO: make RVarray access attributes for multidimensional RVarrays and return array with same size of result objects"
   ]
  },
  {
   "cell_type": "code",
   "execution_count": null,
   "metadata": {},
   "outputs": [],
   "source": [
    "#hide\n",
    "from nbdev.showdoc import *"
   ]
  },
  {
   "cell_type": "code",
   "execution_count": 4,
   "metadata": {},
   "outputs": [],
   "source": [
    "#hide\n",
    "%load_ext autoreload\n",
    "%autoreload 2\n",
    "\n",
    "import sys\n",
    "sys.path.append('..')"
   ]
  },
  {
   "cell_type": "markdown",
   "metadata": {},
   "source": [
    "# Meta Distributions\n",
    "\n",
    "> Extension of SciPy rv_continuous Class, containing some useful methods for Maximum Likelihood Estimation and other distribution methods."
   ]
  },
  {
   "cell_type": "markdown",
   "metadata": {},
   "source": [
    "## imports"
   ]
  },
  {
   "cell_type": "code",
   "execution_count": 2,
   "metadata": {},
   "outputs": [],
   "source": [
    "#export\n",
    "from functools import partial\n",
    "\n",
    "import scipy.stats as stats\n",
    "import numpy as np\n",
    "from sklearn.metrics.pairwise import euclidean_distances\n",
    "from sklearn.preprocessing import QuantileTransformer\n",
    "\n",
    "import KDEpy as kdepy\n",
    "\n",
    "from scikit_density.utils import cos_sim_query, sample_multi_dim, ctqdm"
   ]
  },
  {
   "cell_type": "markdown",
   "metadata": {},
   "source": [
    "## Helping classes"
   ]
  },
  {
   "cell_type": "markdown",
   "metadata": {},
   "source": []
  },
  {
   "cell_type": "code",
   "execution_count": 15,
   "metadata": {},
   "outputs": [],
   "source": []
  },
  {
   "cell_type": "code",
   "execution_count": 16,
   "metadata": {},
   "outputs": [],
   "source": [
    "class DelegateEstimatorMixIn(object):\n",
    "    '''\n",
    "    class to make getattr method look for method in estimator object if not found in parent class.\n",
    "    parent class should contain 'estimator' attribute\n",
    "    '''\n",
    "    def __getattr__(self,attr):\n",
    "        if (attr in dir(self)) or (attr in list(self.__dict__)):\n",
    "            return object.__getattribute__(self, attr)\n",
    "        else:\n",
    "            return object.__getattribute__(self.estimator, attr)\n",
    "\n",
    "                    \n",
    "            "
   ]
  },
  {
   "cell_type": "markdown",
   "metadata": {},
   "source": [
    "## KDE Class - "
   ]
  },
  {
   "cell_type": "code",
   "execution_count": 42,
   "metadata": {},
   "outputs": [],
   "source": [
    "import awkde\n",
    "import KDEpy as kdepy\n",
    "\n",
    "class KDE(DelegateEstimatorMixIn):\n",
    "    \n",
    "    def __init__(self, kernel = 'gaussian', bw = 'ISJ', alpha = 0.5, implementation = 'auto'):\n",
    "        self.kernel = kernel\n",
    "        self.bw = bw\n",
    "        self.alpha = alpha\n",
    "        self.implementation = implementation\n",
    "        \n",
    "    def _check_X_2d(self,X):\n",
    "        X = np.array(X)\n",
    "        #reshape if shape == (n_samples,)\n",
    "        X = X if len(X.shape) > 1 else X.reshape(-1,1)\n",
    "        return X\n",
    "    \n",
    "    def _check_input_dims_match(self, X):\n",
    "        if X.shape[-1] != self.n_dim:\n",
    "            raise ValueError(f'X dimensions space should be the same size as fitted distribution ({self.n_dim}), got {X.shape[-1]} instead')\n",
    "        \n",
    "    def fit(self, X, y = None):                                \n",
    "        X = self._check_X_2d(X)        \n",
    "        #grid_interval is the min and max values for each dimension. shape (n_dim, 2 -> (min,max))\n",
    "        self.grid_interval = np.array([X.min(axis = 0),X.max(axis = 0)]).T\n",
    "        \n",
    "        #check if n_dim is lower equal to 10\n",
    "        n_dim = X.shape[-1]\n",
    "        self.n_dim = n_dim\n",
    "        if n_dim > 10:\n",
    "            raise ValueError(f'dimension of distribution should be lower or equal to 10. got {n_dim} dimensions instead')\n",
    "        \n",
    "        # resolution is such that grid sampling doesn't exceeds 10000 points\n",
    "        self.kde_resolution = max(2,int(10000**(1/n_dim)))\n",
    "        if self.implementation == 'auto':\n",
    "            #select kde implementation according to scale\n",
    "            # FFT is faster but its slower to evalute due to grid evaluation which scales as a power of grid resolution\n",
    "            if X.shape[0] > 300:\n",
    "                # find marginal bws for multidim data\n",
    "                bw = [kdepy.FFTKDE(bw = self.bw).bw(X[:,i:i+1]) for i in range(X.shape[-1])]\n",
    "                self.estimator = kdepy.FFTKDE(kernel = self.kernel, bw = bw, )\n",
    "            else:    \n",
    "                self.estimator = awkde.GaussianKDE(glob_bw = self.bw, alpha = self.alpha, )\n",
    "        \n",
    "        elif self.implementation == 'adaptative':\n",
    "            self.estimator = awkde.GaussianKDE(glob_bw = self.bw, alpha = self.alpha, )\n",
    "        else:\n",
    "            # find marginal bws for multidim data\n",
    "            bw = [kdepy.FFTKDE(bw = self.bw).bw(X[:,i:i+1]) for i in range(X.shape[-1])]\n",
    "            self.estimator = kdepy.FFTKDE(kernel = self.kernel, bw = bw, )\n",
    "            \n",
    "        self.estimator.fit(X)\n",
    "        return self\n",
    "    \n",
    "    def evaluate(self, data):\n",
    "        data = self._check_X_2d(data)\n",
    "        self._check_input_dims_match(data)\n",
    "        if isinstance(self.estimator, awkde.GaussianKDE):\n",
    "            return self.estimator.predict(data)\n",
    "        else:\n",
    "            evaluate = self.estimator.evaluate(self.kde_resolution)\n",
    "            #kde_values = evaluate[0]\n",
    "            #kde_pdf = evaluate[1]            \n",
    "            idxs = euclidean_distances(data,evaluate[0]).argmin(axis = 1)\n",
    "            return evaluate[1][idxs]\n",
    "        \n",
    "    def predict(self, X):        \n",
    "        return self.evaluate(X)\n",
    "    \n",
    "    def pdf(self, data):        \n",
    "        return self.evaluate(data)\n",
    "    \n",
    "    def rvs(self, size = 1, random_state = None):        \n",
    "        if isinstance(self.estimator, awkde.GaussianKDE):       \n",
    "            return self.estimator.sample(n_samples = size, random_state=random_state)\n",
    "        else:\n",
    "            values, probas = self.estimator.evaluate(self.kde_resolution)\n",
    "            sampled_idxs = np.random.choice([*range(values.shape[0])], size = size)\n",
    "            return values[sampled_idxs]\n",
    "    \n",
    "    def sample(self, size = 1, random_state = None):\n",
    "        return self.rvs(size, random_state)\n",
    "    \n",
    "    def entropy(self, sample_size = 100):        \n",
    "        if isinstance(self.estimator, awkde.GaussianKDE):            \n",
    "            return np.mean(-np.log(self.pdf(self.rvs(size = sample_size))))            \n",
    "        else:\n",
    "            kde_pdf = self.estimator.evaluate(self.kde_resolution)[1]\n",
    "            kde_pdf = np.random.choice(kde_pdf,p = kde_pdf/kde_pdf.sum(), size = sample_size)\n",
    "            return np.mean(-np.log(kde_pdf))\n",
    "\n",
    "    \n",
    "        "
   ]
  },
  {
   "cell_type": "code",
   "execution_count": 45,
   "metadata": {},
   "outputs": [
    {
     "data": {
      "text/plain": [
       "array([0.02674598, 0.04168318, 0.01918016, 0.03108934, 0.02487211,\n",
       "       0.03130068, 0.00973187, 0.0107458 , 0.0589412 , 0.00618006,\n",
       "       0.00786614, 0.01627313, 0.00719818, 0.02639213, 0.01256949,\n",
       "       0.01636656, 0.01648269, 0.00974099, 0.00688727, 0.0202695 ,\n",
       "       0.01879039, 0.01993599, 0.00736349, 0.00472421, 0.01429046,\n",
       "       0.0418637 , 0.01431491, 0.05859671, 0.02492065, 0.05292763])"
      ]
     },
     "execution_count": 45,
     "metadata": {},
     "output_type": "execute_result"
    }
   ],
   "source": [
    "KDE().fit(np.random.randn(3000,3)).evaluate(np.random.randn(30,3))"
   ]
  },
  {
   "cell_type": "markdown",
   "metadata": {},
   "source": [
    "## RandomVariable Class - "
   ]
  },
  {
   "cell_type": "code",
   "execution_count": 66,
   "metadata": {},
   "outputs": [],
   "source": [
    "#export\n",
    "\n",
    "class RandomVariable():\n",
    "    '''\n",
    "    A container for distribution objects\n",
    "    '''\n",
    "    \n",
    "    @classmethod\n",
    "    def from_weights(cls, values, weights, n_samples = 100, **ecdf_kwargs):\n",
    "        data = np.random.choice(values,size = n_samples, p = weights)\n",
    "        return cls.__init__(data, **ecdf_kwargs)\n",
    "    \n",
    "    def __init__(self, data, verbose = False, **ecdf_kwargs):        \n",
    "        self.samples = data\n",
    "        self.n_dim = 1 if len(data.shape) == 1 else data.shape[-1]\n",
    "        self._fitted_dists = {}\n",
    "        self.log_likelihood = []\n",
    "        self.verbose = False\n",
    "        self.ecdf = QuantileTransformer(**ecdf_kwargs).fit(data)\n",
    "        return\n",
    "        \n",
    "    def __getitem__(self, item):\n",
    "        if item == 'best':\n",
    "            try:\n",
    "                item = self._best_fit_alias\n",
    "            except AttributeError:\n",
    "                raise AttributeError('RandomVariable object has no \"best\" fit yet. Fit at least one density function through fit_dist method')\n",
    "        \n",
    "        return self._fitted_dists[item][0]\n",
    "    \n",
    "    #def __repr__(self):\n",
    "    #    return f'RandomVariable({str(self.samples)})'\n",
    "    \n",
    "    def fit_best(self, candidates = ['norm','halfnorm','lognorm']):\n",
    "        #fit all and make alias for best fit\n",
    "        self._fit_all(self.samples, candidates)\n",
    "        return self\n",
    "    \n",
    "    \n",
    "    def fit_dist(self, dist, **dist_kwargs):\n",
    "        return self._fit_dist(self.samples,dist, **dist_kwargs)\n",
    "    \n",
    "    def _check_best(self):\n",
    "        dists_aliases = list(self._fitted_dists)\n",
    "        dists_arr = np.array([i[1] for i in self._fitted_dists.values()])\n",
    "        best_fit_idx = np.argmax(dists_arr)\n",
    "        self._best_fit_alias = dists_aliases[best_fit_idx]\n",
    "        return\n",
    "    \n",
    "    def _fit_all(self, data, candidates):        \n",
    "        #TODO: check for multiplicity in candidates aliases\n",
    "        for candidate in ctqdm(candidates, verbose = self.verbose):\n",
    "            self.fit_dist(candidate)            \n",
    "        return self\n",
    "\n",
    "    def _fit_dist(self, data, dist, **dist_kwargs):      \n",
    "        '''\n",
    "        fits a specified distribution through scipy.stats.rv_continuous.fit method\n",
    "        '''\n",
    "        alias, dist_name = self._handle_dist_names(dist)\n",
    "        alias, dist_class = self._get_dist_from_name(alias, dist_name)\n",
    "        if alias.lower() == 'best':\n",
    "            raise ValueError('\"best\" cannot be an alias for a distribution. its internally assgined to the best fit dist')\n",
    "        if alias != 'kde':\n",
    "            if self.n_dim > 1:\n",
    "                raise ValueError('rv_continuous distributions is only available for 1d distributions. Use \"kde\" dist instead'.)\n",
    "            params = dist_class.fit(data)\n",
    "            log_likelihood = np.log(np.product(dist_class.pdf(data,*params)))\n",
    "            self._fitted_dists = {**self._fitted_dists, **{alias:(dist_class(*params),log_likelihood)}}\n",
    "            self.log_likelihood = list({**dict(self.log_likelihood), **{alias:log_likelihood}}.items())\n",
    "        else:\n",
    "            dist = dist_class(**dist_kwargs).fit(data)\n",
    "            log_likelihood = np.log(np.product(dist.pdf(data)))\n",
    "            self._fitted_dists = {**self._fitted_dists, **{alias:(dist,log_likelihood)}}\n",
    "            self.log_likelihood = list({**dict(self.log_likelihood), **{alias:log_likelihood}}.items())\n",
    "        \n",
    "        #update 'best' alias\n",
    "        self._check_best()\n",
    "        return self\n",
    "    \n",
    "    \n",
    "    def _get_dist_from_name(self, alias, dist_name):\n",
    "        '''\n",
    "        handles dist_names. if str tries to get an attribute from scipy.stats accordingly\n",
    "        that is also instance of scipy.stats.rv_continuous\n",
    "        '''\n",
    "        if isinstance(dist_name,str):        \n",
    "            if isinstance(getattr(stats,dist_name), stats.rv_continuous):\n",
    "                alias = dist_name\n",
    "                return (alias, getattr(stats,dist_name))\n",
    "            elif dist_name.lower() == 'kde':\n",
    "                alias = 'kde'\n",
    "                return (alias, KDE)\n",
    "            else:\n",
    "                raise ValueError(f'dist must be a valid scipy.stats.rv_continuous instance, not {getattr(stats,dist_name)}')\n",
    "\n",
    "        elif isinstance(dist_name, stats.rv_continuous):\n",
    "            return (alias, dist_name)\n",
    "        else:\n",
    "            raise ValueError(f'dist must be a valid scipy.stats.rv_continuous instance or str, not {dist_name}')\n",
    "    \n",
    "    def _handle_dist_names(self, candidate_value):\n",
    "        '''\n",
    "        checks the inputs in elements of \"candidates\"\n",
    "        returns a named tuple\n",
    "        '''\n",
    "        if isinstance(candidate_value, str):\n",
    "            return candidate_value, candidate_value\n",
    "\n",
    "        elif isinstance(candidate_value, tuple):\n",
    "\n",
    "            if not len(candidate_value) == 2:\n",
    "                raise ValueError(f'candidate named tuple must be of size 2, \"{candidate_value}\" has size {len(candidate_value)}')\n",
    "\n",
    "            if not isinstance(candidate_value[0], str):\n",
    "                raise ValueError(f'a candidate must be a str or named tuple (alias[str],<rv_continuous intance>), alias is of type {candidate_value[0].__class__}')\n",
    "\n",
    "            else:\n",
    "                return candidate_value                \n",
    "    \n",
    "    def sample(self, size, dist = 'empirical', **kwargs):\n",
    "        if dist == 'empirical':\n",
    "            sampled_idxs = np.random.choice([*range(self.samples.shape[0])], size = size, **kwargs)\n",
    "            return self.samples[sampled_idxs]    \n",
    "        else:\n",
    "            return self[dist].rvs(size = size, **kwargs)\n",
    "    \n",
    "    def cdf(self, data, dist = 'empirical'):\n",
    "        if dist == 'empirical':\n",
    "            return self.ecdf.transform(data)\n",
    "        else:\n",
    "            return self[dist].cdf(data)\n",
    "    \n",
    "    def pdf(self, data, dist = 'best'):\n",
    "        if dist == 'empirical':\n",
    "            raise ValueError('empirical quantile distribution has no pdf definition')    \n",
    "        else:\n",
    "            return self[dist].pdf(data)\n",
    "    \n",
    "    def ppf(self, data, dist = 'empirical'):\n",
    "        if dist == 'empirical':\n",
    "            return self.ecdf.inverse_transform(data)\n",
    "        else:\n",
    "            return self[dist].ppf(data)\n",
    "    \n",
    "    def entropy(self, data, dist = ''):\n",
    "        pass\n",
    "        "
   ]
  },
  {
   "cell_type": "markdown",
   "metadata": {},
   "source": [
    "A RandomVariable Class facilitates the process of fitting multiple parametric distributions avalible in https://docs.scipy.org/doc/scipy/reference/stats.html from a data sample, for example:"
   ]
  },
  {
   "cell_type": "code",
   "execution_count": 1859,
   "metadata": {},
   "outputs": [
    {
     "name": "stdout",
     "output_type": "stream",
     "text": [
      "Dist args:\n",
      "(2, 0, 1)\n",
      "[('norm', -112.79096260548873), ('halfnorm', -93.93208726843788), ('lognorm', -43.46212548613501)]\n",
      "MLE fitted dist args:\n",
      "(2.2880448573193473, 0.015806785601633944, 0.45026379536982797)\n"
     ]
    },
    {
     "name": "stderr",
     "output_type": "stream",
     "text": [
      "C:\\Anaconda3\\lib\\site-packages\\sklearn\\preprocessing\\_data.py:2370: UserWarning: n_quantiles (1000) is greater than the total number of samples (30). n_quantiles is set to n_samples.\n",
      "  % (self.n_quantiles, n_samples))\n"
     ]
    },
    {
     "data": {
      "text/plain": [
       "<matplotlib.axes._subplots.AxesSubplot at 0x2900081f9c8>"
      ]
     },
     "execution_count": 1859,
     "metadata": {},
     "output_type": "execute_result"
    },
    {
     "data": {
      "image/png": "[encoded data removed]",
      "text/plain": [
       "<Figure size 432x288 with 1 Axes>"
      ]
     },
     "metadata": {
      "needs_background": "light"
     },
     "output_type": "display_data"
    }
   ],
   "source": [
    "import seaborn as sns\n",
    "dist_args = (2,0,1)\n",
    "\n",
    "#data = stats.lognorm.rvs(dist_args[0], loc = dist_args[1], scale = dist_args[2], size = 30)\n",
    "dist = stats.lognorm(s = dist_args[0],loc = dist_args[1], scale = dist_args[2])\n",
    "data = dist.rvs(size = [30,1])\n",
    "rv = RandomVariable(data)\n",
    "rv.fit_best(candidates = ['norm','halfnorm','lognorm'])\n",
    "\n",
    "mle_samples = rv['best'].rvs([100,1])\n",
    "#plot distributions\n",
    "\n",
    "print('Dist args:')\n",
    "print(dist_args)\n",
    "print(rv.log_likelihood)\n",
    "print('MLE fitted dist args:')\n",
    "print(rv['best'].args)\n",
    "\n",
    "sns.distplot(data)\n",
    "sns.distplot(mle_samples)\n"
   ]
  },
  {
   "cell_type": "markdown",
   "metadata": {},
   "source": [
    "## RVArray - "
   ]
  },
  {
   "cell_type": "code",
   "execution_count": 1860,
   "metadata": {},
   "outputs": [],
   "source": [
    "#export\n",
    "\n",
    "class RVArray():\n",
    "    '''\n",
    "    An array that contains RandomVariable objects and facilitates method calls and getting attributes\n",
    "    '''\n",
    "    def __init__(self, data):\n",
    "        ''' the constructor recieves a list of RandomVariable items'''\n",
    "        self.data = np.array(data)\n",
    "    \n",
    "    def __getattr__(self, attr):\n",
    "        attr_list = [getattr(i,attr) for i in self.data]                \n",
    "        return RVArray(attr_list)      \n",
    "    \n",
    "    def __call__(self, *args, **kwargs):\n",
    "        results = [i(*args,**kwargs) for i in self.data]\n",
    "        if all([isinstance(i,np.ndarray) for i in results]):\n",
    "            return np.array(results)\n",
    "        else:\n",
    "            return RVArray(results)\n",
    "    \n",
    "    def __getitem__(self, *args):\n",
    "\n",
    "        if len(args) > 1:\n",
    "            return RVArray(self.data[args])\n",
    "        else:\n",
    "            if args[0].__class__ == str:\n",
    "                return RVArray([i[args[0]] for i in self.data])\n",
    "            else:\n",
    "                return self.data[args]      \n",
    "    \n",
    "    def __repr__(self):\n",
    "        return f'RVArray({str(self.data)})'"
   ]
  },
  {
   "cell_type": "markdown",
   "metadata": {},
   "source": [
    "A RVArray is a data sctructure tthat facilitates handling multiple RandomVariable objects, assessing RandomVariable methods and attributes in a vectorwise fashion"
   ]
  },
  {
   "cell_type": "code",
   "execution_count": 1861,
   "metadata": {},
   "outputs": [
    {
     "name": "stderr",
     "output_type": "stream",
     "text": [
      "C:\\Anaconda3\\lib\\site-packages\\sklearn\\preprocessing\\_data.py:2370: UserWarning: n_quantiles (1000) is greater than the total number of samples (100). n_quantiles is set to n_samples.\n",
      "  % (self.n_quantiles, n_samples))\n"
     ]
    },
    {
     "data": {
      "text/plain": [
       "array([[[4.83947969e+01],\n",
       "        [1.35872043e+00],\n",
       "        [3.05148418e+00],\n",
       "        [1.06865818e+00],\n",
       "        [1.08476308e+00],\n",
       "        [2.39457011e-02],\n",
       "        [8.33564895e-02],\n",
       "        [3.05569778e+00],\n",
       "        [2.39457011e-02],\n",
       "        [5.25283925e-01]],\n",
       "\n",
       "       [[2.90117386e-01],\n",
       "        [1.51204850e-01],\n",
       "        [1.61314240e-02],\n",
       "        [1.99814933e-01],\n",
       "        [1.99814933e-01],\n",
       "        [2.90117386e-01],\n",
       "        [2.13775699e+00],\n",
       "        [6.41298426e-01],\n",
       "        [3.58064643e+01],\n",
       "        [1.39416699e+01]]])"
      ]
     },
     "execution_count": 1861,
     "metadata": {},
     "output_type": "execute_result"
    }
   ],
   "source": [
    "rv2 = RandomVariable(mle_samples)\n",
    "rv_arr = RVArray([rv,rv2])\n",
    "rv_arr.fit_dist('norm')\n",
    "rv_arr.sample(size = 10)"
   ]
  },
  {
   "cell_type": "code",
   "execution_count": 2600,
   "metadata": {},
   "outputs": [
    {
     "name": "stderr",
     "output_type": "stream",
     "text": [
      "100%|████████████████████████████████████████████████████████████████████████████████| 100/100 [00:09<00:00, 10.69it/s]\n"
     ]
    }
   ],
   "source": [
    "#hide\n",
    "# kde methods performance evaluation\n",
    "from time import time\n",
    "from tqdm import tqdm\n",
    "\n",
    "\n",
    "n_samples = 400\n",
    "\n",
    "\n",
    "dist = stats.norm(loc = 10, scale = 10)\n",
    "tree_kde = [[],[]]\n",
    "fft_kde = [[],[]]\n",
    "adapatative_kde = [[],[]]\n",
    "entropies = []\n",
    "n_samples_list = []\n",
    "for i in tqdm([*range(100)]):\n",
    "    \n",
    "    #samples = np.stack([dist.rvs(n_samples),dist.rvs(n_samples),dist.rvs(n_samples),dist.rvs(n_samples),dist.rvs(n_samples),dist.rvs(n_samples),\n",
    "    #               ], axis = -1)\n",
    "    n_samples = max(2,10**int(i/23))\n",
    "    n_samples_list.append(n_samples)\n",
    "    samples = dist.rvs(n_samples)\n",
    "    samples = samples if len(samples.shape) > 1 else samples.reshape(-1,1)\n",
    "    n_dim = samples.shape[-1]    \n",
    "    resolution = int(10000**(1/n_dim))\n",
    "    \n",
    "    entropies.append(dist.entropy()*n_dim)\n",
    "    if 0:#resolution**n_dim > 100000:\n",
    "        tic = time()\n",
    "        kde = kdepy.FFTKDE(bw = 'scott')\n",
    "        bw = [kde.bw(samples[:,i:i+1]) for i in range(samples.shape[-1])]        \n",
    "        kde = kdepy.TreeKDE(bw = bw).fit(samples)\n",
    "        evaluate = kde.evaluate(samples)\n",
    "        entr = np.mean(-np.log(evaluate[1]))\n",
    "        toc = time()\n",
    "        tree_kde[0].append(entr)\n",
    "        tree_kde[1].append(toc-tic)\n",
    "        #kde_values = evaluate[0]\n",
    "        #kde_pdf = evaluate[1]\n",
    "    if 1:           \n",
    "        tic = time()\n",
    "        kde = kdepy.FFTKDE(bw = bw).fit(samples)\n",
    "        evaluate = kde.evaluate(resolution)\n",
    "        #kde_values = evaluate[0]\n",
    "        kde_pdf = evaluate[1]\n",
    "        #idxs = euclidean_distances(kde.data,kde_values).argmin(axis = 1)\n",
    "        #kde_pdf = kde_pdf[idxs]\n",
    "        #kde_values = kde_values[idxs]\n",
    "        kde_pdf = np.random.choice(kde_pdf,p = kde_pdf/kde_pdf.sum(), size = 1000)\n",
    "        entr = np.mean(-np.log(kde_pdf))\n",
    "        toc = time()\n",
    "        fft_kde[0].append(entr)\n",
    "        fft_kde[1].append(toc-tic)\n",
    "    if 1:\n",
    "        tic = time()\n",
    "        g = GaussianKDE(glob_bw = 'scott',alpha = 0.5)\n",
    "        g.fit(samples)\n",
    "        entr = np.mean(-np.log(g.predict(g.sample(100))))        \n",
    "        toc = time()\n",
    "        adapatative_kde[0].append(entr)\n",
    "        adapatative_kde[1].append(toc-tic)\n",
    "        \n",
    "\n",
    "#dist.entropy(), np.mean(-np.log(kde_pdf)/n_dim), resolution"
   ]
  },
  {
   "cell_type": "code",
   "execution_count": 2601,
   "metadata": {},
   "outputs": [
    {
     "data": {
      "text/plain": [
       "3.721523626198719"
      ]
     },
     "execution_count": 2601,
     "metadata": {},
     "output_type": "execute_result"
    },
    {
     "data": {
      "image/png": "[encoded data removed]",
      "text/plain": [
       "<Figure size 432x288 with 1 Axes>"
      ]
     },
     "metadata": {
      "needs_background": "light"
     },
     "output_type": "display_data"
    }
   ],
   "source": [
    "#hide\n",
    "\n",
    "#sns.distplot((np.array(tree_kde[0]) - np.array(entropies))/np.array(entropies))\n",
    "sns.distplot((np.array(fft_kde[0]) - np.array(entropies))/np.array(entropies))\n",
    "sns.distplot((np.array(adapatative_kde[0]) - np.array(entropies))/np.array(entropies))\n",
    "np.array(entropies).mean()"
   ]
  },
  {
   "cell_type": "code",
   "execution_count": 2602,
   "metadata": {},
   "outputs": [
    {
     "data": {
      "text/plain": [
       "<matplotlib.collections.PathCollection at 0x290169019c8>"
      ]
     },
     "execution_count": 2602,
     "metadata": {},
     "output_type": "execute_result"
    },
    {
     "data": {
      "image/png": "[encoded data removed]",
      "text/plain": [
       "<Figure size 432x288 with 1 Axes>"
      ]
     },
     "metadata": {
      "needs_background": "light"
     },
     "output_type": "display_data"
    }
   ],
   "source": [
    "#hide\n",
    "\n",
    "#sns.distplot(np.log10(np.array(tree_kde[1])[np.array(tree_kde[1])>0]))\n",
    "plt.scatter(np.log10(np.array(n_samples_list))[np.array(adapatative_kde[1])>0],np.log10(np.array(adapatative_kde[1])[np.array(adapatative_kde[1])>0]))\n",
    "plt.scatter(np.log10(np.array(n_samples_list))[np.array(fft_kde[1])>0],np.log10(np.array(fft_kde[1])[np.array(fft_kde[1])>0]))\n",
    "#sns.distplot(np.log10(np.array(fft_kde[1])[np.array(fft_kde[1])>0]))\n"
   ]
  },
  {
   "cell_type": "code",
   "execution_count": 2504,
   "metadata": {},
   "outputs": [
    {
     "data": {
      "image/png": "[encoded data removed]",
      "text/plain": [
       "<Figure size 432x288 with 1 Axes>"
      ]
     },
     "metadata": {
      "needs_background": "light"
     },
     "output_type": "display_data"
    }
   ],
   "source": [
    "#hide\n",
    "if np.array(samples).shape[1] == 1:\n",
    "    plt.scatter(samples[:,0],dist.pdf(samples))\n",
    "    #plt.scatter(samples[:,0],kde.evaluate(samples), color = 'r')\n",
    "    plt.scatter(samples[:,0],g.predict(samples))"
   ]
  }
 ],
 "metadata": {
  "kernelspec": {
   "display_name": "Python 3",
   "language": "python",
   "name": "python3"
  },
  "language_info": {
   "codemirror_mode": {
    "name": "ipython",
    "version": 3
   },
   "file_extension": ".py",
   "mimetype": "text/x-python",
   "name": "python",
   "nbconvert_exporter": "python",
   "pygments_lexer": "ipython3",
   "version": "3.7.6"
  },
  "latex_envs": {
   "LaTeX_envs_menu_present": true,
   "autoclose": false,
   "autocomplete": true,
   "bibliofile": "biblio.bib",
   "cite_by": "apalike",
   "current_citInitial": 1,
   "eqLabelWithNumbers": true,
   "eqNumInitial": 1,
   "hotkeys": {
    "equation": "Ctrl-E",
    "itemize": "Ctrl-I"
   },
   "labels_anchors": false,
   "latex_user_defs": false,
   "report_style_numbering": false,
   "user_envs_cfg": false
  },
  "toc": {
   "base_numbering": 1,
   "nav_menu": {},
   "number_sections": true,
   "sideBar": true,
   "skip_h1_title": false,
   "title_cell": "Table of Contents",
   "title_sidebar": "Contents",
   "toc_cell": false,
   "toc_position": {},
   "toc_section_display": true,
   "toc_window_display": false
  }
 },
 "nbformat": 4,
 "nbformat_minor": 4
}
