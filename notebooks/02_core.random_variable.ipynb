{
 "cells": [
  {
   "cell_type": "code",
   "execution_count": 1,
   "metadata": {},
   "outputs": [],
   "source": [
    "#default_exp core.random_variable"
   ]
  },
  {
   "cell_type": "markdown",
   "metadata": {},
   "source": [
    "- [X] TODO: implement kde estimation and entropy estimation\n",
    "- [X] TODO: make an abstracction for random varriable in order to bring kde to same abstractions of sample, etc...\n",
    "- [ ] TODO: make an abstracction for random varriable in order to bring sklearn GMM and kde  to same abstractions of sample, etc...\n",
    "- [ ] TODO: make RVArray an instance of np.array\n",
    "- [ ] TODO: make RVarray access attributes for multidimensional RVarrays and return array with same size of result objects"
   ]
  },
  {
   "cell_type": "code",
   "execution_count": 35,
   "metadata": {},
   "outputs": [
    {
     "name": "stderr",
     "output_type": "stream",
     "text": [
      "[autoreload of scikit_density.ensemble failed: Traceback (most recent call last):\n",
      "  File \"C:\\Anaconda3\\lib\\site-packages\\IPython\\extensions\\autoreload.py\", line 245, in check\n",
      "    superreload(m, reload, self.old_objects)\n",
      "  File \"C:\\Anaconda3\\lib\\site-packages\\IPython\\extensions\\autoreload.py\", line 394, in superreload\n",
      "    module = reload(module)\n",
      "  File \"C:\\Anaconda3\\lib\\imp.py\", line 314, in reload\n",
      "    return importlib.reload(module)\n",
      "  File \"C:\\Anaconda3\\lib\\importlib\\__init__.py\", line 169, in reload\n",
      "    _bootstrap._exec(spec, module)\n",
      "  File \"<frozen importlib._bootstrap>\", line 630, in _exec\n",
      "  File \"<frozen importlib._bootstrap_external>\", line 728, in exec_module\n",
      "  File \"<frozen importlib._bootstrap>\", line 219, in _call_with_frames_removed\n",
      "  File \"..\\scikit_density\\ensemble.py\", line 216, in <module>\n",
      "    class SimilarityTreeEnsemble(estimator.__class__, EnsembleTreesDensityMixin):\n",
      "NameError: name 'estimator' is not defined\n",
      "]\n"
     ]
    }
   ],
   "source": [
    "#hide\n",
    "from nbdev.showdoc import *"
   ]
  },
  {
   "cell_type": "code",
   "execution_count": 36,
   "metadata": {},
   "outputs": [
    {
     "name": "stdout",
     "output_type": "stream",
     "text": [
      "The autoreload extension is already loaded. To reload it, use:\n",
      "  %reload_ext autoreload\n"
     ]
    }
   ],
   "source": [
    "#hide\n",
    "%load_ext autoreload\n",
    "%autoreload 2\n",
    "\n",
    "import sys\n",
    "sys.path.append('..')"
   ]
  },
  {
   "cell_type": "markdown",
   "metadata": {},
   "source": [
    "# Meta Distributions\n",
    "\n",
    "> Extension of SciPy rv_continuous Class, containing some useful methods for Maximum Likelihood Estimation and other distribution methods."
   ]
  },
  {
   "cell_type": "markdown",
   "metadata": {},
   "source": [
    "## imports"
   ]
  },
  {
   "cell_type": "code",
   "execution_count": 39,
   "metadata": {},
   "outputs": [],
   "source": [
    "#export\n",
    "from functools import partial\n",
    "\n",
    "import scipy.stats as stats\n",
    "import numpy as np\n",
    "from sklearn.metrics.pairwise import euclidean_distances\n",
    "from sklearn.preprocessing import QuantileTransformer\n",
    "\n",
    "import KDEpy as kdepy\n",
    "\n",
    "from scikit_density.utils import cos_sim_query, sample_multi_dim, ctqdm, DelegateEstimatorMixIn"
   ]
  },
  {
   "cell_type": "markdown",
   "metadata": {},
   "source": [
    "## KDE Class - "
   ]
  },
  {
   "cell_type": "code",
   "execution_count": 46,
   "metadata": {},
   "outputs": [],
   "source": [
    "#export\n",
    "import awkde\n",
    "import KDEpy as kdepy\n",
    "\n",
    "class KDE():\n",
    "    \n",
    "    def __init__(self, kernel = 'gaussian', bw = 'ISJ', alpha = 0.5, implementation = 'auto'):\n",
    "        self.kernel = kernel\n",
    "        self.bw = bw\n",
    "        self.alpha = alpha\n",
    "        self.implementation = implementation\n",
    "        \n",
    "    def _check_X_2d(self,X):\n",
    "        X = np.array(X)\n",
    "        #reshape if shape == (n_samples,)\n",
    "        X = X if len(X.shape) > 1 else X.reshape(-1,1)\n",
    "        return X\n",
    "    \n",
    "    def _check_input_dims_match(self, X):\n",
    "        if X.shape[-1] != self.n_dim:\n",
    "            raise ValueError(f'X dimensions space should be the same size as fitted distribution ({self.n_dim}), got {X.shape[-1]} instead')\n",
    "        \n",
    "    def fit(self, X, y = None):                                \n",
    "        X = self._check_X_2d(X)        \n",
    "        #grid_interval is the min and max values for each dimension. shape (n_dim, 2 -> (min,max))\n",
    "        self.grid_interval = np.array([X.min(axis = 0),X.max(axis = 0)]).T\n",
    "        \n",
    "        #check if n_dim is lower equal to 10\n",
    "        n_dim = X.shape[-1]\n",
    "        self.n_dim = n_dim\n",
    "        if n_dim > 10:\n",
    "            raise ValueError(f'dimension of distribution should be lower or equal to 10. got {n_dim} dimensions instead')\n",
    "        \n",
    "        # resolution is such that grid sampling doesn't exceeds 10000 points\n",
    "        self.kde_resolution = max(2,int(10000**(1/n_dim)))\n",
    "        if self.implementation == 'auto':\n",
    "            #select kde implementation according to scale\n",
    "            # FFT is faster but its slower to evalute due to grid evaluation which scales as a power of grid resolution\n",
    "            # Tiping point is arround 10^2.5 (approx 300) samples for 1D distributions\n",
    "            if X.shape[0] > 300:\n",
    "                # find marginal bws for multidim data\n",
    "                bw = [kdepy.FFTKDE(bw = self.bw).bw(X[:,i:i+1]) for i in range(X.shape[-1])]\n",
    "                self.estimator = kdepy.FFTKDE(kernel = self.kernel, bw = bw, )\n",
    "            else:    \n",
    "                bw = self.bw if not self.bw == 'ISJ' else 'silverman'\n",
    "                self.estimator = awkde.GaussianKDE(glob_bw = bw, alpha = self.alpha, )\n",
    "        \n",
    "        # if not auto then run 'adaptative' or 'FFTKDE'\n",
    "        elif self.implementation == 'adaptative':\n",
    "            self.estimator = awkde.GaussianKDE(glob_bw = self.bw, alpha = self.alpha, )\n",
    "        else:\n",
    "            # find marginal bws for multidim data\n",
    "            bw = [kdepy.FFTKDE(bw = self.bw).bw(X[:,i:i+1]) for i in range(X.shape[-1])]\n",
    "            self.estimator = kdepy.FFTKDE(kernel = self.kernel, bw = bw, )\n",
    "            \n",
    "        self.estimator.fit(X)\n",
    "        return self\n",
    "    \n",
    "    def evaluate(self, data):\n",
    "        data = self._check_X_2d(data)\n",
    "        self._check_input_dims_match(data)\n",
    "        if isinstance(self.estimator, awkde.GaussianKDE):\n",
    "            return self.estimator.predict(data)\n",
    "        else:\n",
    "            evaluate = self.estimator.evaluate(self.kde_resolution)\n",
    "            #kde_values = evaluate[0]\n",
    "            #kde_pdf = evaluate[1]            \n",
    "            idxs = euclidean_distances(data,evaluate[0]).argmin(axis = 1)\n",
    "            return evaluate[1][idxs]\n",
    "        \n",
    "    def predict(self, X):        \n",
    "        return self.evaluate(X)\n",
    "    \n",
    "    def pdf(self, data):        \n",
    "        return self.evaluate(data)\n",
    "    \n",
    "    def rvs(self, size = 1, random_state = None):        \n",
    "        if isinstance(self.estimator, awkde.GaussianKDE):       \n",
    "            return self.estimator.sample(n_samples = size, random_state=random_state)\n",
    "        else:\n",
    "            values, probas = self.estimator.evaluate(self.kde_resolution)\n",
    "            sampled_idxs = np.random.choice([*range(values.shape[0])], size = size)\n",
    "            return values[sampled_idxs]\n",
    "    \n",
    "    def sample(self, size = 1, random_state = None):\n",
    "        return self.rvs(size, random_state)\n",
    "    \n",
    "    def entropy(self, sample_size = 100):        \n",
    "        if isinstance(self.estimator, awkde.GaussianKDE):            \n",
    "            return np.mean(-np.log2(self.pdf(self.rvs(size = sample_size))))            \n",
    "        else:\n",
    "            kde_pdf = self.estimator.evaluate(self.kde_resolution)[1]\n",
    "            kde_pdf = np.random.choice(kde_pdf,p = kde_pdf/kde_pdf.sum(), size = sample_size)\n",
    "            return np.mean(-np.log2(kde_pdf))\n",
    "\n",
    "    \n",
    "        "
   ]
  },
  {
   "cell_type": "code",
   "execution_count": 49,
   "metadata": {},
   "outputs": [
    {
     "data": {
      "text/plain": [
       "array([0.02469641, 0.0297943 , 0.01202903, 0.02328684, 0.04340026,\n",
       "       0.1116539 , 0.04598961, 0.01780106, 0.0421777 , 0.09964537,\n",
       "       0.09611063, 0.05778087, 0.04277927, 0.00844302, 0.04819021,\n",
       "       0.08824161, 0.00787714, 0.16589873, 0.09781243, 0.11144103,\n",
       "       0.0424191 , 0.0024947 , 0.02733593, 0.07752603, 0.02616901,\n",
       "       0.05778087, 0.02914182, 0.02925263, 0.09072568, 0.15170613])"
      ]
     },
     "execution_count": 49,
     "metadata": {},
     "output_type": "execute_result"
    }
   ],
   "source": [
    "KDE().fit(np.random.randn(3000,3)).evaluate(np.random.randn(30,3))"
   ]
  },
  {
   "cell_type": "markdown",
   "metadata": {},
   "source": [
    "## RandomVariable Class - "
   ]
  },
  {
   "cell_type": "code",
   "execution_count": 50,
   "metadata": {},
   "outputs": [],
   "source": [
    "#export\n",
    "\n",
    "class RandomVariable():\n",
    "    '''\n",
    "    A container for distribution objects\n",
    "    '''\n",
    "    \n",
    "    @classmethod\n",
    "    def from_weights(cls, values, weights, n_samples = 100, **ecdf_kwargs):\n",
    "        data = np.random.choice(values,size = n_samples, p = weights)\n",
    "        return cls.__init__(data, **ecdf_kwargs)\n",
    "    \n",
    "    def __init__(self, data, verbose = False, **ecdf_kwargs):        \n",
    "        self.samples = data\n",
    "        self.n_dim = 1 if len(data.shape) == 1 else data.shape[-1]\n",
    "        self._fitted_dists = {}\n",
    "        self.log_likelihood = []\n",
    "        self.verbose = False\n",
    "        self.ecdf = QuantileTransformer(**ecdf_kwargs).fit(data)\n",
    "        return\n",
    "        \n",
    "    def __getitem__(self, item):\n",
    "        if item == 'best':\n",
    "            try:\n",
    "                item = self._best_fit_alias\n",
    "            except AttributeError:\n",
    "                raise AttributeError('RandomVariable object has no \"best\" fit yet. Fit at least one density function through fit_dist method')\n",
    "        \n",
    "        return self._fitted_dists[item][0]\n",
    "    \n",
    "    #def __repr__(self):\n",
    "    #    return f'RandomVariable({str(self.samples)})'\n",
    "    \n",
    "    def fit_best(self, candidates = ['norm','halfnorm','lognorm']):\n",
    "        #fit all and make alias for best fit\n",
    "        self._fit_all(self.samples, candidates)\n",
    "        return self\n",
    "    \n",
    "    \n",
    "    def fit_dist(self, dist, **dist_kwargs):\n",
    "        return self._fit_dist(self.samples,dist, **dist_kwargs)\n",
    "    \n",
    "    def _check_best(self):\n",
    "        dists_aliases = list(self._fitted_dists)\n",
    "        dists_arr = np.array([i[1] for i in self._fitted_dists.values()])\n",
    "        best_fit_idx = np.argmax(dists_arr)\n",
    "        self._best_fit_alias = dists_aliases[best_fit_idx]\n",
    "        return\n",
    "    \n",
    "    def _fit_all(self, data, candidates):        \n",
    "        #TODO: check for multiplicity in candidates aliases\n",
    "        for candidate in ctqdm(candidates, verbose = self.verbose):\n",
    "            self.fit_dist(candidate)            \n",
    "        return self\n",
    "\n",
    "    def _fit_dist(self, data, dist, **dist_kwargs):      \n",
    "        '''\n",
    "        fits a specified distribution through scipy.stats.rv_continuous.fit method\n",
    "        '''\n",
    "        alias, dist_name = self._handle_dist_names(dist)\n",
    "        alias, dist_class = self._get_dist_from_name(alias, dist_name)\n",
    "        if alias.lower() == 'best':\n",
    "            raise ValueError('\"best\" cannot be an alias for a distribution. its internally assgined to the best fit dist')\n",
    "        if alias != 'kde':\n",
    "            if self.n_dim > 1:\n",
    "                raise ValueError('rv_continuous distributions is only available for 1d distributions. Use \"kde\" dist instead.')\n",
    "            params = dist_class.fit(data)\n",
    "            log_likelihood = np.log(np.product(dist_class.pdf(data,*params)))\n",
    "            self._fitted_dists = {**self._fitted_dists, **{alias:(dist_class(*params),log_likelihood)}}\n",
    "            self.log_likelihood = list({**dict(self.log_likelihood), **{alias:log_likelihood}}.items())\n",
    "        else:\n",
    "            dist = dist_class(**dist_kwargs).fit(data)\n",
    "            log_likelihood = np.log(np.product(dist.pdf(data)))\n",
    "            self._fitted_dists = {**self._fitted_dists, **{alias:(dist,log_likelihood)}}\n",
    "            self.log_likelihood = list({**dict(self.log_likelihood), **{alias:log_likelihood}}.items())\n",
    "        \n",
    "        #update 'best' alias\n",
    "        self._check_best()\n",
    "        return self\n",
    "    \n",
    "    \n",
    "    def _get_dist_from_name(self, alias, dist_name):\n",
    "        '''\n",
    "        handles dist_names. if str tries to get an attribute from scipy.stats accordingly\n",
    "        that is also instance of scipy.stats.rv_continuous\n",
    "        '''\n",
    "        if isinstance(dist_name,str):        \n",
    "            if isinstance(getattr(stats,dist_name), stats.rv_continuous):\n",
    "                alias = dist_name\n",
    "                return (alias, getattr(stats,dist_name))\n",
    "            elif dist_name.lower() == 'kde':\n",
    "                alias = 'kde'\n",
    "                return (alias, KDE)\n",
    "            else:\n",
    "                raise ValueError(f'dist must be a valid scipy.stats.rv_continuous instance, not {getattr(stats,dist_name)}')\n",
    "\n",
    "        elif isinstance(dist_name, stats.rv_continuous):\n",
    "            return (alias, dist_name)\n",
    "        else:\n",
    "            raise ValueError(f'dist must be a valid scipy.stats.rv_continuous instance or str, not {dist_name}')\n",
    "    \n",
    "    def _handle_dist_names(self, candidate_value):\n",
    "        '''\n",
    "        checks the inputs in elements of \"candidates\"\n",
    "        returns a named tuple\n",
    "        '''\n",
    "        if isinstance(candidate_value, str):\n",
    "            return candidate_value, candidate_value\n",
    "\n",
    "        elif isinstance(candidate_value, tuple):\n",
    "\n",
    "            if not len(candidate_value) == 2:\n",
    "                raise ValueError(f'candidate named tuple must be of size 2, \"{candidate_value}\" has size {len(candidate_value)}')\n",
    "\n",
    "            if not isinstance(candidate_value[0], str):\n",
    "                raise ValueError(f'a candidate must be a str or named tuple (alias[str],<rv_continuous intance>), alias is of type {candidate_value[0].__class__}')\n",
    "\n",
    "            else:\n",
    "                return candidate_value                \n",
    "    \n",
    "    def sample(self, size, dist = 'empirical', **kwargs):\n",
    "        if dist == 'empirical':\n",
    "            sampled_idxs = np.random.choice([*range(self.samples.shape[0])], size = size, **kwargs)\n",
    "            return self.samples[sampled_idxs]    \n",
    "        else:\n",
    "            return self[dist].rvs(size = size, **kwargs)\n",
    "    \n",
    "    def cdf(self, data, dist = 'empirical'):\n",
    "        if dist == 'empirical':\n",
    "            return self.ecdf.transform(data)\n",
    "        else:\n",
    "            return self[dist].cdf(data)\n",
    "    \n",
    "    def pdf(self, data, dist = 'best'):\n",
    "        if dist == 'empirical':\n",
    "            raise ValueError('empirical quantile distribution has no pdf definition')    \n",
    "        else:\n",
    "            return self[dist].pdf(data)\n",
    "    \n",
    "    def ppf(self, data, dist = 'empirical'):\n",
    "        if dist == 'empirical':\n",
    "            return self.ecdf.inverse_transform(data)\n",
    "        else:\n",
    "            return self[dist].ppf(data)\n",
    "    \n",
    "    def entropy(self, data, dist = ''):\n",
    "        pass"
   ]
  },
  {
   "cell_type": "markdown",
   "metadata": {},
   "source": [
    "A RandomVariable Class facilitates the process of fitting multiple parametric distributions avalible in https://docs.scipy.org/doc/scipy/reference/stats.html from a data sample, for example:"
   ]
  },
  {
   "cell_type": "code",
   "execution_count": 51,
   "metadata": {},
   "outputs": [
    {
     "name": "stdout",
     "output_type": "stream",
     "text": [
      "Dist args:\n",
      "(2, 0, 1)\n",
      "[('norm', -117.22210289955112), ('halfnorm', -98.90648943296017), ('lognorm', -56.756154530566974)]\n",
      "MLE fitted dist args:\n",
      "(2.1653273775689725, 0.023339902555236762, 0.7410641816932657)\n"
     ]
    },
    {
     "name": "stderr",
     "output_type": "stream",
     "text": [
      "C:\\Anaconda3\\lib\\site-packages\\sklearn\\preprocessing\\_data.py:2370: UserWarning: n_quantiles (1000) is greater than the total number of samples (30). n_quantiles is set to n_samples.\n",
      "  % (self.n_quantiles, n_samples))\n"
     ]
    },
    {
     "data": {
      "text/plain": [
       "<matplotlib.axes._subplots.AxesSubplot at 0x21a1bb47dc8>"
      ]
     },
     "execution_count": 51,
     "metadata": {},
     "output_type": "execute_result"
    },
    {
     "data": {
      "image/png": "[encoded data removed]",
      "text/plain": [
       "<Figure size 432x288 with 1 Axes>"
      ]
     },
     "metadata": {
      "needs_background": "light"
     },
     "output_type": "display_data"
    }
   ],
   "source": [
    "import seaborn as sns\n",
    "dist_args = (2,0,1)\n",
    "\n",
    "#data = stats.lognorm.rvs(dist_args[0], loc = dist_args[1], scale = dist_args[2], size = 30)\n",
    "dist = stats.lognorm(s = dist_args[0],loc = dist_args[1], scale = dist_args[2])\n",
    "data = dist.rvs(size = [30,1])\n",
    "rv = RandomVariable(data)\n",
    "rv.fit_best(candidates = ['norm','halfnorm','lognorm'])\n",
    "\n",
    "mle_samples = rv['best'].rvs([100,1])\n",
    "#plot distributions\n",
    "\n",
    "print('Dist args:')\n",
    "print(dist_args)\n",
    "print(rv.log_likelihood)\n",
    "print('MLE fitted dist args:')\n",
    "print(rv['best'].args)\n",
    "\n",
    "sns.distplot(data)\n",
    "sns.distplot(mle_samples)\n"
   ]
  },
  {
   "cell_type": "markdown",
   "metadata": {},
   "source": [
    "## RVArray - "
   ]
  },
  {
   "cell_type": "code",
   "execution_count": 52,
   "metadata": {},
   "outputs": [],
   "source": [
    "#export\n",
    "class RVArray:\n",
    "    '''\n",
    "    An array that contains RandomVariable objects and facilitates method calls and getting attributes\n",
    "    '''\n",
    "    def __init__(self, data):\n",
    "        ''' the constructor recieves a list of RandomVariable items'''\n",
    "        self.data = np.array(data)\n",
    "    \n",
    "    def __getattr__(self, attr):\n",
    "        attr_list = [getattr(i,attr) for i in self.data]                \n",
    "        return RVArray(attr_list)      \n",
    "    \n",
    "    def __call__(self, *args, **kwargs):\n",
    "        results = [i(*args,**kwargs) for i in self.data]\n",
    "        if all([isinstance(i,np.ndarray) for i in results]):\n",
    "            return np.array(results)\n",
    "        else:\n",
    "            return RVArray(results)\n",
    "    \n",
    "    def __getitem__(self, *args):\n",
    "\n",
    "        if len(args) > 1:\n",
    "            return RVArray(self.data[args])\n",
    "        else:\n",
    "            if args[0].__class__ == str:\n",
    "                return RVArray([i[args[0]] for i in self.data])\n",
    "            else:\n",
    "                return self.data[args]      \n",
    "    \n",
    "    def __repr__(self):\n",
    "        return f'RVArray({str(self.data)})'"
   ]
  },
  {
   "cell_type": "markdown",
   "metadata": {},
   "source": [
    "A RVArray is a data sctructure tthat facilitates handling multiple RandomVariable objects, assessing RandomVariable methods and attributes in a vectorwise fashion"
   ]
  },
  {
   "cell_type": "code",
   "execution_count": 53,
   "metadata": {},
   "outputs": [
    {
     "name": "stderr",
     "output_type": "stream",
     "text": [
      "C:\\Anaconda3\\lib\\site-packages\\sklearn\\preprocessing\\_data.py:2370: UserWarning: n_quantiles (1000) is greater than the total number of samples (100). n_quantiles is set to n_samples.\n",
      "  % (self.n_quantiles, n_samples))\n"
     ]
    },
    {
     "data": {
      "text/plain": [
       "array([[[ 2.58692248],\n",
       "        [ 2.03297638],\n",
       "        [ 2.09223142],\n",
       "        [ 0.26850029],\n",
       "        [ 0.30943777],\n",
       "        [ 2.58692248],\n",
       "        [ 1.77555427],\n",
       "        [ 0.21112224],\n",
       "        [ 0.33055702],\n",
       "        [ 0.33055702]],\n",
       "\n",
       "       [[ 7.38788182],\n",
       "        [ 0.2519489 ],\n",
       "        [14.60067523],\n",
       "        [ 0.30040094],\n",
       "        [ 0.03698675],\n",
       "        [ 0.61682779],\n",
       "        [ 0.5355423 ],\n",
       "        [14.60067523],\n",
       "        [ 1.12314645],\n",
       "        [ 1.03675523]]])"
      ]
     },
     "execution_count": 53,
     "metadata": {},
     "output_type": "execute_result"
    }
   ],
   "source": [
    "rv2 = RandomVariable(mle_samples)\n",
    "rv_arr = RVArray([rv,rv2])\n",
    "rv_arr.fit_dist('norm')\n",
    "rv_arr.sample(size = 10)"
   ]
  },
  {
   "cell_type": "code",
   "execution_count": 54,
   "metadata": {},
   "outputs": [
    {
     "name": "stderr",
     "output_type": "stream",
     "text": [
      "100%|██████████████████████████████████████████████████████████████████████████████████| 50/50 [00:05<00:00,  9.34it/s]\n"
     ]
    }
   ],
   "source": [
    "#hide\n",
    "# kde methods performance evaluation\n",
    "from time import time\n",
    "from tqdm import tqdm\n",
    "\n",
    "\n",
    "n_samples = 400\n",
    "\n",
    "\n",
    "dist = stats.norm(loc = 20, scale = 10)\n",
    "tree_kde = [[],[]]\n",
    "fft_kde = [[],[]]\n",
    "adapatative_kde = [[],[]]\n",
    "entropies = []\n",
    "n_samples_list = []\n",
    "for i in tqdm([*range(50)]):\n",
    "    \n",
    "    #samples = np.stack([dist.rvs(n_samples),dist.rvs(n_samples),dist.rvs(n_samples),dist.rvs(n_samples),dist.rvs(n_samples),dist.rvs(n_samples),\n",
    "    #               ], axis = -1)\n",
    "    n_samples = int(max(2,10**(i/12)))\n",
    "    n_samples_list.append(n_samples)\n",
    "    samples = dist.rvs(n_samples)\n",
    "    samples = samples if len(samples.shape) > 1 else samples.reshape(-1,1)\n",
    "    \n",
    "    bimodal_msk = np.random.randint(0,2,samples.shape[0]).astype(bool)\n",
    "\n",
    "    samples[bimodal_msk] = -abs(samples[bimodal_msk])\n",
    "\n",
    "    \n",
    "    n_dim = samples.shape[-1]    \n",
    "    resolution = int(10000**(1/n_dim))\n",
    "    \n",
    "    entropies.append(dist.entropy()*n_dim)\n",
    "    if 0:#resolution**n_dim > 100000:\n",
    "        tic = time()\n",
    "        kde = kdepy.FFTKDE(bw = 'ISJ')\n",
    "        bw = [kde.bw(samples[:,i:i+1]) for i in range(samples.shape[-1])]        \n",
    "        kde = kdepy.TreeKDE(bw = bw).fit(samples)\n",
    "        evaluate = kde.evaluate(samples)\n",
    "        entr = np.mean(-np.log(evaluate[1]))\n",
    "        toc = time()\n",
    "        tree_kde[0].append(entr)\n",
    "        tree_kde[1].append(toc-tic)\n",
    "        #kde_values = evaluate[0]\n",
    "        #kde_pdf = evaluate[1]\n",
    "    if 1:           \n",
    "        tic = time()\n",
    "        kde = kdepy.FFTKDE(bw = 'scott')\n",
    "        bw = [kde.bw(samples[:,i:i+1]) for i in range(samples.shape[-1])]\n",
    "        kde = kdepy.FFTKDE(bw = bw).fit(samples)\n",
    "        evaluate = kde.evaluate(resolution)\n",
    "        #kde_values = evaluate[0]\n",
    "        kde_pdf = evaluate[1]\n",
    "        #idxs = euclidean_distances(kde.data,kde_values).argmin(axis = 1)\n",
    "        #kde_pdf = kde_pdf[idxs]\n",
    "        #kde_values = kde_values[idxs]\n",
    "        kde_pdf = np.random.choice(kde_pdf,p = kde_pdf/kde_pdf.sum(), size = 1000)\n",
    "        entr = np.mean(-np.log(kde_pdf))\n",
    "        toc = time()\n",
    "        fft_kde[0].append(entr)\n",
    "        fft_kde[1].append(toc-tic)\n",
    "    if 1:\n",
    "        tic = time()\n",
    "        g = awkde.GaussianKDE(glob_bw = 'scott',alpha = 0.5)\n",
    "        g.fit(samples)\n",
    "        entr = np.mean(-np.log(g.predict(g.sample(100))))        \n",
    "        toc = time()\n",
    "        adapatative_kde[0].append(entr)\n",
    "        adapatative_kde[1].append(toc-tic)\n",
    "        \n",
    "\n",
    "#dist.entropy(), np.mean(-np.log(kde_pdf)/n_dim), resolution"
   ]
  },
  {
   "cell_type": "code",
   "execution_count": 55,
   "metadata": {},
   "outputs": [
    {
     "data": {
      "text/plain": [
       "3.7215236261987186"
      ]
     },
     "execution_count": 55,
     "metadata": {},
     "output_type": "execute_result"
    },
    {
     "data": {
      "image/png": "[encoded data removed]",
      "text/plain": [
       "<Figure size 432x288 with 1 Axes>"
      ]
     },
     "metadata": {
      "needs_background": "light"
     },
     "output_type": "display_data"
    }
   ],
   "source": [
    "#hide\n",
    "import matplotlib.pyplot as plt\n",
    "#sns.distplot((np.array(tree_kde[0]) - np.array(entropies))/np.array(entropies))\n",
    "sns.distplot((np.array(fft_kde[0]) - np.array(entropies))/np.array(entropies), label = 'KDEpy')\n",
    "sns.distplot((np.array(adapatative_kde[0]) - np.array(entropies))/np.array(entropies), label = 'awkde')\n",
    "plt.legend()\n",
    "np.array(entropies).mean()\n"
   ]
  },
  {
   "cell_type": "code",
   "execution_count": 56,
   "metadata": {},
   "outputs": [
    {
     "data": {
      "text/plain": [
       "Text(0, 0.5, 'log(time in seconds)')"
      ]
     },
     "execution_count": 56,
     "metadata": {},
     "output_type": "execute_result"
    },
    {
     "data": {
      "image/png": "[encoded data removed]",
      "text/plain": [
       "<Figure size 432x288 with 1 Axes>"
      ]
     },
     "metadata": {
      "needs_background": "light"
     },
     "output_type": "display_data"
    }
   ],
   "source": [
    "#hide\n",
    "#sns.distplot(np.log10(np.array(tree_kde[1])[np.array(tree_kde[1])>0]))\n",
    "plt.scatter(np.log10(np.array(n_samples_list))[np.array(adapatative_kde[1])>0],np.log10(np.array(adapatative_kde[1])[np.array(adapatative_kde[1])>0]), label = 'awkde')\n",
    "plt.scatter(np.log10(np.array(n_samples_list))[np.array(fft_kde[1])>0],np.log10(np.array(fft_kde[1])[np.array(fft_kde[1])>0]), label = 'KDEpy')\n",
    "plt.legend()\n",
    "plt.xlabel('log(n_samples)')\n",
    "plt.ylabel('log(time in seconds)')\n",
    "#sns.distplot(np.log10(np.array(fft_kde[1])[np.array(fft_kde[1])>0]))\n"
   ]
  },
  {
   "cell_type": "code",
   "execution_count": 57,
   "metadata": {},
   "outputs": [
    {
     "data": {
      "image/png": "[encoded data removed]",
      "text/plain": [
       "<Figure size 432x288 with 1 Axes>"
      ]
     },
     "metadata": {
      "needs_background": "light"
     },
     "output_type": "display_data"
    }
   ],
   "source": [
    "#hide\n",
    "if np.array(samples).shape[1] == 1:\n",
    "    #plt.scatter(samples[:,0],dist.pdf(samples))\n",
    "    #plt.scatter(samples[:,0],kde.evaluate(samples), color = 'r')\n",
    "    plt.scatter(samples[:,0],g.predict(samples))\n",
    "    plt.scatter(*kde.evaluate(256))"
   ]
  },
  {
   "cell_type": "markdown",
   "metadata": {},
   "source": [
    "# Export -"
   ]
  },
  {
   "cell_type": "code",
   "execution_count": 58,
   "metadata": {},
   "outputs": [
    {
     "name": "stdout",
     "output_type": "stream",
     "text": [
      "Converted 00_core.ipynb.\n",
      "Converted 01_ensemble.ipynb.\n",
      "Converted 02_core.random_variable.ipynb.\n",
      "Converted 03_utils.ipynb.\n"
     ]
    }
   ],
   "source": [
    "#hide\n",
    "from nbdev.export import notebook2script\n",
    "notebook2script()"
   ]
  },
  {
   "cell_type": "code",
   "execution_count": null,
   "metadata": {},
   "outputs": [],
   "source": []
  }
 ],
 "metadata": {
  "kernelspec": {
   "display_name": "Python 3",
   "language": "python",
   "name": "python3"
  },
  "language_info": {
   "codemirror_mode": {
    "name": "ipython",
    "version": 3
   },
   "file_extension": ".py",
   "mimetype": "text/x-python",
   "name": "python",
   "nbconvert_exporter": "python",
   "pygments_lexer": "ipython3",
   "version": "3.7.6"
  },
  "latex_envs": {
   "LaTeX_envs_menu_present": true,
   "autoclose": false,
   "autocomplete": true,
   "bibliofile": "biblio.bib",
   "cite_by": "apalike",
   "current_citInitial": 1,
   "eqLabelWithNumbers": true,
   "eqNumInitial": 1,
   "hotkeys": {
    "equation": "Ctrl-E",
    "itemize": "Ctrl-I"
   },
   "labels_anchors": false,
   "latex_user_defs": false,
   "report_style_numbering": false,
   "user_envs_cfg": false
  },
  "toc": {
   "base_numbering": 1,
   "nav_menu": {},
   "number_sections": true,
   "sideBar": true,
   "skip_h1_title": false,
   "title_cell": "Table of Contents",
   "title_sidebar": "Contents",
   "toc_cell": false,
   "toc_position": {},
   "toc_section_display": true,
   "toc_window_display": false
  }
 },
 "nbformat": 4,
 "nbformat_minor": 4
}
