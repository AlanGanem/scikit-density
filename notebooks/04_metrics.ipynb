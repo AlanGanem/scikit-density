{
 "cells": [
  {
   "cell_type": "code",
   "execution_count": 2,
   "metadata": {},
   "outputs": [],
   "source": [
    "#default_exp metrics"
   ]
  },
  {
   "cell_type": "code",
   "execution_count": 3,
   "metadata": {},
   "outputs": [],
   "source": [
    "#hide\n",
    "from nbdev.showdoc import *"
   ]
  },
  {
   "cell_type": "code",
   "execution_count": 4,
   "metadata": {},
   "outputs": [],
   "source": [
    "#hide\n",
    "%load_ext autoreload\n",
    "%autoreload 2\n",
    "\n",
    "import sys\n",
    "sys.path.append('..')"
   ]
  },
  {
   "cell_type": "markdown",
   "metadata": {},
   "source": [
    "# Dev comments"
   ]
  },
  {
   "cell_type": "markdown",
   "metadata": {},
   "source": [
    "- [X] TODO: make entropy estimator with KDE\n",
    "- [X] TODO: make quantile func\n",
    "- [ ] TODO: make Gaussian Mixture entropy estimation\n",
    "- [ ] TODO: make multicore sampling for kde"
   ]
  },
  {
   "cell_type": "markdown",
   "metadata": {},
   "source": [
    "# Imports -"
   ]
  },
  {
   "cell_type": "code",
   "execution_count": 5,
   "metadata": {},
   "outputs": [],
   "source": [
    "#export\n",
    "from tqdm.notebook import tqdm\n",
    "\n",
    "import numpy as np\n",
    "from sklearn.metrics import pairwise\n",
    "from scipy import stats\n",
    "from sklearn.preprocessing import QuantileTransformer\n",
    "\n",
    "from skdensity.core.random_variable import KDE, RandomVariable\n",
    "from skdensity.utils import (\n",
    "    draw_from,\n",
    "    _fix_one_sample_2d, _fix_one_dist_2d, _fix_dist_1d,\n",
    "    _fix_X_1d, _assert_dim_3d, _assert_dim_1d, _assert_dim_2d, _fix_one_dist_1d,\n",
    "    _add_n_samples_axis\n",
    ")"
   ]
  },
  {
   "cell_type": "markdown",
   "metadata": {},
   "source": [
    "# Test data"
   ]
  },
  {
   "cell_type": "markdown",
   "metadata": {},
   "source": [
    "We are going to test utils using the following data:"
   ]
  },
  {
   "cell_type": "code",
   "execution_count": 6,
   "metadata": {},
   "outputs": [],
   "source": [
    "#documentation imports\n",
    "import warnings\n",
    "import seaborn as sns\n",
    "import matplotlib.pyplot as plt\n",
    "warnings.filterwarnings('ignore')"
   ]
  },
  {
   "cell_type": "code",
   "execution_count": 7,
   "metadata": {},
   "outputs": [],
   "source": [
    "#data\n",
    "y_dists = np.hstack([np.random.randn(10,200,2), np.random.randn(10,200,2)+5])\n",
    "y_true = np.hstack([np.random.randn(10,1,2)])\n",
    "\n",
    "y_dists_1d = np.random.randn(10,200,1)\n",
    "y_true_1d = np.random.randn(10,1,1)"
   ]
  },
  {
   "cell_type": "markdown",
   "metadata": {},
   "source": [
    "# `Metrics` -"
   ]
  },
  {
   "cell_type": "code",
   "execution_count": 8,
   "metadata": {},
   "outputs": [],
   "source": [
    "#export\n",
    "def _check_kde_metrics_input(y_true, y_dists, frac):\n",
    "    '''\n",
    "    preprocesses inputs for kde metrics calculation\n",
    "    '''\n",
    "    y_dists = _assert_dim_3d(y_dists)\n",
    "\n",
    "    if len(y_true.shape) <= 3:\n",
    "        assert y_true.shape[0] == y_dists.shape[0], f'y_true dim 0 should be equal y_dists dim 0, got {y_true.shape[0]} and {y_dists.shape[0]}'\n",
    "    else:\n",
    "        raise Exception(f'y_true dims should less or equal to 3, got {len(y_true.shape)}')\n",
    "\n",
    "    y_true = _fix_one_sample_2d(y_true)\n",
    "\n",
    "    assert y_true.shape[-1] == y_dists.shape[-1], f'y_true and y_dists last axis (n_dims) should be equal. got {y_true.shape[-1]} and {y_dists.shape[-1]}'\n",
    "\n",
    "    idxs = np.arange(y_true.shape[0])\n",
    "    idxs = draw_from(idxs, frac)\n",
    "\n",
    "    y_dists = y_dists[idxs]\n",
    "    y_true = y_true[idxs]\n",
    "    return y_true, y_dists"
   ]
  },
  {
   "cell_type": "markdown",
   "metadata": {},
   "source": [
    "## `kde_entropy`"
   ]
  },
  {
   "cell_type": "code",
   "execution_count": 9,
   "metadata": {},
   "outputs": [],
   "source": [
    "#export\n",
    "def kde_entropy(data, sample_size = 200, frac = 1.0, progress_bar = False, **kde_kwargs):\n",
    "    '''\n",
    "    Calculates the entropy of multiple continuous distributions. entropy equals np.mean(-np.log(p(x)))\n",
    "    input should be of shape (n_distributions, n_sample_per_distribution, n_dims_in_distribtuion)\n",
    "    '''\n",
    "    data = _fix_one_dist_2d(data)\n",
    "    data = _assert_dim_3d(data)\n",
    "    kde = KDE(**kde_kwargs)\n",
    "    data = draw_from(data, frac)\n",
    "    if progress_bar:\n",
    "        return np.array([kde.fit(d).entropy(sample_size = sample_size) for d in tqdm(data)])\n",
    "    else:\n",
    "        return np.array([kde.fit(d).entropy(sample_size = sample_size) for d in data])"
   ]
  },
  {
   "cell_type": "markdown",
   "metadata": {},
   "source": [
    "`kde_entropy` estimates a distribution of an aribtrary dimension random variable using kernel density estimation and calculates its entropy"
   ]
  },
  {
   "cell_type": "code",
   "execution_count": 10,
   "metadata": {},
   "outputs": [
    {
     "data": {
      "text/plain": [
       "array([2.76527246])"
      ]
     },
     "execution_count": 10,
     "metadata": {},
     "output_type": "execute_result"
    }
   ],
   "source": [
    "kde_entropy(y_dists,frac = 0.05, implementation = 'sklearn')"
   ]
  },
  {
   "cell_type": "code",
   "execution_count": 11,
   "metadata": {},
   "outputs": [
    {
     "name": "stdout",
     "output_type": "stream",
     "text": [
      "440 ms ± 41.6 ms per loop (mean ± std. dev. of 7 runs, 1 loop each)\n"
     ]
    }
   ],
   "source": [
    "%%timeit\n",
    "kde_entropy(y_dists, implementation = 'sklearn', bw = 'ISJ')"
   ]
  },
  {
   "cell_type": "markdown",
   "metadata": {},
   "source": [
    "## `kde_likelihood`"
   ]
  },
  {
   "cell_type": "code",
   "execution_count": 12,
   "metadata": {},
   "outputs": [],
   "source": [
    "#export\n",
    "def kde_likelihood(y_true,y_dists, frac = 1.0, progress_bar = False,**kde_kwargs):\n",
    "    '''\n",
    "    Calculates the likelihood of y_true in kde estimation of samples\n",
    "    input should be of shape (n_distributions, n_sample_per_distribution, n_dims_in_distribtuion)\n",
    "    '''\n",
    "    y_true, y_dists = _check_kde_metrics_input(y_true, y_dists, frac)\n",
    "\n",
    "    kde = KDE(**kde_kwargs)\n",
    "    if progress_bar:\n",
    "        likelihoods = np.array([kde.fit(y_dists[i]).evaluate(y_true[i]) for i in tqdm([*range(y_dists.shape[0])])])\n",
    "    else:\n",
    "        likelihoods =  np.array([kde.fit(y_dists[i]).evaluate(y_true[i]) for i in range(y_dists.shape[0])])\n",
    "\n",
    "    return _fix_dist_1d(likelihoods)"
   ]
  },
  {
   "cell_type": "markdown",
   "metadata": {},
   "source": [
    "`kde_likelihood` Calculates the likelihood of y_true in kde estimation of samples"
   ]
  },
  {
   "cell_type": "code",
   "execution_count": 13,
   "metadata": {},
   "outputs": [
    {
     "data": {
      "text/plain": [
       "(4, 3, 1)"
      ]
     },
     "execution_count": 13,
     "metadata": {},
     "output_type": "execute_result"
    }
   ],
   "source": [
    "\n",
    "kde_likelihood(np.random.randn(10, 3 ,2),y_dists, frac = 0.4).shape"
   ]
  },
  {
   "cell_type": "code",
   "execution_count": 14,
   "metadata": {},
   "outputs": [
    {
     "name": "stdout",
     "output_type": "stream",
     "text": [
      "The slowest run took 6.14 times longer than the fastest. This could mean that an intermediate result is being cached.\n",
      "83.2 ms ± 45.9 ms per loop (mean ± std. dev. of 7 runs, 10 loops each)\n"
     ]
    }
   ],
   "source": [
    "%%timeit\n",
    "kde_likelihood(y_true,y_dists, implementation = 'scipy', bw = 'scott')"
   ]
  },
  {
   "cell_type": "markdown",
   "metadata": {},
   "source": [
    "## relative_likelihood"
   ]
  },
  {
   "cell_type": "code",
   "execution_count": 15,
   "metadata": {},
   "outputs": [],
   "source": [
    "def relative_likelihood():\n",
    "    '''\n",
    "    returns the relative likelihood of a point compared to the distribution\n",
    "    likelhood(point)/mean(likleihood(dist))\n",
    "    '''\n",
    "    raise NotImplementedError"
   ]
  },
  {
   "cell_type": "code",
   "execution_count": null,
   "metadata": {},
   "outputs": [],
   "source": []
  },
  {
   "cell_type": "markdown",
   "metadata": {},
   "source": [
    "## `ppf`"
   ]
  },
  {
   "cell_type": "code",
   "execution_count": 16,
   "metadata": {},
   "outputs": [],
   "source": [
    "#export\n",
    "def ppf(percentiles, y_dists):\n",
    "    '''\n",
    "    returns the percent point function for given y_dists and percentiles\n",
    "    expected dims:\n",
    "    percentiles: (n_dists, n_points)\n",
    "    y_dists: (n_dists, n_samples, dims)\n",
    "    '''\n",
    "    assert len(percentiles.shape) == 2, f'percentiles should have 2 dimensions: (n_dists, n_percentiles), got {len(percentiles.shape)}'\n",
    "    assert len(y_dists.shape) == 3, f'y_dists should have 3 dimensions: (n_dists, n_samples, n_dims), got {len(y_dists.shape)}'\n",
    "    assert percentiles.shape[0] == y_dists.shape[0], f'percentiles n_dists should be equal y_dists n_dists. got {percentiles.shape[0]} and {y_dists.shape[0]}'\n",
    "    values = np.array([np.quantile(y_dists[i], percentiles[i], axis = 0) for i in range(y_dists.shape[0])])\n",
    "    return _fix_one_sample_2d(values)"
   ]
  },
  {
   "cell_type": "code",
   "execution_count": 17,
   "metadata": {},
   "outputs": [
    {
     "data": {
      "text/plain": [
       "(10, 100, 2)"
      ]
     },
     "execution_count": 17,
     "metadata": {},
     "output_type": "execute_result"
    },
    {
     "data": {
      "image/png": "[encoded data removed]",
      "text/plain": [
       "<Figure size 432x288 with 1 Axes>"
      ]
     },
     "metadata": {
      "needs_background": "light"
     },
     "output_type": "display_data"
    }
   ],
   "source": [
    "sns.distplot(ppf(np.random.random((10,100)),y_dists)[:,:,0])\n",
    "ppf(np.random.random((10,100)),y_dists).shape"
   ]
  },
  {
   "cell_type": "code",
   "execution_count": null,
   "metadata": {},
   "outputs": [],
   "source": []
  },
  {
   "cell_type": "markdown",
   "metadata": {},
   "source": [
    "## `cdf`"
   ]
  },
  {
   "cell_type": "code",
   "execution_count": 18,
   "metadata": {},
   "outputs": [],
   "source": [
    "#export\n",
    "def _cdf(dist):\n",
    "    '''\n",
    "    returns the cdf of each element in a 1d array (distribution)\n",
    "    '''\n",
    "    _assert_dim_1d(dist)\n",
    "    temp = dist.argsort()\n",
    "    return np.arange(len(dist))[temp.argsort()]/(len(dist)-1)\n",
    "\n",
    "def cdf(y_dists):\n",
    "    '''\n",
    "    returns the cdf of each element in each 1d dist\n",
    "    '''\n",
    "    y_dists = _assert_dim_3d(y_dists)\n",
    "    arr = np.zeros(y_dists.shape)\n",
    "    for dist in np.arange(y_dists.shape[0]):\n",
    "        for dim in np.arange(y_dists.shape[-1]):\n",
    "            arr[dist,:,dim] = _cdf(y_dists[dist,:,dim])\n",
    "\n",
    "    return arr"
   ]
  },
  {
   "cell_type": "code",
   "execution_count": 19,
   "metadata": {},
   "outputs": [
    {
     "name": "stdout",
     "output_type": "stream",
     "text": [
      "1.31 ms ± 53.8 µs per loop (mean ± std. dev. of 7 runs, 1000 loops each)\n"
     ]
    }
   ],
   "source": [
    "%timeit cdf(y_dists)"
   ]
  },
  {
   "cell_type": "code",
   "execution_count": null,
   "metadata": {},
   "outputs": [],
   "source": []
  },
  {
   "cell_type": "markdown",
   "metadata": {},
   "source": [
    "## `quantile`"
   ]
  },
  {
   "cell_type": "code",
   "execution_count": 20,
   "metadata": {},
   "outputs": [],
   "source": [
    "#export\n",
    "def quantile(y_true, y_dists):\n",
    "    '''\n",
    "    checks in which quantile lies y_true, given the predicted distribution\n",
    "    y_true shape should be of shape (n_dists, n_samples ,n_dims)\n",
    "    y_dists_should be of shape (n_dists, n_samples, n_dims)\n",
    "    '''\n",
    "\n",
    "    y_true = _fix_one_sample_2d(y_true)\n",
    "    y_dists = _assert_dim_3d(y_dists)\n",
    "    assert y_true.shape[0] == y_dists.shape[0], 'number of dists should be the same as number of points'\n",
    "\n",
    "    values = []\n",
    "    for i in range(y_true.shape[0]):\n",
    "        values.append([])\n",
    "        for j in range(y_true.shape[1]):\n",
    "            values[i].append((y_true[i,j].T >= y_dists[i]).mean(axis = 0))\n",
    "\n",
    "    return _fix_one_sample_2d(np.array(values))"
   ]
  },
  {
   "cell_type": "markdown",
   "metadata": {},
   "source": [
    "`quantile` checks the quantile of each dimension of an observation `y_true` given an empirical distribution `y_dists`"
   ]
  },
  {
   "cell_type": "code",
   "execution_count": 21,
   "metadata": {},
   "outputs": [
    {
     "data": {
      "text/plain": [
       "array([[[0.1525, 0.2275]],\n",
       "\n",
       "       [[0.345 , 0.1025]],\n",
       "\n",
       "       [[0.305 , 0.39  ]],\n",
       "\n",
       "       [[0.1875, 0.4575]],\n",
       "\n",
       "       [[0.3225, 0.31  ]],\n",
       "\n",
       "       [[0.4675, 0.1275]],\n",
       "\n",
       "       [[0.4075, 0.2925]],\n",
       "\n",
       "       [[0.26  , 0.3775]],\n",
       "\n",
       "       [[0.24  , 0.3425]],\n",
       "\n",
       "       [[0.1425, 0.3075]]])"
      ]
     },
     "execution_count": 21,
     "metadata": {},
     "output_type": "execute_result"
    }
   ],
   "source": [
    "quantile(y_true, y_dists)"
   ]
  },
  {
   "cell_type": "code",
   "execution_count": 22,
   "metadata": {},
   "outputs": [
    {
     "name": "stdout",
     "output_type": "stream",
     "text": [
      "338 µs ± 60.6 µs per loop (mean ± std. dev. of 7 runs, 1000 loops each)\n"
     ]
    }
   ],
   "source": [
    "%%timeit\n",
    "quantile(y_true, y_dists)"
   ]
  },
  {
   "cell_type": "markdown",
   "metadata": {},
   "source": [
    "## `kde_quantile`"
   ]
  },
  {
   "cell_type": "code",
   "execution_count": 26,
   "metadata": {},
   "outputs": [],
   "source": [
    "#export\n",
    "def kde_quantile(y_true, y_dists, frac = 1.0, progress_bar = False, **kde_kwargs):\n",
    "    '''\n",
    "    fits a kde in a distribution and returns the quantile that a point in y_true belongs to in that distribution\n",
    "    '''\n",
    "    y_true, y_dists = _check_kde_metrics_input(y_true, y_dists, frac = 1)\n",
    "    kde = KDE(**kde_kwargs)\n",
    "    if progress_bar:\n",
    "        return np.array([kde.fit(y_dists[i]).cdf(y_true[i]) for i in tqdm([*range(len(y_dists))])])\n",
    "    else:\n",
    "        return np.array([kde.fit(y_dists[i]).cdf(y_true[i]) for i in range(len(y_dists))])"
   ]
  },
  {
   "cell_type": "markdown",
   "metadata": {},
   "source": [
    "`kde_quantile` fits a kde to each dist in `y_dists` and checks the ppf of `y_true` rowwise"
   ]
  },
  {
   "cell_type": "code",
   "execution_count": 27,
   "metadata": {},
   "outputs": [
    {
     "data": {
      "text/plain": [
       "array([[[[0.137, 0.194]]],\n",
       "\n",
       "\n",
       "       [[[0.347, 0.104]]],\n",
       "\n",
       "\n",
       "       [[[0.308, 0.394]]],\n",
       "\n",
       "\n",
       "       [[[0.175, 0.435]]],\n",
       "\n",
       "\n",
       "       [[[0.321, 0.305]]],\n",
       "\n",
       "\n",
       "       [[[0.437, 0.111]]],\n",
       "\n",
       "\n",
       "       [[[0.411, 0.299]]],\n",
       "\n",
       "\n",
       "       [[[0.29 , 0.388]]],\n",
       "\n",
       "\n",
       "       [[[0.249, 0.356]]],\n",
       "\n",
       "\n",
       "       [[[0.155, 0.303]]]])"
      ]
     },
     "execution_count": 27,
     "metadata": {},
     "output_type": "execute_result"
    }
   ],
   "source": [
    "kde_quantile(y_true, y_dists)"
   ]
  },
  {
   "cell_type": "code",
   "execution_count": 28,
   "metadata": {},
   "outputs": [
    {
     "name": "stdout",
     "output_type": "stream",
     "text": [
      "41.6 ms ± 3.22 ms per loop (mean ± std. dev. of 7 runs, 10 loops each)\n"
     ]
    }
   ],
   "source": [
    "%%timeit\n",
    "kde_quantile(y_true, y_dists)"
   ]
  },
  {
   "cell_type": "markdown",
   "metadata": {},
   "source": [
    "## `quantile_sklearn`"
   ]
  },
  {
   "cell_type": "code",
   "execution_count": 29,
   "metadata": {},
   "outputs": [],
   "source": [
    "#export\n",
    "def quantile_sklearn(y_true, y_dists):\n",
    "    '''checks in which quantile lies y_true, given the predicted distribution, using skleaerns QuantileTransformer'''\n",
    "    y_true, y_dists = _check_kde_metrics_input(y_true, y_dists, frac = 1)\n",
    "    return np.array([QuantileTransformer().fit(y_dists[i]).transform(y_true[i]) for i in range(y_dists.shape[0])])"
   ]
  },
  {
   "cell_type": "markdown",
   "metadata": {},
   "source": [
    "`quantile_sklearn` does the same as `quantile`, but with `sklearn`s `QuantileTransformer`"
   ]
  },
  {
   "cell_type": "code",
   "execution_count": 30,
   "metadata": {},
   "outputs": [
    {
     "data": {
      "text/plain": [
       "array([[[0.15065424, 0.2268348 ]],\n",
       "\n",
       "       [[0.34338763, 0.10048143]],\n",
       "\n",
       "       [[0.30430057, 0.3890906 ]],\n",
       "\n",
       "       [[0.18600675, 0.45821855]],\n",
       "\n",
       "       [[0.32124706, 0.30874167]],\n",
       "\n",
       "       [[0.46804925, 0.12577438]],\n",
       "\n",
       "       [[0.40809728, 0.29131635]],\n",
       "\n",
       "       [[0.25918572, 0.37665702]],\n",
       "\n",
       "       [[0.23969778, 0.34215038]],\n",
       "\n",
       "       [[0.14050299, 0.30788407]]])"
      ]
     },
     "execution_count": 30,
     "metadata": {},
     "output_type": "execute_result"
    }
   ],
   "source": [
    "quantile_sklearn(y_true, y_dists)"
   ]
  },
  {
   "cell_type": "code",
   "execution_count": 31,
   "metadata": {},
   "outputs": [
    {
     "name": "stdout",
     "output_type": "stream",
     "text": [
      "9.71 ms ± 268 µs per loop (mean ± std. dev. of 7 runs, 100 loops each)\n"
     ]
    }
   ],
   "source": [
    "%%timeit\n",
    "quantile_sklearn(y_true, y_dists)"
   ]
  },
  {
   "cell_type": "markdown",
   "metadata": {},
   "source": [
    "## `theoretical_entropy`"
   ]
  },
  {
   "cell_type": "code",
   "execution_count": 37,
   "metadata": {},
   "outputs": [],
   "source": [
    "#export\n",
    "def theoretical_entropy(data, dist = 'norm'):\n",
    "    '''\n",
    "    returns the entropy of the maximum likelihood estiation of `dist` given `data`\n",
    "    dist should be one dimensional for cases when `dist` != 'kde'\n",
    "    '''\n",
    "    data = _assert_dim_3d(data)\n",
    "    return np.array([RandomVariable().fit(data, dist).entropy(dist) for d in data])"
   ]
  },
  {
   "cell_type": "markdown",
   "metadata": {},
   "source": [
    "`theoretical_entropy` returns the entropy of the maximum likelihood estiation of `dist` given `data`\n",
    "    dist should be one dimensional for cases when `dist` != 'kde'"
   ]
  },
  {
   "cell_type": "code",
   "execution_count": 39,
   "metadata": {},
   "outputs": [
    {
     "data": {
      "text/plain": [
       "array([1.43552615, 1.43552615, 1.43552615, 1.43552615, 1.43552615,\n",
       "       1.43552615, 1.43552615, 1.43552615, 1.43552615, 1.43552615])"
      ]
     },
     "execution_count": 39,
     "metadata": {},
     "output_type": "execute_result"
    }
   ],
   "source": [
    "theoretical_entropy(y_dists_1d, dist = 'norm')"
   ]
  },
  {
   "cell_type": "code",
   "execution_count": 40,
   "metadata": {},
   "outputs": [
    {
     "name": "stdout",
     "output_type": "stream",
     "text": [
      "8.44 ms ± 195 µs per loop (mean ± std. dev. of 7 runs, 100 loops each)\n"
     ]
    }
   ],
   "source": [
    "%%timeit\n",
    "theoretical_entropy(y_dists_1d, dist = 'norm')"
   ]
  },
  {
   "cell_type": "markdown",
   "metadata": {},
   "source": [
    "## `marginal_variance`"
   ]
  },
  {
   "cell_type": "code",
   "execution_count": 41,
   "metadata": {},
   "outputs": [],
   "source": [
    "#export\n",
    "def marginal_variance(data):\n",
    "    '''\n",
    "    Calculates the variance for each dimension (marginal) of multiple distributions\n",
    "    input should be of shape (n_distributions, n_sample_per_distribution, n_dims_in_distribtuion)\n",
    "    '''\n",
    "    data = _assert_dim_3d(data)\n",
    "    return data.var(axis = -2)"
   ]
  },
  {
   "cell_type": "markdown",
   "metadata": {},
   "source": [
    "`marginal_variance` Calculates the variance for each dimension (marginal) of multiple distributions\n",
    "    input should be of shape (n_distributions, n_sample_per_distribution, n_dims_in_distribtuion)"
   ]
  },
  {
   "cell_type": "code",
   "execution_count": 42,
   "metadata": {},
   "outputs": [
    {
     "data": {
      "text/plain": [
       "array([[6.86687699, 7.1531277 ],\n",
       "       [7.35160203, 7.10943149],\n",
       "       [7.04696018, 6.93981836],\n",
       "       [7.10407335, 7.14802336],\n",
       "       [7.22071499, 7.30302201],\n",
       "       [7.23956112, 7.24550096],\n",
       "       [7.62341841, 7.12720148],\n",
       "       [7.70847659, 6.64648609],\n",
       "       [7.42569946, 7.11027344],\n",
       "       [7.37377854, 7.11825858]])"
      ]
     },
     "execution_count": 42,
     "metadata": {},
     "output_type": "execute_result"
    }
   ],
   "source": [
    "marginal_variance(y_dists)"
   ]
  },
  {
   "cell_type": "markdown",
   "metadata": {},
   "source": [
    "## `covariance_matrix` "
   ]
  },
  {
   "cell_type": "code",
   "execution_count": 43,
   "metadata": {},
   "outputs": [],
   "source": [
    "#export\n",
    "def covariance_matrix(data):\n",
    "    '''\n",
    "    Calculates the variance for each dimension (marginal) of multiple distributions\n",
    "    input should be of shape (n_distributions, n_sample_per_distribution, n_dims_in_distribtuion)\n",
    "    '''\n",
    "    raise NotImplementedError"
   ]
  },
  {
   "cell_type": "markdown",
   "metadata": {},
   "source": [
    "## `bimodal_split`"
   ]
  },
  {
   "cell_type": "code",
   "execution_count": 47,
   "metadata": {},
   "outputs": [],
   "source": [
    "#export    \n",
    "def bimodal_split(data, filter_size = 3, lb = 0.1,ub = 0.9):\n",
    "    '''\n",
    "    reutrns siplitting point of single distribution in two according to the highest value of the derivative of cpdf\n",
    "    '''\n",
    "\n",
    "    _assert_dim_1d(data)\n",
    "    filter_size = int(np.ceil(filter_size)) if filter_size >= 1 else int(max(1,np.ceil(data.shape[0]*filter_size)))\n",
    "    data.sort()\n",
    "    data = filter_borders(data,lb,ub)\n",
    "    diff = np.diff(data)\n",
    "    v = np.ones(filter_size)/filter_size\n",
    "    diff = np.convolve(a = diff,v = v, mode = 'same')\n",
    "    argmax = np.argmax(diff)\n",
    "    split_point = (data[min(data.shape[0] - 1,argmax + filter_size)] + data[argmax])/2\n",
    "    return split_point"
   ]
  },
  {
   "cell_type": "markdown",
   "metadata": {},
   "source": [
    "`bimodal_split` reutrns siplitting point of single distribution in two according to the highest value of the derivative of cpdf"
   ]
  },
  {
   "cell_type": "code",
   "execution_count": 48,
   "metadata": {
    "scrolled": true
   },
   "outputs": [
    {
     "data": {
      "text/plain": [
       "2.5980453840797124"
      ]
     },
     "execution_count": 48,
     "metadata": {},
     "output_type": "execute_result"
    }
   ],
   "source": [
    "bimodal_split(y_dists[0,:,0], filter_size = 3, lb = 0.1,ub = 0.9)"
   ]
  },
  {
   "cell_type": "code",
   "execution_count": 49,
   "metadata": {},
   "outputs": [
    {
     "name": "stdout",
     "output_type": "stream",
     "text": [
      "28 µs ± 531 ns per loop (mean ± std. dev. of 7 runs, 10000 loops each)\n"
     ]
    }
   ],
   "source": [
    "%%timeit\n",
    "bimodal_split(y_dists[0,:,0], filter_size = 3, lb = 0.1,ub = 0.9)"
   ]
  },
  {
   "cell_type": "markdown",
   "metadata": {},
   "source": [
    "## `agg_smallest_distance`"
   ]
  },
  {
   "cell_type": "code",
   "execution_count": 50,
   "metadata": {},
   "outputs": [],
   "source": [
    "#export\n",
    "def agg_smallest_distance(data, agg_func = np.mean):\n",
    "    '''\n",
    "    returns the agregate (defined by agg_func) distance of each point and their closest neighbor\n",
    "    recieves array of shape (n_dists,n_samples, n_dims) and reutrns array of shape (n_dists, n_dims)\n",
    "    weights should be of shape (n_dists, n_samples, n_dims)\n",
    "    '''\n",
    "    _assert_dim_3d(data)\n",
    "    data = np.sort(data, axis = 1)\n",
    "    data = np.diff(data, axis = 1)\n",
    "    results = agg_func(data, axis = 1)\n",
    "    return results\n",
    "\n",
    "def cov_smallest_distance(data, agg_func = np.mean):\n",
    "    '''\n",
    "    returns the covariance matrix of the distances of each point and their closest neighbor\n",
    "    recieves array of shape (n_dists,n_samples, n_dims) and reutrns array of shape (n_dists, n_dims)\n",
    "    '''\n",
    "    _assert_dim_3d(data)\n",
    "    data = np.sort(data, axis = 1)\n",
    "    data = np.diff(data, axis = 1)\n",
    "    results = np.array([np.cov(i, rowvar = False) for i in data])\n",
    "    return results"
   ]
  },
  {
   "cell_type": "code",
   "execution_count": 51,
   "metadata": {},
   "outputs": [
    {
     "ename": "AssertionError",
     "evalue": "shape of weights should match data wieghts. got (1, 400, 2) and (1, 399, 2)",
     "output_type": "error",
     "traceback": [
      "\u001b[1;31m---------------------------------------------------------------------------\u001b[0m",
      "\u001b[1;31mAssertionError\u001b[0m                            Traceback (most recent call last)",
      "\u001b[1;32m<ipython-input-51-63e5d8079f01>\u001b[0m in \u001b[0;36m<module>\u001b[1;34m\u001b[0m\n\u001b[1;32m----> 1\u001b[1;33m \u001b[0mbw\u001b[0m \u001b[1;33m=\u001b[0m \u001b[0magg_smallest_distance\u001b[0m\u001b[1;33m(\u001b[0m\u001b[0my_dists\u001b[0m\u001b[1;33m[\u001b[0m\u001b[1;36m0\u001b[0m\u001b[1;33m:\u001b[0m\u001b[1;36m1\u001b[0m\u001b[1;33m]\u001b[0m\u001b[1;33m,\u001b[0m \u001b[0mnp\u001b[0m\u001b[1;33m.\u001b[0m\u001b[0mmean\u001b[0m\u001b[1;33m,\u001b[0m \u001b[0mweights\u001b[0m \u001b[1;33m=\u001b[0m \u001b[0mnp\u001b[0m\u001b[1;33m.\u001b[0m\u001b[0mones\u001b[0m\u001b[1;33m(\u001b[0m\u001b[0my_dists\u001b[0m\u001b[1;33m[\u001b[0m\u001b[1;36m0\u001b[0m\u001b[1;33m:\u001b[0m\u001b[1;36m1\u001b[0m\u001b[1;33m]\u001b[0m\u001b[1;33m.\u001b[0m\u001b[0mshape\u001b[0m\u001b[1;33m)\u001b[0m\u001b[1;33m)\u001b[0m\u001b[1;33m.\u001b[0m\u001b[0mmax\u001b[0m\u001b[1;33m(\u001b[0m\u001b[1;33m)\u001b[0m\u001b[1;33m\u001b[0m\u001b[1;33m\u001b[0m\u001b[0m\n\u001b[0m",
      "\u001b[1;32m<ipython-input-50-462a44dd6835>\u001b[0m in \u001b[0;36magg_smallest_distance\u001b[1;34m(data, agg_func, weights)\u001b[0m\n\u001b[0;32m     10\u001b[0m     \u001b[0mdata\u001b[0m \u001b[1;33m=\u001b[0m \u001b[0mnp\u001b[0m\u001b[1;33m.\u001b[0m\u001b[0mdiff\u001b[0m\u001b[1;33m(\u001b[0m\u001b[0mdata\u001b[0m\u001b[1;33m,\u001b[0m \u001b[0maxis\u001b[0m \u001b[1;33m=\u001b[0m \u001b[1;36m1\u001b[0m\u001b[1;33m)\u001b[0m\u001b[1;33m\u001b[0m\u001b[1;33m\u001b[0m\u001b[0m\n\u001b[0;32m     11\u001b[0m     \u001b[1;32mif\u001b[0m \u001b[1;32mnot\u001b[0m \u001b[0mweights\u001b[0m \u001b[1;32mis\u001b[0m \u001b[1;32mNone\u001b[0m\u001b[1;33m:\u001b[0m\u001b[1;33m\u001b[0m\u001b[1;33m\u001b[0m\u001b[0m\n\u001b[1;32m---> 12\u001b[1;33m         \u001b[1;32massert\u001b[0m \u001b[0mweights\u001b[0m\u001b[1;33m.\u001b[0m\u001b[0mshape\u001b[0m \u001b[1;33m==\u001b[0m \u001b[0mdata\u001b[0m\u001b[1;33m.\u001b[0m\u001b[0mshape\u001b[0m\u001b[1;33m,\u001b[0m \u001b[1;34mf'shape of weights should match data wieghts. got {weights.shape} and {data.shape}'\u001b[0m\u001b[1;33m\u001b[0m\u001b[1;33m\u001b[0m\u001b[0m\n\u001b[0m\u001b[0;32m     13\u001b[0m         \u001b[0mdata\u001b[0m \u001b[1;33m=\u001b[0m \u001b[0mweights\u001b[0m\u001b[1;33m*\u001b[0m\u001b[0mdata\u001b[0m\u001b[1;33m\u001b[0m\u001b[1;33m\u001b[0m\u001b[0m\n\u001b[0;32m     14\u001b[0m     \u001b[0mresults\u001b[0m \u001b[1;33m=\u001b[0m \u001b[0magg_func\u001b[0m\u001b[1;33m(\u001b[0m\u001b[0mdata\u001b[0m\u001b[1;33m,\u001b[0m \u001b[0maxis\u001b[0m \u001b[1;33m=\u001b[0m \u001b[1;36m1\u001b[0m\u001b[1;33m)\u001b[0m\u001b[1;33m\u001b[0m\u001b[1;33m\u001b[0m\u001b[0m\n",
      "\u001b[1;31mAssertionError\u001b[0m: shape of weights should match data wieghts. got (1, 400, 2) and (1, 399, 2)"
     ]
    }
   ],
   "source": [
    "bw = agg_smallest_distance(y_dists[0:1], np.mean, weights = np.ones(y_dists[0:1].shape)).max()"
   ]
  },
  {
   "cell_type": "code",
   "execution_count": 33,
   "metadata": {},
   "outputs": [
    {
     "name": "stdout",
     "output_type": "stream",
     "text": [
      "0.029043275439543447\n"
     ]
    },
    {
     "data": {
      "text/plain": [
       "<matplotlib.collections.PathCollection at 0x267457f22c8>"
      ]
     },
     "execution_count": 33,
     "metadata": {},
     "output_type": "execute_result"
    },
    {
     "data": {
      "image/png": "[encoded data removed]",
      "text/plain": [
       "<Figure size 432x288 with 1 Axes>"
      ]
     },
     "metadata": {
      "needs_background": "light"
     },
     "output_type": "display_data"
    }
   ],
   "source": [
    "print(bw)\n",
    "sns.distplot(y_dists[0])\n",
    "sns.distplot(KDE(bw = 'scott', implementation = 'sklearn').fit(y_dists[0]).sample(1000))\n",
    "sns.distplot(KDE(bw = bw, implementation = 'sklearn').fit(y_dists[0]).sample(1000))"
   ]
  },
  {
   "cell_type": "code",
   "execution_count": 37,
   "metadata": {},
   "outputs": [
    {
     "data": {
      "text/plain": [
       "<seaborn.axisgrid.JointGrid at 0x2674568ce88>"
      ]
     },
     "execution_count": 37,
     "metadata": {},
     "output_type": "execute_result"
    },
    {
     "data": {
      "image/png": "[encoded data removed]",
      "text/plain": [
       "<Figure size 432x432 with 3 Axes>"
      ]
     },
     "metadata": {
      "needs_background": "light"
     },
     "output_type": "display_data"
    }
   ],
   "source": [
    "from sklearn.datasets import make_moons\n",
    "moons, _ = make_moons(1000, noise = 0.2)\n",
    "moons = moons.reshape(1, *moons.shape)\n",
    "cov_smallest_distance(moons)\n",
    "\n",
    "dists = np.diff(np.sort(moons, axis = 1), axis = 1)\n",
    "sns.jointplot(dists[0,:,0],dists[0,:,1])\n"
   ]
  },
  {
   "cell_type": "markdown",
   "metadata": {},
   "source": [
    "## `mad` "
   ]
  },
  {
   "cell_type": "code",
   "execution_count": 676,
   "metadata": {},
   "outputs": [],
   "source": [
    "#export\n",
    "def mad(data):\n",
    "    '''\n",
    "    calculates mean average deviance (a robust version of standard deviation)\n",
    "    '''\n",
    "    np.median(np.absolute(data - np.median(data)))\n",
    "    pass"
   ]
  },
  {
   "cell_type": "markdown",
   "metadata": {},
   "source": [
    "## `bimodal_variance` "
   ]
  },
  {
   "cell_type": "code",
   "execution_count": 8,
   "metadata": {},
   "outputs": [],
   "source": [
    "#export\n",
    "def bimodal_variance(data, filter_size = 0.05, lb = 0.1,ub = 0.9):\n",
    "    '''\n",
    "    returns weighted marginal variance of splitted data in two according to the highest value of the derivative of cpdf\n",
    "    returns a variance array of shape (n_dists, n_dims)\n",
    "    '''\n",
    "    data = _assert_dim_3d(data)\n",
    "    #make split point\n",
    "    #GENERALIZE FOR MULTIDIM\n",
    "    mses = []\n",
    "    for dist in range(data.shape[0]):\n",
    "        mses.append([])\n",
    "        for dim in range(data.shape[2]):\n",
    "            d = data[dist,:,dim]\n",
    "            split_point = bimodal_split(d, filter_size, lb ,ub)\n",
    "            arr1, arr2 = d[d >= split_point], d[d < split_point]\n",
    "            mses[dist].append((arr1.shape[0]*(arr1.var()) + arr2.shape[0]*(arr2.var()))/d.shape[0])\n",
    "    #average variance\n",
    "    return np.array(mses)"
   ]
  },
  {
   "cell_type": "markdown",
   "metadata": {},
   "source": [
    "`bimodal_variance` returns weighted variance of splitted data in two according to the highest value of the derivative of cpdf\n",
    "    returns a variance array of shape (n_dists, n_dims)"
   ]
  },
  {
   "cell_type": "code",
   "execution_count": 9,
   "metadata": {},
   "outputs": [
    {
     "ename": "NameError",
     "evalue": "name 'y_dists' is not defined",
     "output_type": "error",
     "traceback": [
      "\u001b[1;31m---------------------------------------------------------------------------\u001b[0m",
      "\u001b[1;31mNameError\u001b[0m                                 Traceback (most recent call last)",
      "\u001b[1;32m<ipython-input-9-a8e9c1b068a4>\u001b[0m in \u001b[0;36m<module>\u001b[1;34m\u001b[0m\n\u001b[1;32m----> 1\u001b[1;33m \u001b[0mbimodal_variance\u001b[0m\u001b[1;33m(\u001b[0m\u001b[0my_dists\u001b[0m\u001b[1;33m,\u001b[0m \u001b[0mfilter_size\u001b[0m \u001b[1;33m=\u001b[0m \u001b[1;36m0.05\u001b[0m\u001b[1;33m,\u001b[0m \u001b[0mlb\u001b[0m \u001b[1;33m=\u001b[0m \u001b[1;36m0.1\u001b[0m\u001b[1;33m,\u001b[0m\u001b[0mub\u001b[0m \u001b[1;33m=\u001b[0m \u001b[1;36m0.9\u001b[0m\u001b[1;33m)\u001b[0m\u001b[1;33m\u001b[0m\u001b[1;33m\u001b[0m\u001b[0m\n\u001b[0m",
      "\u001b[1;31mNameError\u001b[0m: name 'y_dists' is not defined"
     ]
    }
   ],
   "source": [
    "bimodal_variance(y_dists, filter_size = 0.05, lb = 0.1,ub = 0.9)"
   ]
  },
  {
   "cell_type": "code",
   "execution_count": 684,
   "metadata": {},
   "outputs": [
    {
     "name": "stdout",
     "output_type": "stream",
     "text": [
      "1.31 ms ± 20.6 µs per loop (mean ± std. dev. of 7 runs, 1000 loops each)\n"
     ]
    }
   ],
   "source": [
    "%%timeit\n",
    "bimodal_var(y_dists, filter_size = 0.05, lb = 0.1,ub = 0.9)"
   ]
  },
  {
   "cell_type": "markdown",
   "metadata": {},
   "source": [
    "## `gaussian_distance_entropy`"
   ]
  },
  {
   "cell_type": "code",
   "execution_count": null,
   "metadata": {},
   "outputs": [],
   "source": [
    "#export\n",
    "def gaussian_distance_entropy(data):\n",
    "    '''\n",
    "    calculates the entropy of the distribution of distances from centroid of points in dist, assuming normal distribution\n",
    "    '''\n",
    "    return -np.log(expected_distance_gaussian_likelihood(data))"
   ]
  },
  {
   "cell_type": "markdown",
   "metadata": {},
   "source": [
    "## `expected_distance_gaussian_likelihood`"
   ]
  },
  {
   "cell_type": "code",
   "execution_count": null,
   "metadata": {},
   "outputs": [],
   "source": [
    "#export\n",
    "def expected_distance_gaussian_likelihood(data):\n",
    "    '''\n",
    "    calculates the expected likelihood of the distances from centroid of samples in distributions in dist\n",
    "    input should be of shape (n_distributions, n_sample_per_distribution, n_dims_in_distribtuion)\n",
    "    '''\n",
    "    dist = _assert_dim_3d(data)\n",
    "    return np.array([distance_gaussian_likelihood(d).mean() for d in data])"
   ]
  },
  {
   "cell_type": "markdown",
   "metadata": {},
   "source": [
    "## `distance_gaussian_likelihood`"
   ]
  },
  {
   "cell_type": "code",
   "execution_count": 600,
   "metadata": {},
   "outputs": [],
   "source": [
    "#export\n",
    "def distance_gaussian_likelihood(data):\n",
    "    '''\n",
    "    calculates the expected likelihood of the distances from the centroid of samples in dist\n",
    "    '''\n",
    "    centroid = data.mean(axis = 0).reshape(1,-1)\n",
    "    distances =  pairwise.euclidean_distances(data, centroid).flatten()\n",
    "    distance_std = distances.std()\n",
    "    if distance_std == 0:\n",
    "        return 1\n",
    "    z = (distances - distances.mean())/distance_std\n",
    "    return 1/(distance_std*np.pi**(1/2))*np.exp(-1/2*z**2)"
   ]
  },
  {
   "cell_type": "markdown",
   "metadata": {},
   "source": [
    "# Helping functions - "
   ]
  },
  {
   "cell_type": "markdown",
   "metadata": {},
   "source": [
    "## `make_outlier_filter`"
   ]
  },
  {
   "cell_type": "code",
   "execution_count": 687,
   "metadata": {},
   "outputs": [],
   "source": [
    "#export\n",
    "def make_outlier_filter(data, lb = 25, ub = 75, c = 1):\n",
    "    a = np.array(data)\n",
    "    upper_quartile = np.percentile(a, ub)\n",
    "    lower_quartile = np.percentile(a, lb)\n",
    "    iqr = (upper_quartile - lower_quartile) * c\n",
    "    lb = lower_quartile - iqr\n",
    "    ub = upper_quartile + iqr\n",
    "    filter_ = np.zeros(a.shape)\n",
    "    filter_[(a >= lb) & (a <= ub)] = 1\n",
    "    return filter_"
   ]
  },
  {
   "cell_type": "markdown",
   "metadata": {},
   "source": [
    "## `filter_borders`"
   ]
  },
  {
   "cell_type": "code",
   "execution_count": 46,
   "metadata": {},
   "outputs": [],
   "source": [
    "#export\n",
    "def filter_borders(data, lb = 0.05, ub = 0.95):\n",
    "    lb = int(len(data)*lb)\n",
    "    ub = int(len(data)*ub)\n",
    "    return data[lb:ub]\n",
    "\n",
    "#def distance_log_variance(dist):\n",
    "#    '''variance of the distances of points to centroid of distribution'''\n",
    "#    centroid = dist.mean(axis = 0).reshape(1,-1)\n",
    "#    distances =  pairwise.euclidean_distances(dist, centroid).flatten()\n",
    "#    return distances.var()"
   ]
  },
  {
   "cell_type": "markdown",
   "metadata": {},
   "source": [
    "# Export -"
   ]
  },
  {
   "cell_type": "code",
   "execution_count": 225,
   "metadata": {},
   "outputs": [
    {
     "name": "stdout",
     "output_type": "stream",
     "text": [
      "Converted 01_ensemble.ipynb.\n",
      "Converted 02_core.random_variable.ipynb.\n",
      "Converted 03_utils.ipynb.\n",
      "Converted 04_metrics.ipynb.\n",
      "Converted 05_neighbors.ipynb.\n",
      "Converted 06_kde_baesyan_nets.ipynb.\n",
      "Converted index.ipynb.\n"
     ]
    }
   ],
   "source": [
    "#hide\n",
    "from nbdev.export import notebook2script\n",
    "notebook2script()"
   ]
  },
  {
   "cell_type": "code",
   "execution_count": 22,
   "metadata": {},
   "outputs": [
    {
     "data": {
      "text/markdown": [
       "<h4 id=\"kde_entropy\" class=\"doc_header\"><code>kde_entropy</code><a href=\"__main__.py#L2\" class=\"source_link\" style=\"float:right\">[source]</a></h4>\n",
       "\n",
       "> <code>kde_entropy</code>(**`data`**, **`sample_size`**=*`10000`*, **`bw`**=*`'ISJ'`*)\n",
       "\n",
       "Calculates the entropy of multiple distributions\n",
       "input should be of shape (n_distributions, n_sample_per_distribution, n_dims_in_distribtuion)"
      ],
      "text/plain": [
       "<IPython.core.display.Markdown object>"
      ]
     },
     "metadata": {},
     "output_type": "display_data"
    }
   ],
   "source": [
    "#hide\n",
    "from nbdev.showdoc import show_doc\n",
    "show_doc(kde_entropy)"
   ]
  },
  {
   "cell_type": "code",
   "execution_count": null,
   "metadata": {},
   "outputs": [],
   "source": []
  }
 ],
 "metadata": {
  "kernelspec": {
   "display_name": "Python 3",
   "language": "python",
   "name": "python3"
  },
  "language_info": {
   "codemirror_mode": {
    "name": "ipython",
    "version": 3
   },
   "file_extension": ".py",
   "mimetype": "text/x-python",
   "name": "python",
   "nbconvert_exporter": "python",
   "pygments_lexer": "ipython3",
   "version": "3.7.6"
  },
  "latex_envs": {
   "LaTeX_envs_menu_present": true,
   "autoclose": false,
   "autocomplete": true,
   "bibliofile": "biblio.bib",
   "cite_by": "apalike",
   "current_citInitial": 1,
   "eqLabelWithNumbers": true,
   "eqNumInitial": 1,
   "hotkeys": {
    "equation": "Ctrl-E",
    "itemize": "Ctrl-I"
   },
   "labels_anchors": false,
   "latex_user_defs": false,
   "report_style_numbering": false,
   "user_envs_cfg": false
  },
  "toc": {
   "base_numbering": 1,
   "nav_menu": {},
   "number_sections": true,
   "sideBar": true,
   "skip_h1_title": false,
   "title_cell": "Table of Contents",
   "title_sidebar": "Contents",
   "toc_cell": false,
   "toc_position": {
    "height": "calc(100% - 180px)",
    "left": "10px",
    "top": "150px",
    "width": "341.315px"
   },
   "toc_section_display": true,
   "toc_window_display": true
  }
 },
 "nbformat": 4,
 "nbformat_minor": 4
}
