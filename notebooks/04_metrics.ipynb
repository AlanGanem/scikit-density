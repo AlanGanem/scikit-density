{
 "cells": [
  {
   "cell_type": "code",
   "execution_count": 1,
   "metadata": {},
   "outputs": [],
   "source": [
    "#default_exp metrics"
   ]
  },
  {
   "cell_type": "code",
   "execution_count": 2,
   "metadata": {},
   "outputs": [],
   "source": [
    "#hide\n",
    "from nbdev.showdoc import *"
   ]
  },
  {
   "cell_type": "code",
   "execution_count": 3,
   "metadata": {},
   "outputs": [],
   "source": [
    "#hide\n",
    "%load_ext autoreload\n",
    "%autoreload 2\n",
    "\n",
    "import sys\n",
    "sys.path.append('..')"
   ]
  },
  {
   "cell_type": "markdown",
   "metadata": {},
   "source": [
    "# Dev comments"
   ]
  },
  {
   "cell_type": "markdown",
   "metadata": {},
   "source": [
    "- [X] TODO: make entropy estimator with KDE\n",
    "- [X] TODO: make quantile func\n",
    "- [ ] TODO: make Gaussian Mixture entropy estimation"
   ]
  },
  {
   "cell_type": "markdown",
   "metadata": {},
   "source": [
    "# Imports -"
   ]
  },
  {
   "cell_type": "code",
   "execution_count": 7,
   "metadata": {},
   "outputs": [
    {
     "data": {
      "text/plain": [
       "array([[ 8.50929219e-01, -1.28019761e-01],\n",
       "       [ 2.92724507e-01, -8.50980853e-02],\n",
       "       [-6.94117028e-01, -1.12725161e+00],\n",
       "       [-3.08428075e-01, -6.04288132e-01],\n",
       "       [ 4.65298655e-01,  5.75556350e-01],\n",
       "       [-6.55849763e-01,  1.83692045e+00],\n",
       "       [ 2.28571355e-01, -4.48161387e-01],\n",
       "       [-7.86980916e-01, -6.08785650e-01],\n",
       "       [-7.94334083e-02, -8.80467503e-01],\n",
       "       [ 1.14693587e+00, -6.01776398e-01],\n",
       "       [-1.61151685e+00,  2.67085474e-02],\n",
       "       [ 1.58999219e+00, -8.08981717e-01],\n",
       "       [-1.60985591e-01, -9.84344616e-01],\n",
       "       [ 1.76712606e+00,  1.05808375e+00],\n",
       "       [-4.47777710e-01, -9.10271476e-02],\n",
       "       [ 5.06028462e-01, -8.61489673e-01],\n",
       "       [ 8.38234211e-01, -9.15954035e-01],\n",
       "       [ 9.07776461e-01,  1.19285987e+00],\n",
       "       [ 1.25942921e-01, -1.83435660e+00],\n",
       "       [-1.53645458e+00, -2.19237688e-01],\n",
       "       [-1.16829680e+00, -1.39074050e+00],\n",
       "       [-2.15197116e-02,  4.85128085e-01],\n",
       "       [ 1.55637164e-01, -2.24331626e+00],\n",
       "       [-3.89305961e-01,  9.36766530e-01],\n",
       "       [-7.21366686e-01, -3.32645495e-01],\n",
       "       [-1.61273563e+00,  5.08910217e-01],\n",
       "       [-5.67980947e-01,  1.23923424e+00],\n",
       "       [-9.46247471e-01,  4.07820202e-01],\n",
       "       [ 9.24923834e-02, -1.41552376e+00],\n",
       "       [ 9.14121377e-01, -6.86636087e-01],\n",
       "       [ 1.33513472e+00, -6.63710288e-01],\n",
       "       [-6.34426002e-01, -4.51800853e-01],\n",
       "       [-7.39675449e-01, -4.85299742e-01],\n",
       "       [-5.40032576e-01, -3.04891062e+00],\n",
       "       [-1.76502485e-01, -8.13219856e-01],\n",
       "       [-1.05959517e+00, -1.30576079e-01],\n",
       "       [-8.03419478e-01, -1.02248310e+00],\n",
       "       [ 1.03842747e+00, -1.13428718e+00],\n",
       "       [ 7.94177236e-01,  1.35473774e+00],\n",
       "       [ 3.22358650e-01,  9.42177316e-01],\n",
       "       [ 2.22618268e-01, -3.79211550e-01],\n",
       "       [-1.67685920e+00,  6.47238629e-01],\n",
       "       [ 7.19517184e-01,  9.07356336e-01],\n",
       "       [-6.00505351e-01,  2.13236336e-01],\n",
       "       [ 4.70773002e-01,  5.59480220e-01],\n",
       "       [-3.37809049e-01, -5.58697296e-01],\n",
       "       [-1.68054551e-01,  6.32246349e-01],\n",
       "       [ 2.41621297e-01, -9.54179226e-01],\n",
       "       [ 4.66098336e-01, -3.82872794e-01],\n",
       "       [-3.70334624e-01, -6.80100182e-01],\n",
       "       [-7.30446937e-01, -1.46328867e+00],\n",
       "       [ 8.85650136e-01, -3.81063266e-02],\n",
       "       [ 1.33913686e+00,  1.52375185e+00],\n",
       "       [-2.01569329e+00,  6.06211045e-02],\n",
       "       [ 6.30314709e-01, -5.24025320e-01],\n",
       "       [-1.63455086e+00, -6.16268952e-04],\n",
       "       [ 6.44344918e-01, -1.28313525e+00],\n",
       "       [-2.42457096e-01,  8.02527306e-01],\n",
       "       [ 3.03783509e-01, -4.32365993e-01],\n",
       "       [ 1.23925542e+00, -1.77380415e-01],\n",
       "       [-1.89820908e+00, -1.14019280e+00],\n",
       "       [ 7.89954249e-01,  6.59460590e-02],\n",
       "       [-3.95614786e-01,  6.68940520e-01],\n",
       "       [ 1.37003225e+00, -1.21045516e+00],\n",
       "       [ 1.24110416e-01,  7.94332960e-01],\n",
       "       [-3.89180318e-01,  8.65102396e-01],\n",
       "       [-6.78934933e-01, -9.35896576e-01],\n",
       "       [-9.52313313e-01,  1.95297303e-01],\n",
       "       [-4.01216691e-01, -2.08942525e-01],\n",
       "       [-9.72984722e-01,  1.78845371e-01],\n",
       "       [ 2.35358395e-01,  1.58855979e+00],\n",
       "       [ 8.27778677e-01, -4.33394611e-01],\n",
       "       [ 9.02811898e-01, -9.57164227e-01],\n",
       "       [ 7.33821375e-01, -1.95800641e+00],\n",
       "       [ 5.44863205e-01, -1.17017102e+00],\n",
       "       [ 1.45448722e+00, -1.90944447e-01],\n",
       "       [ 4.05559629e-02, -1.17673007e-01],\n",
       "       [-9.90630000e-01, -3.38279584e-02],\n",
       "       [ 7.04485456e-01, -2.56979245e-01],\n",
       "       [ 1.07694055e+00,  1.10948163e+00],\n",
       "       [ 1.55161510e-01,  7.42462496e-01],\n",
       "       [-3.35588813e-01, -2.93414487e-01],\n",
       "       [-7.67578353e-01, -1.25591507e+00],\n",
       "       [ 6.35806706e-01,  2.05928757e-02],\n",
       "       [ 2.61124927e-01,  2.66385292e-01],\n",
       "       [-8.30244345e-01, -8.82482857e-01],\n",
       "       [-5.65196284e-01, -8.02649633e-01],\n",
       "       [-2.45558201e+00,  1.04111228e+00],\n",
       "       [-1.59604248e+00, -6.70082718e-01],\n",
       "       [-7.66354151e-01,  2.01633431e+00],\n",
       "       [ 2.85558083e-02, -9.67053662e-01],\n",
       "       [-1.31136150e+00,  1.89787732e+00],\n",
       "       [ 4.88954461e-01,  6.53794448e-02],\n",
       "       [-6.47001402e-01, -5.90892805e-02],\n",
       "       [-8.72826246e-01,  1.17077852e+00],\n",
       "       [ 1.13463549e+00, -1.17372318e+00],\n",
       "       [-6.30585593e-01, -4.36042343e-01],\n",
       "       [ 1.31057001e+00, -1.70763337e+00],\n",
       "       [-2.53628105e-01, -2.23663748e+00],\n",
       "       [-2.19430539e-01,  9.24717537e-03]])"
      ]
     },
     "execution_count": 7,
     "metadata": {},
     "output_type": "execute_result"
    }
   ],
   "source": [
    "#export\n",
    "import numpy as np\n",
    "from sklearn.metrics import pairwise\n",
    "from scipy import stats\n",
    "from sklearn.preprocessing import QuantileTransformer\n",
    "\n",
    "from scikit_density.core.random_variable import KDE, RandomVariable\n",
    "from scikit_density.utils import (\n",
    "    _fix_one_sample_2d, _fix_one_dist_2d, _fix_dist_1d,\n",
    "    _fix_X_1d, _assert_dim_3d, _assert_dim_1d, _assert_dim_2d, _fix_one_dist_1d\n",
    ")\n"
   ]
  },
  {
   "cell_type": "markdown",
   "metadata": {},
   "source": [
    "# Test data"
   ]
  },
  {
   "cell_type": "markdown",
   "metadata": {},
   "source": [
    "We are going to test utils using the following data:"
   ]
  },
  {
   "cell_type": "code",
   "execution_count": 642,
   "metadata": {},
   "outputs": [],
   "source": [
    "#documentation imports\n",
    "import warnings\n",
    "import seaborn as sns\n",
    "import matplotlib.pyplot as plt\n",
    "warnings.filterwarnings('ignore')"
   ]
  },
  {
   "cell_type": "code",
   "execution_count": 13,
   "metadata": {},
   "outputs": [],
   "source": [
    "#data\n",
    "y_dists = np.random.randn(10,200,2)\n",
    "y_true = np.random.randn(10,1,2)\n",
    "\n",
    "y_dists_1d = np.random.randn(10,200,1)\n",
    "y_true_1d = np.random.randn(10,1,1)"
   ]
  },
  {
   "cell_type": "markdown",
   "metadata": {},
   "source": [
    "# `Metrics` -"
   ]
  },
  {
   "cell_type": "markdown",
   "metadata": {},
   "source": [
    "## `kde_entropy`"
   ]
  },
  {
   "cell_type": "code",
   "execution_count": 14,
   "metadata": {},
   "outputs": [],
   "source": [
    "#export\n",
    "def kde_entropy(data, sample_size = 10000, **kde_kwargs):\n",
    "    '''\n",
    "    Calculates the entropy of multiple continuous distributions. entropy equals np.mean(-np.log(p(x)))\n",
    "    input should be of shape (n_distributions, n_sample_per_distribution, n_dims_in_distribtuion)\n",
    "    '''\n",
    "    data = _assert_dim_3d(data)\n",
    "    return np.array([KDE(**kde_kwargs).fit(d).entropy(sample_size = sample_size) for d in data])"
   ]
  },
  {
   "cell_type": "markdown",
   "metadata": {},
   "source": [
    "`kde_entropy` estimates a distribution of an aribtrary dimension random variable using kernel density estimation and calculates its entropy"
   ]
  },
  {
   "cell_type": "code",
   "execution_count": 15,
   "metadata": {},
   "outputs": [
    {
     "data": {
      "text/plain": [
       "array([4.31820291, 4.29283959, 4.35741535, 4.34262252, 4.19655634,\n",
       "       4.3395498 , 4.14877126, 4.33761258, 4.40963779, 4.21663598])"
      ]
     },
     "execution_count": 15,
     "metadata": {},
     "output_type": "execute_result"
    }
   ],
   "source": [
    "kde_entropy(y_dists)"
   ]
  },
  {
   "cell_type": "code",
   "execution_count": 16,
   "metadata": {},
   "outputs": [
    {
     "name": "stdout",
     "output_type": "stream",
     "text": [
      "300 ms ± 10.6 ms per loop (mean ± std. dev. of 7 runs, 1 loop each)\n"
     ]
    }
   ],
   "source": [
    "%%timeit\n",
    "kde_entropy(y_dists)"
   ]
  },
  {
   "cell_type": "markdown",
   "metadata": {},
   "source": [
    "## `kde_likelihood`"
   ]
  },
  {
   "cell_type": "code",
   "execution_count": 17,
   "metadata": {},
   "outputs": [],
   "source": [
    "#export\n",
    "def kde_likelihood(y_true,samples, **kde_kwargs):\n",
    "    '''\n",
    "    Calculates the likelihood of y_true in kde estimation of samples\n",
    "    input should be of shape (n_distributions, n_sample_per_distribution, n_dims_in_distribtuion)\n",
    "    '''\n",
    "    data = _assert_dim_3d(samples)\n",
    "    return np.array([KDE(**kde_kwargs).fit(samples[i]).evaluate(y_true[i:i+1]) for i in range(samples.shape[0])])"
   ]
  },
  {
   "cell_type": "markdown",
   "metadata": {},
   "source": [
    "`kde_likelihood` Calculates the likelihood of y_true in kde estimation of samples"
   ]
  },
  {
   "cell_type": "code",
   "execution_count": 18,
   "metadata": {},
   "outputs": [
    {
     "data": {
      "text/plain": [
       "array([[0.11703671],\n",
       "       [0.11222167],\n",
       "       [0.01766762],\n",
       "       [0.02654011],\n",
       "       [0.18783367],\n",
       "       [0.15143951],\n",
       "       [0.0343707 ],\n",
       "       [0.02111608],\n",
       "       [0.03682947],\n",
       "       [0.19200231]])"
      ]
     },
     "execution_count": 18,
     "metadata": {},
     "output_type": "execute_result"
    }
   ],
   "source": [
    "kde_likelihood(y_true,y_dists)"
   ]
  },
  {
   "cell_type": "code",
   "execution_count": 19,
   "metadata": {},
   "outputs": [
    {
     "name": "stdout",
     "output_type": "stream",
     "text": [
      "7.37 ms ± 97.1 µs per loop (mean ± std. dev. of 7 runs, 100 loops each)\n"
     ]
    }
   ],
   "source": [
    "%%timeit\n",
    "kde_likelihood(y_true,y_dists)"
   ]
  },
  {
   "cell_type": "markdown",
   "metadata": {},
   "source": [
    "## relative_likelihood"
   ]
  },
  {
   "cell_type": "code",
   "execution_count": null,
   "metadata": {},
   "outputs": [],
   "source": [
    "def relative_likelihood"
   ]
  },
  {
   "cell_type": "code",
   "execution_count": null,
   "metadata": {},
   "outputs": [],
   "source": []
  },
  {
   "cell_type": "markdown",
   "metadata": {},
   "source": [
    "## `naive_bimodal_gaussian_likelihood`"
   ]
  },
  {
   "cell_type": "code",
   "execution_count": null,
   "metadata": {},
   "outputs": [],
   "source": [
    "#ESTIMATE A BIMODAL GAUSSIAN BASED ON MEAN AND STD OF BLOBS AFTER BIMODAL_SPLITR"
   ]
  },
  {
   "cell_type": "code",
   "execution_count": null,
   "metadata": {},
   "outputs": [],
   "source": []
  },
  {
   "cell_type": "markdown",
   "metadata": {},
   "source": [
    "## `quantile`"
   ]
  },
  {
   "cell_type": "code",
   "execution_count": 647,
   "metadata": {},
   "outputs": [],
   "source": [
    "#export\n",
    "def quantile(y_true, pred_dist):\n",
    "    '''checks in which quantile lies y_true, given the predicted distribution'''    \n",
    "    y_true = _fix_X_1d(y_true)\n",
    "    y_true = _fix_one_sample_2d(y_true)\n",
    "    pred_dist = _assert_dim_3d(pred_dist)\n",
    "    assert y_true.shape[0] == pred_dist.shape[0], 'number of dists should be the same as number of points'\n",
    "    return _fix_one_dist_2d(np.array([(y_true[i].T >= pred_dist[i].T).mean(axis = 1) for i in range(len(y_true))]))"
   ]
  },
  {
   "cell_type": "markdown",
   "metadata": {},
   "source": [
    "`quantile` checks the quantile of each dimension of an observation `y_true` given an empirical distribution `y_dists`"
   ]
  },
  {
   "cell_type": "code",
   "execution_count": 648,
   "metadata": {},
   "outputs": [
    {
     "data": {
      "text/plain": [
       "array([[[0.725, 0.015],\n",
       "        [0.945, 0.695],\n",
       "        [0.54 , 0.17 ],\n",
       "        [0.05 , 0.34 ],\n",
       "        [0.77 , 0.11 ],\n",
       "        [0.625, 0.705],\n",
       "        [0.925, 0.24 ],\n",
       "        [0.705, 0.805],\n",
       "        [0.99 , 0.67 ],\n",
       "        [0.18 , 0.655]]])"
      ]
     },
     "execution_count": 648,
     "metadata": {},
     "output_type": "execute_result"
    }
   ],
   "source": [
    "quantile(y_true, y_dists)"
   ]
  },
  {
   "cell_type": "code",
   "execution_count": 649,
   "metadata": {},
   "outputs": [
    {
     "name": "stdout",
     "output_type": "stream",
     "text": [
      "150 µs ± 3.09 µs per loop (mean ± std. dev. of 7 runs, 10000 loops each)\n"
     ]
    }
   ],
   "source": [
    "%%timeit\n",
    "quantile(y_true, y_dists)"
   ]
  },
  {
   "cell_type": "markdown",
   "metadata": {},
   "source": [
    "## `quantile_sklearn`"
   ]
  },
  {
   "cell_type": "code",
   "execution_count": 650,
   "metadata": {},
   "outputs": [],
   "source": [
    "#export\n",
    "def quantile_sklearn(y_true, pred_dist):\n",
    "    '''checks in which quantile lies y_true, given the predicted distribution, using skleaerns QuantileTransformer'''\n",
    "    y_true = _fix_X_1d(y_true)\n",
    "    y_true = _fix_one_sample_2d(y_true)\n",
    "    assert y_true.shape[0] == pred_dist.shape[0], 'number of dists should be the same as number of points'\n",
    "    return np.array([QuantileTransformer().fit(pred_dist[i]).transform(y_true[i]) for i in range(pred_dist.shape[0])])"
   ]
  },
  {
   "cell_type": "markdown",
   "metadata": {},
   "source": [
    "`quantile_sklearn` does the same as `quantile`, but with `sklearn`s `QuantileTransformer`"
   ]
  },
  {
   "cell_type": "code",
   "execution_count": 651,
   "metadata": {},
   "outputs": [
    {
     "data": {
      "text/plain": [
       "array([[[0.7278008 , 0.01447408]],\n",
       "\n",
       "       [[0.9496229 , 0.69639994]],\n",
       "\n",
       "       [[0.53860615, 0.1690896 ]],\n",
       "\n",
       "       [[0.04560922, 0.34077751]],\n",
       "\n",
       "       [[0.76982081, 0.10779354]],\n",
       "\n",
       "       [[0.62630501, 0.70365157]],\n",
       "\n",
       "       [[0.92464003, 0.24046056]],\n",
       "\n",
       "       [[0.70444373, 0.80482178]],\n",
       "\n",
       "       [[0.99463003, 0.66871387]],\n",
       "\n",
       "       [[0.17602332, 0.65460287]]])"
      ]
     },
     "execution_count": 651,
     "metadata": {},
     "output_type": "execute_result"
    }
   ],
   "source": [
    "quantile_sklearn(y_true, y_dists)"
   ]
  },
  {
   "cell_type": "code",
   "execution_count": 652,
   "metadata": {},
   "outputs": [
    {
     "name": "stdout",
     "output_type": "stream",
     "text": [
      "5.43 ms ± 85.1 µs per loop (mean ± std. dev. of 7 runs, 100 loops each)\n"
     ]
    }
   ],
   "source": [
    "%%timeit\n",
    "quantile_sklearn(y_true, y_dists)"
   ]
  },
  {
   "cell_type": "markdown",
   "metadata": {},
   "source": [
    "## `theoretical_entropy`"
   ]
  },
  {
   "cell_type": "code",
   "execution_count": 660,
   "metadata": {},
   "outputs": [],
   "source": [
    "#export\n",
    "def theoretical_entropy(data, dist = 'norm'):\n",
    "    '''\n",
    "    returns the entropy of the maximum likelihood estiation of `dist` given `data`\n",
    "    dist should be one dimensional for cases when `dist` != 'kde'\n",
    "    '''    \n",
    "    data = _assert_dim_3d(data)    \n",
    "    return np.array([RandomVariable(d).fit_dist(dist).entropy(dist) for d in data])"
   ]
  },
  {
   "cell_type": "markdown",
   "metadata": {},
   "source": [
    "`theoretical_entropy` returns the entropy of the maximum likelihood estiation of `dist` given `data`\n",
    "    dist should be one dimensional for cases when `dist` != 'kde'"
   ]
  },
  {
   "cell_type": "code",
   "execution_count": 668,
   "metadata": {},
   "outputs": [
    {
     "data": {
      "text/plain": [
       "array([1.30701586, 1.51849768, 1.49686731, 1.49346887, 1.33472044,\n",
       "       1.33898642, 1.3316598 , 1.44444205, 1.43230334, 1.49410763])"
      ]
     },
     "execution_count": 668,
     "metadata": {},
     "output_type": "execute_result"
    }
   ],
   "source": [
    "theoretical_entropy(y_dists_1d, dist = 'norm')"
   ]
  },
  {
   "cell_type": "code",
   "execution_count": 666,
   "metadata": {},
   "outputs": [
    {
     "name": "stdout",
     "output_type": "stream",
     "text": [
      "6.9 ms ± 187 µs per loop (mean ± std. dev. of 7 runs, 100 loops each)\n"
     ]
    }
   ],
   "source": [
    "%%timeit\n",
    "theoretical_entropy(y_dists_1d, dist = 'norm')"
   ]
  },
  {
   "cell_type": "markdown",
   "metadata": {},
   "source": [
    "## `marginal_variance`"
   ]
  },
  {
   "cell_type": "code",
   "execution_count": 639,
   "metadata": {},
   "outputs": [],
   "source": [
    "#export\n",
    "def marginal_variance(data):\n",
    "    '''\n",
    "    Calculates the variance for each dimension (marginal) of multiple distributions\n",
    "    input should be of shape (n_distributions, n_sample_per_distribution, n_dims_in_distribtuion)\n",
    "    '''\n",
    "    data = _assert_dim_3d(data)\n",
    "    return data.var(axis = -2)"
   ]
  },
  {
   "cell_type": "markdown",
   "metadata": {},
   "source": [
    "`marginal_variance` Calculates the variance for each dimension (marginal) of multiple distributions\n",
    "    input should be of shape (n_distributions, n_sample_per_distribution, n_dims_in_distribtuion)"
   ]
  },
  {
   "cell_type": "code",
   "execution_count": 640,
   "metadata": {},
   "outputs": [
    {
     "data": {
      "text/plain": [
       "array([[1.07997805, 0.97298247],\n",
       "       [1.08478207, 0.80053107],\n",
       "       [1.04474869, 0.90155785],\n",
       "       [1.06384356, 0.96478837],\n",
       "       [1.05452459, 0.91047929],\n",
       "       [0.90663148, 1.10136982],\n",
       "       [1.01474701, 0.95389312],\n",
       "       [0.86083731, 0.94958826],\n",
       "       [0.96977624, 1.11934001],\n",
       "       [0.92623992, 1.04994311]])"
      ]
     },
     "execution_count": 640,
     "metadata": {},
     "output_type": "execute_result"
    }
   ],
   "source": [
    "marginal_variance(y_dists)"
   ]
  },
  {
   "cell_type": "markdown",
   "metadata": {},
   "source": [
    "## `covariance_matrix` "
   ]
  },
  {
   "cell_type": "code",
   "execution_count": null,
   "metadata": {},
   "outputs": [],
   "source": [
    "#export\n",
    "def covariance_matrix(data):\n",
    "    '''\n",
    "    Calculates the variance for each dimension (marginal) of multiple distributions\n",
    "    input should be of shape (n_distributions, n_sample_per_distribution, n_dims_in_distribtuion)\n",
    "    '''\n",
    "    raise NotImplementedError"
   ]
  },
  {
   "cell_type": "markdown",
   "metadata": {},
   "source": [
    "## `bimodal_split`"
   ]
  },
  {
   "cell_type": "code",
   "execution_count": 672,
   "metadata": {},
   "outputs": [],
   "source": [
    "#export    \n",
    "def bimodal_split(data, filter_size = 3, lb = 0.1,ub = 0.9):\n",
    "    '''\n",
    "    reutrns siplitting point of single distribution in two according to the highest value of the derivative of cpdf\n",
    "    '''\n",
    "    \n",
    "    _assert_dim_1d(data)\n",
    "    filter_size = int(np.ceil(filter_size)) if filter_size >= 1 else int(max(1,np.ceil(data.shape[0]*filter_size)))\n",
    "    data.sort()\n",
    "    data = filter_borders(data,lb,ub)\n",
    "    diff = np.diff(data)    \n",
    "    v = np.ones(filter_size)/filter_size    \n",
    "    diff = np.convolve(a = diff,v = v, mode = 'same')\n",
    "    argmax = np.argmax(diff)\n",
    "    split_point = (data[min(data.shape[0] - 1,argmax + filter_size)] + data[argmax])/2\n",
    "    return split_point"
   ]
  },
  {
   "cell_type": "markdown",
   "metadata": {},
   "source": [
    "`bimodal_split` reutrns siplitting point of single distribution in two according to the highest value of the derivative of cpdf"
   ]
  },
  {
   "cell_type": "code",
   "execution_count": 675,
   "metadata": {
    "scrolled": true
   },
   "outputs": [
    {
     "data": {
      "text/plain": [
       "-1.4383953140490906"
      ]
     },
     "execution_count": 675,
     "metadata": {},
     "output_type": "execute_result"
    }
   ],
   "source": [
    "bimodal_split(y_dists[0,:,0], filter_size = 3, lb = 0.1,ub = 0.9)"
   ]
  },
  {
   "cell_type": "code",
   "execution_count": 678,
   "metadata": {},
   "outputs": [
    {
     "name": "stdout",
     "output_type": "stream",
     "text": [
      "22.4 µs ± 667 ns per loop (mean ± std. dev. of 7 runs, 10000 loops each)\n"
     ]
    }
   ],
   "source": [
    "%%timeit\n",
    "bimodal_split(y_dists[0,:,0], filter_size = 3, lb = 0.1,ub = 0.9)"
   ]
  },
  {
   "cell_type": "markdown",
   "metadata": {},
   "source": [
    "## `mad` "
   ]
  },
  {
   "cell_type": "code",
   "execution_count": 676,
   "metadata": {},
   "outputs": [],
   "source": [
    "#export\n",
    "def mad(data):\n",
    "    '''\n",
    "    calculates mean average deviance (a robust version of standard deviation)\n",
    "    '''\n",
    "    np.median(np.absolute(data - np.mean(data)))\n",
    "    pass"
   ]
  },
  {
   "cell_type": "markdown",
   "metadata": {},
   "source": [
    "## `bimodal_variance` "
   ]
  },
  {
   "cell_type": "code",
   "execution_count": 8,
   "metadata": {},
   "outputs": [],
   "source": [
    "#export\n",
    "def bimodal_variance(data, filter_size = 0.05, lb = 0.1,ub = 0.9):\n",
    "    '''\n",
    "    returns weighted marginal variance of splitted data in two according to the highest value of the derivative of cpdf\n",
    "    returns a variance array of shape (n_dists, n_dims)\n",
    "    '''\n",
    "    data = _assert_dim_3d(data)    \n",
    "    #make split point\n",
    "    #GENERALIZE FOR MULTIDIM\n",
    "    mses = []\n",
    "    for dist in range(data.shape[0]):        \n",
    "        mses.append([])\n",
    "        for dim in range(data.shape[2]):            \n",
    "            d = data[dist,:,dim]\n",
    "            split_point = bimodal_split(d, filter_size, lb ,ub)\n",
    "            arr1, arr2 = d[d >= split_point], d[d < split_point]\n",
    "            mses[dist].append((arr1.shape[0]*(arr1.var()) + arr2.shape[0]*(arr2.var()))/d.shape[0])                            \n",
    "    #average variance    \n",
    "    return np.array(mses)"
   ]
  },
  {
   "cell_type": "markdown",
   "metadata": {},
   "source": [
    "`bimodal_variance` returns weighted variance of splitted data in two according to the highest value of the derivative of cpdf\n",
    "    returns a variance array of shape (n_dists, n_dims)"
   ]
  },
  {
   "cell_type": "code",
   "execution_count": 9,
   "metadata": {},
   "outputs": [
    {
     "ename": "NameError",
     "evalue": "name 'y_dists' is not defined",
     "output_type": "error",
     "traceback": [
      "\u001b[1;31m---------------------------------------------------------------------------\u001b[0m",
      "\u001b[1;31mNameError\u001b[0m                                 Traceback (most recent call last)",
      "\u001b[1;32m<ipython-input-9-a8e9c1b068a4>\u001b[0m in \u001b[0;36m<module>\u001b[1;34m\u001b[0m\n\u001b[1;32m----> 1\u001b[1;33m \u001b[0mbimodal_variance\u001b[0m\u001b[1;33m(\u001b[0m\u001b[0my_dists\u001b[0m\u001b[1;33m,\u001b[0m \u001b[0mfilter_size\u001b[0m \u001b[1;33m=\u001b[0m \u001b[1;36m0.05\u001b[0m\u001b[1;33m,\u001b[0m \u001b[0mlb\u001b[0m \u001b[1;33m=\u001b[0m \u001b[1;36m0.1\u001b[0m\u001b[1;33m,\u001b[0m\u001b[0mub\u001b[0m \u001b[1;33m=\u001b[0m \u001b[1;36m0.9\u001b[0m\u001b[1;33m)\u001b[0m\u001b[1;33m\u001b[0m\u001b[1;33m\u001b[0m\u001b[0m\n\u001b[0m",
      "\u001b[1;31mNameError\u001b[0m: name 'y_dists' is not defined"
     ]
    }
   ],
   "source": [
    "bimodal_variance(y_dists, filter_size = 0.05, lb = 0.1,ub = 0.9)"
   ]
  },
  {
   "cell_type": "code",
   "execution_count": 684,
   "metadata": {},
   "outputs": [
    {
     "name": "stdout",
     "output_type": "stream",
     "text": [
      "1.31 ms ± 20.6 µs per loop (mean ± std. dev. of 7 runs, 1000 loops each)\n"
     ]
    }
   ],
   "source": [
    "%%timeit\n",
    "bimodal_var(y_dists, filter_size = 0.05, lb = 0.1,ub = 0.9)"
   ]
  },
  {
   "cell_type": "markdown",
   "metadata": {},
   "source": [
    "## `gaussian_distance_entropy`"
   ]
  },
  {
   "cell_type": "code",
   "execution_count": null,
   "metadata": {},
   "outputs": [],
   "source": [
    "#export\n",
    "def gaussian_distance_entropy(data):\n",
    "    '''\n",
    "    calculates the entropy of the distribution of distances from centroid of points in dist, assuming normal distribution\n",
    "    '''\n",
    "    return -np.log(expected_distance_gaussian_likelihood(data))"
   ]
  },
  {
   "cell_type": "markdown",
   "metadata": {},
   "source": [
    "## `expected_distance_gaussian_likelihood`"
   ]
  },
  {
   "cell_type": "code",
   "execution_count": null,
   "metadata": {},
   "outputs": [],
   "source": [
    "#export\n",
    "def expected_distance_gaussian_likelihood(data):\n",
    "    '''\n",
    "    calculates the expected likelihood of the distances from centroid of samples in distributions in dist\n",
    "    input should be of shape (n_distributions, n_sample_per_distribution, n_dims_in_distribtuion)\n",
    "    '''\n",
    "    dist = _assert_dim_3d(data)    \n",
    "    return np.array([distance_gaussian_likelihood(d).mean() for d in data])"
   ]
  },
  {
   "cell_type": "markdown",
   "metadata": {},
   "source": [
    "## `distance_gaussian_likelihood`"
   ]
  },
  {
   "cell_type": "code",
   "execution_count": 600,
   "metadata": {},
   "outputs": [],
   "source": [
    "#export\n",
    "def distance_gaussian_likelihood(data):    \n",
    "    '''\n",
    "    calculates the expected likelihood of the distances from the centroid of samples in dist\n",
    "    '''\n",
    "    centroid = data.mean(axis = 0).reshape(1,-1)\n",
    "    distances =  pairwise.euclidean_distances(data, centroid).flatten()  \n",
    "    distance_std = distances.std()\n",
    "    if distance_std == 0:\n",
    "        return 1\n",
    "    z = (distances - distances.mean())/distance_std\n",
    "    return 1/(distance_std*np.pi**(1/2))*np.exp(-1/2*z**2)"
   ]
  },
  {
   "cell_type": "markdown",
   "metadata": {
    "heading_collapsed": true
   },
   "source": [
    "# Helping functions - "
   ]
  },
  {
   "cell_type": "markdown",
   "metadata": {
    "hidden": true
   },
   "source": [
    "## `make_outlier_filter`"
   ]
  },
  {
   "cell_type": "code",
   "execution_count": 687,
   "metadata": {
    "hidden": true
   },
   "outputs": [],
   "source": [
    "#export\n",
    "def make_outlier_filter(data, lb = 25, ub = 75, c = 1):\n",
    "    a = np.array(data)\n",
    "    upper_quartile = np.percentile(a, ub)\n",
    "    lower_quartile = np.percentile(a, lb)\n",
    "    iqr = (upper_quartile - lower_quartile) * c\n",
    "    lb = lower_quartile - iqr\n",
    "    ub = upper_quartile + iqr\n",
    "    filter_ = np.zeros(a.shape)\n",
    "    filter_[(a >= lb) & (a <= ub)] = 1\n",
    "    return filter_"
   ]
  },
  {
   "cell_type": "markdown",
   "metadata": {
    "hidden": true
   },
   "source": [
    "## `filter_borders`"
   ]
  },
  {
   "cell_type": "code",
   "execution_count": 53,
   "metadata": {
    "hidden": true
   },
   "outputs": [],
   "source": [
    "#export\n",
    "def filter_borders(data, lb = 0.05, ub = 0.95):\n",
    "    lb = int(len(data)*lb)\n",
    "    ub = int(len(data)*ub)\n",
    "    return data[lb:ub]\n",
    "\n",
    "#def distance_log_variance(dist):\n",
    "#    '''variance of the distances of points to centroid of distribution'''\n",
    "#    centroid = dist.mean(axis = 0).reshape(1,-1)\n",
    "#    distances =  pairwise.euclidean_distances(dist, centroid).flatten()    \n",
    "#    return distances.var()"
   ]
  },
  {
   "cell_type": "markdown",
   "metadata": {},
   "source": [
    "# Export -"
   ]
  },
  {
   "cell_type": "code",
   "execution_count": 3,
   "metadata": {},
   "outputs": [
    {
     "name": "stdout",
     "output_type": "stream",
     "text": [
      "Converted 00_core.ipynb.\n",
      "Converted 01_ensemble.ipynb.\n",
      "Converted 02_core.random_variable.ipynb.\n",
      "Converted 03_utils.ipynb.\n",
      "Converted 04_metrics.ipynb.\n",
      "Converted 05_neighbors.ipynb.\n",
      "Converted 06_kde_baesyan_nets.ipynb.\n",
      "Converted index.ipynb.\n"
     ]
    }
   ],
   "source": [
    "#hide\n",
    "from nbdev.export import notebook2script\n",
    "notebook2script()"
   ]
  },
  {
   "cell_type": "code",
   "execution_count": 22,
   "metadata": {},
   "outputs": [
    {
     "data": {
      "text/markdown": [
       "<h4 id=\"kde_entropy\" class=\"doc_header\"><code>kde_entropy</code><a href=\"__main__.py#L2\" class=\"source_link\" style=\"float:right\">[source]</a></h4>\n",
       "\n",
       "> <code>kde_entropy</code>(**`data`**, **`sample_size`**=*`10000`*, **`bw`**=*`'ISJ'`*)\n",
       "\n",
       "Calculates the entropy of multiple distributions\n",
       "input should be of shape (n_distributions, n_sample_per_distribution, n_dims_in_distribtuion)"
      ],
      "text/plain": [
       "<IPython.core.display.Markdown object>"
      ]
     },
     "metadata": {},
     "output_type": "display_data"
    }
   ],
   "source": [
    "#hide\n",
    "from nbdev.showdoc import show_doc\n",
    "show_doc(kde_entropy)"
   ]
  },
  {
   "cell_type": "code",
   "execution_count": null,
   "metadata": {},
   "outputs": [],
   "source": []
  }
 ],
 "metadata": {
  "kernelspec": {
   "display_name": "Python 3",
   "language": "python",
   "name": "python3"
  },
  "language_info": {
   "codemirror_mode": {
    "name": "ipython",
    "version": 3
   },
   "file_extension": ".py",
   "mimetype": "text/x-python",
   "name": "python",
   "nbconvert_exporter": "python",
   "pygments_lexer": "ipython3",
   "version": "3.7.6"
  },
  "latex_envs": {
   "LaTeX_envs_menu_present": true,
   "autoclose": false,
   "autocomplete": true,
   "bibliofile": "biblio.bib",
   "cite_by": "apalike",
   "current_citInitial": 1,
   "eqLabelWithNumbers": true,
   "eqNumInitial": 1,
   "hotkeys": {
    "equation": "Ctrl-E",
    "itemize": "Ctrl-I"
   },
   "labels_anchors": false,
   "latex_user_defs": false,
   "report_style_numbering": false,
   "user_envs_cfg": false
  },
  "toc": {
   "base_numbering": 1,
   "nav_menu": {},
   "number_sections": true,
   "sideBar": true,
   "skip_h1_title": false,
   "title_cell": "Table of Contents",
   "title_sidebar": "Contents",
   "toc_cell": false,
   "toc_position": {
    "height": "calc(100% - 180px)",
    "left": "10px",
    "top": "150px",
    "width": "341.333px"
   },
   "toc_section_display": true,
   "toc_window_display": true
  }
 },
 "nbformat": 4,
 "nbformat_minor": 4
}
